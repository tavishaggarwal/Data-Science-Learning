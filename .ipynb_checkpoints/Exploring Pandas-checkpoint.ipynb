{
 "cells": [
  {
   "cell_type": "markdown",
   "metadata": {},
   "source": [
    "## Importing Packages"
   ]
  },
  {
   "cell_type": "code",
   "execution_count": 1,
   "metadata": {},
   "outputs": [],
   "source": [
    "import pandas as pd\n",
    "import matplotlib.pyplot as plt"
   ]
  },
  {
   "cell_type": "markdown",
   "metadata": {},
   "source": [
    "## Reading data"
   ]
  },
  {
   "cell_type": "code",
   "execution_count": 2,
   "metadata": {},
   "outputs": [],
   "source": [
    "tmdbDataSet = pd.read_csv('./Cleaning data/tmdb_5000_movies.csv')"
   ]
  },
  {
   "cell_type": "code",
   "execution_count": null,
   "metadata": {},
   "outputs": [],
   "source": [
    "# Values in the dataset\n",
    "print(tmdbDataSet.values)\n",
    "print(type(tmdbDataSet.values))"
   ]
  },
  {
   "cell_type": "code",
   "execution_count": null,
   "metadata": {},
   "outputs": [],
   "source": [
    "# Creating dataset out of list\n",
    "index = ['Name', 'Salary', 'Age']\n",
    "details = [['Ashok', 'Mike', 'Arun'], [1200, 1400, 2500], [23, 28, 30]]\n",
    "zippedList = list(zip(index, details))\n",
    "dictObject = dict(zippedList)\n",
    "df = pd.DataFrame(dictObject)\n",
    "print(df)"
   ]
  },
  {
   "cell_type": "code",
   "execution_count": null,
   "metadata": {},
   "outputs": [],
   "source": [
    "# Updating column labels\n",
    "list_labels = ['Age(In Years)', 'Name', 'Salary (In $)']\n",
    "df.columns = list_labels\n",
    "print(df)"
   ]
  },
  {
   "cell_type": "code",
   "execution_count": null,
   "metadata": {},
   "outputs": [],
   "source": [
    "# Updating column labels at time of importing dataset\n",
    "tmdbDataSet_rename = pd.read_csv('tmdb_5000_movies.csv', header=0, names=['budget', 'genres', 'home_page', 'id', 'keywords', 'original_language',\n",
    "       'original_title', 'overview', 'popularity', 'production_companies',\n",
    "       'production_countries', 'release_date', 'revenue', 'runtime',\n",
    "       'spoken_languages', 'movie_status', 'tagline', 'title', 'vote_average',\n",
    "       'vote_count'], comment='#')\n",
    "print(tmdbDataSet_rename.head())"
   ]
  },
  {
   "cell_type": "code",
   "execution_count": null,
   "metadata": {},
   "outputs": [],
   "source": [
    "# Exporting dataset ot csv or excel file\n",
    "tmdbDataSet.to_csv('tmdb_movies.csv', index=False)\n",
    "\n",
    "tmdbDataSet.to_excel('tmdb_movies.xlsx', index=False)"
   ]
  },
  {
   "cell_type": "code",
   "execution_count": null,
   "metadata": {},
   "outputs": [],
   "source": [
    "# Plotting datasets\n",
    "tmdbDataSet.plot()\n",
    "plt.show()"
   ]
  },
  {
   "cell_type": "code",
   "execution_count": null,
   "metadata": {},
   "outputs": [],
   "source": [
    "# Plot columns on different charts\n",
    "tmdbDataSet.plot(subplots=True)\n",
    "plt.show()"
   ]
  },
  {
   "cell_type": "code",
   "execution_count": null,
   "metadata": {},
   "outputs": [],
   "source": [
    "# plot selected columns\n",
    "columnList = ['vote_count','budget']\n",
    "tmdbDataSet[columnList].plot(subplots=True)\n",
    "plt.show()"
   ]
  },
  {
   "cell_type": "code",
   "execution_count": null,
   "metadata": {},
   "outputs": [],
   "source": [
    "tmdbDataSet.plot(x='production_companies', y=['budget'])\n",
    "plt.show()"
   ]
  },
  {
   "cell_type": "code",
   "execution_count": null,
   "metadata": {},
   "outputs": [],
   "source": [
    "# Scatter and box plot\n",
    "cols = ['vote_count','budget']\n",
    "\n",
    "tmdbDataSet[cols].plot(kind='box', subplots=True)\n",
    "\n",
    "plt.show()\n",
    "\n",
    "tmdbDataSet.plot(kind='scatter', x='budget', y='vote_count', s=tmdbDataSet.popularity)\n",
    "plt.show()"
   ]
  },
  {
   "cell_type": "code",
   "execution_count": null,
   "metadata": {},
   "outputs": [],
   "source": [
    "# Histogram chart\n",
    "tmdbDataSet.plot(kind='hist', y='vote_average')\n",
    "plt.show()"
   ]
  },
  {
   "cell_type": "code",
   "execution_count": null,
   "metadata": {},
   "outputs": [],
   "source": [
    "# PDF and CDF\n",
    "tmdbDataSet.plot(kind='hist', y='vote_average', normed=True)\n",
    "plt.show()"
   ]
  },
  {
   "cell_type": "code",
   "execution_count": null,
   "metadata": {},
   "outputs": [],
   "source": [
    "# Way of plotting two charts in one charts\n",
    "figure, axes = plt.subplots(nrows=2, ncols=1)\n",
    "\n",
    "tmdbDataSet.plot(ax=axes[0], kind='hist', y='vote_average')\n",
    "tmdbDataSet.plot(ax=axes[1], kind='hist', y='vote_average', normed=True, \n",
    "cumulative=True)\n",
    "\n",
    "plt.show()"
   ]
  },
  {
   "cell_type": "code",
   "execution_count": null,
   "metadata": {},
   "outputs": [],
   "source": [
    "tmdbDataSet_date_index = pd.read_csv('tmdb_5000_movies.csv', index_col='release_date', parse_dates=True)\n",
    "\n",
    "print(tmdbDataSet_date_index.head())\n",
    "print(tmdbDataSet_date_index.loc['2010-Aug-01'].head())\n",
    "print(tmdbDataSet_date_index.loc['2010-01-01 21:00:00':'2010-05-11 22:00:00'].head())"
   ]
  },
  {
   "cell_type": "code",
   "execution_count": null,
   "metadata": {},
   "outputs": [],
   "source": [
    "print(pd.to_datetime(['2010-01-01 21:00:00','2010-05-11 22:00:00'], format='%Y-%m-%d %H:%M'))"
   ]
  },
  {
   "cell_type": "code",
   "execution_count": null,
   "metadata": {},
   "outputs": [],
   "source": [
    "tmdbDataSet.index = [x * 2 for x in range(0, 4803)] "
   ]
  },
  {
   "cell_type": "code",
   "execution_count": null,
   "metadata": {},
   "outputs": [],
   "source": [
    "print(tmdbDataSet.index.name)\n",
    "tmdbDataSet.index.name = 'movie_index'\n",
    "print(tmdbDataSet.index.name)"
   ]
  },
  {
   "cell_type": "code",
   "execution_count": null,
   "metadata": {},
   "outputs": [],
   "source": [
    "tmdbDataSet = tmdbDataSet.set_index(['release_date', 'status'])"
   ]
  },
  {
   "cell_type": "code",
   "execution_count": null,
   "metadata": {},
   "outputs": [],
   "source": [
    "tmdbDataSet = tmdbDataSet.sort_index()"
   ]
  },
  {
   "cell_type": "code",
   "execution_count": null,
   "metadata": {},
   "outputs": [],
   "source": [
    "print(tmdbDataSet.loc[('1916-09-04','Released')])"
   ]
  },
  {
   "cell_type": "code",
   "execution_count": null,
   "metadata": {},
   "outputs": [],
   "source": [
    "print(tmdbDataSet.loc[(['1916-09-04', '2010-03-03'],'Released'), :])"
   ]
  },
  {
   "cell_type": "code",
   "execution_count": null,
   "metadata": {},
   "outputs": [],
   "source": [
    "tmdbDataSet.loc[(slice(None), 'Rumored'), :]"
   ]
  },
  {
   "cell_type": "code",
   "execution_count": 9,
   "metadata": {},
   "outputs": [],
   "source": [
    "tmdbDataSet_dateIndex = pd.read_csv('./Cleaning Data/tmdb_5000_movies.csv', \n",
    "                                    parse_dates=True, index_col='release_date')"
   ]
  },
  {
   "cell_type": "code",
   "execution_count": 17,
   "metadata": {},
   "outputs": [
    {
     "name": "stdout",
     "output_type": "stream",
     "text": [
      "release_date\n",
      "1916-09-04    1\n",
      "1916-09-05    0\n",
      "1916-09-06    0\n",
      "1916-09-07    0\n",
      "1916-09-08    0\n",
      "1916-09-09    0\n",
      "1916-09-10    0\n",
      "1916-09-11    0\n",
      "1916-09-12    0\n",
      "1916-09-13    0\n",
      "1916-09-14    0\n",
      "1916-09-15    0\n",
      "1916-09-16    0\n",
      "1916-09-17    0\n",
      "1916-09-18    0\n",
      "1916-09-19    0\n",
      "1916-09-20    0\n",
      "1916-09-21    0\n",
      "1916-09-22    0\n",
      "1916-09-23    0\n",
      "1916-09-24    0\n",
      "1916-09-25    0\n",
      "1916-09-26    0\n",
      "1916-09-27    0\n",
      "1916-09-28    0\n",
      "1916-09-29    0\n",
      "1916-09-30    0\n",
      "1916-10-01    0\n",
      "1916-10-02    0\n",
      "1916-10-03    0\n",
      "             ..\n",
      "2017-01-05    0\n",
      "2017-01-06    0\n",
      "2017-01-07    0\n",
      "2017-01-08    0\n",
      "2017-01-09    0\n",
      "2017-01-10    0\n",
      "2017-01-11    0\n",
      "2017-01-12    0\n",
      "2017-01-13    0\n",
      "2017-01-14    0\n",
      "2017-01-15    0\n",
      "2017-01-16    0\n",
      "2017-01-17    0\n",
      "2017-01-18    0\n",
      "2017-01-19    0\n",
      "2017-01-20    0\n",
      "2017-01-21    0\n",
      "2017-01-22    0\n",
      "2017-01-23    0\n",
      "2017-01-24    0\n",
      "2017-01-25    0\n",
      "2017-01-26    0\n",
      "2017-01-27    0\n",
      "2017-01-28    0\n",
      "2017-01-29    0\n",
      "2017-01-30    0\n",
      "2017-01-31    0\n",
      "2017-02-01    0\n",
      "2017-02-02    0\n",
      "2017-02-03    1\n",
      "Name: vote_count, Length: 36678, dtype: int64\n"
     ]
    }
   ],
   "source": [
    "print(tmdbDataSet_dateIndex['vote_count'].resample('D').count())"
   ]
  },
  {
   "cell_type": "code",
   "execution_count": 29,
   "metadata": {},
   "outputs": [],
   "source": [
    "# Vote count movies got in August 2009\n",
    "count = tmdbDataSet_dateIndex['vote_count']['2009-Aug']"
   ]
  },
  {
   "cell_type": "code",
   "execution_count": 32,
   "metadata": {},
   "outputs": [
    {
     "name": "stdout",
     "output_type": "stream",
     "text": [
      "release_date\n",
      "2009-08-04    1962.0\n",
      "2009-08-05    3382.0\n",
      "2009-08-06     560.0\n",
      "2009-08-07       NaN\n",
      "2009-08-08       NaN\n",
      "2009-08-09       6.0\n",
      "2009-08-10       NaN\n",
      "2009-08-11       NaN\n",
      "2009-08-12       NaN\n",
      "2009-08-13     626.0\n",
      "2009-08-14     798.0\n",
      "2009-08-15       NaN\n",
      "2009-08-16       NaN\n",
      "2009-08-17       NaN\n",
      "2009-08-18    6430.0\n",
      "2009-08-19    1262.0\n",
      "2009-08-20     177.0\n",
      "2009-08-21     100.0\n",
      "2009-08-22       NaN\n",
      "2009-08-23       NaN\n",
      "2009-08-24       NaN\n",
      "2009-08-25       NaN\n",
      "2009-08-26     831.0\n",
      "2009-08-27       NaN\n",
      "2009-08-28     267.0\n",
      "Freq: D, Name: vote_count, dtype: float64\n"
     ]
    }
   ],
   "source": [
    "print(count.resample('D').max())"
   ]
  },
  {
   "cell_type": "code",
   "execution_count": null,
   "metadata": {},
   "outputs": [],
   "source": []
  }
 ],
 "metadata": {
  "kernelspec": {
   "display_name": "Python 3",
   "language": "python",
   "name": "python3"
  },
  "language_info": {
   "codemirror_mode": {
    "name": "ipython",
    "version": 3
   },
   "file_extension": ".py",
   "mimetype": "text/x-python",
   "name": "python",
   "nbconvert_exporter": "python",
   "pygments_lexer": "ipython3",
   "version": "3.6.4"
  }
 },
 "nbformat": 4,
 "nbformat_minor": 2
}
