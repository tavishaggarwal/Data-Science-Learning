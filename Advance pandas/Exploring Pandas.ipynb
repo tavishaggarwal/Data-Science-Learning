{
 "cells": [
  {
   "cell_type": "markdown",
   "metadata": {},
   "source": [
    "## Importing Packages"
   ]
  },
  {
   "cell_type": "code",
   "execution_count": null,
   "metadata": {},
   "outputs": [],
   "source": [
    "import pandas as pd\n",
    "import matplotlib.pyplot as plt\n",
    "import numpy as np"
   ]
  },
  {
   "cell_type": "markdown",
   "metadata": {},
   "source": [
    "## Reading data"
   ]
  },
  {
   "cell_type": "code",
   "execution_count": null,
   "metadata": {},
   "outputs": [],
   "source": [
    "tmdbDataSet = pd.read_csv('tmdb_5000_movies.csv')"
   ]
  },
  {
   "cell_type": "code",
   "execution_count": null,
   "metadata": {},
   "outputs": [],
   "source": [
    "# Values in the dataset\n",
    "print(tmdbDataSet.values)\n",
    "print(type(tmdbDataSet.values))"
   ]
  },
  {
   "cell_type": "markdown",
   "metadata": {},
   "source": [
    "## Creating a dataset from lists "
   ]
  },
  {
   "cell_type": "code",
   "execution_count": null,
   "metadata": {},
   "outputs": [],
   "source": [
    "# Creating dataset out of list\n",
    "index = ['Name', 'Salary', 'Age']\n",
    "details = [['Ashok', 'Mike', 'Arun'], [1200, 1400, 2500], [23, 28, 30]]\n",
    "zippedList = list(zip(index, details))\n",
    "dictObject = dict(zippedList)\n",
    "df = pd.DataFrame(dictObject)\n",
    "print(df)"
   ]
  },
  {
   "cell_type": "code",
   "execution_count": null,
   "metadata": {},
   "outputs": [],
   "source": [
    "# Updating column labels\n",
    "list_labels = ['Age(In Years)', 'Name', 'Salary (In $)']\n",
    "df.columns = list_labels\n",
    "print(df)"
   ]
  },
  {
   "cell_type": "code",
   "execution_count": null,
   "metadata": {},
   "outputs": [],
   "source": [
    "# Updating column labels at time of importing dataset\n",
    "tmdbDataSet_rename = pd.read_csv('tmdb_5000_movies.csv', header=0, names=['budget', 'genres', 'home_page', 'id', 'keywords', 'original_language',\n",
    "       'original_title', 'overview', 'popularity', 'production_companies',\n",
    "       'production_countries', 'release_date', 'revenue', 'runtime',\n",
    "       'spoken_languages', 'movie_status', 'tagline', 'title', 'vote_average',\n",
    "       'vote_count'], comment='#')\n",
    "print(tmdbDataSet_rename.head())"
   ]
  },
  {
   "cell_type": "code",
   "execution_count": null,
   "metadata": {},
   "outputs": [],
   "source": [
    "# Exporting dataset ot csv or excel file\n",
    "tmdbDataSet.to_csv('tmdb_movies.csv', index=False)\n",
    "\n",
    "tmdbDataSet.to_excel('tmdb_movies.xlsx', index=False)"
   ]
  },
  {
   "cell_type": "markdown",
   "metadata": {},
   "source": [
    "## Using plot function of pandas"
   ]
  },
  {
   "cell_type": "code",
   "execution_count": null,
   "metadata": {},
   "outputs": [],
   "source": [
    "# Plotting datasets\n",
    "tmdbDataSet.plot()\n",
    "plt.show()"
   ]
  },
  {
   "cell_type": "code",
   "execution_count": null,
   "metadata": {},
   "outputs": [],
   "source": [
    "# Plot columns on different charts\n",
    "tmdbDataSet.plot(subplots=True)\n",
    "plt.show()"
   ]
  },
  {
   "cell_type": "code",
   "execution_count": null,
   "metadata": {},
   "outputs": [],
   "source": [
    "# plot selected columns\n",
    "columnList = ['vote_count','budget']\n",
    "tmdbDataSet[columnList].plot(subplots=True)\n",
    "plt.show()"
   ]
  },
  {
   "cell_type": "code",
   "execution_count": null,
   "metadata": {},
   "outputs": [],
   "source": [
    "tmdbDataSet.plot(x='production_companies', y=['budget'])\n",
    "plt.show()"
   ]
  },
  {
   "cell_type": "code",
   "execution_count": null,
   "metadata": {},
   "outputs": [],
   "source": [
    "# Scatter and box plot\n",
    "cols = ['vote_count','budget']\n",
    "\n",
    "tmdbDataSet[cols].plot(kind='box', subplots=True)\n",
    "\n",
    "plt.show()\n",
    "\n",
    "tmdbDataSet.plot(kind='scatter', x='budget', y='vote_count', s=tmdbDataSet.popularity)\n",
    "plt.show()"
   ]
  },
  {
   "cell_type": "code",
   "execution_count": null,
   "metadata": {},
   "outputs": [],
   "source": [
    "# Histogram chart\n",
    "tmdbDataSet.plot(kind='hist', y='vote_average')\n",
    "plt.show()"
   ]
  },
  {
   "cell_type": "code",
   "execution_count": null,
   "metadata": {},
   "outputs": [],
   "source": [
    "# PDF and CDF\n",
    "tmdbDataSet.plot(kind='hist', y='vote_average', normed=True)\n",
    "plt.show()"
   ]
  },
  {
   "cell_type": "code",
   "execution_count": null,
   "metadata": {},
   "outputs": [],
   "source": [
    "# Way of plotting two charts in one charts\n",
    "figure, axes = plt.subplots(nrows=2, ncols=1)\n",
    "\n",
    "tmdbDataSet.plot(ax=axes[0], kind='hist', y='vote_average')\n",
    "tmdbDataSet.plot(ax=axes[1], kind='hist', y='vote_average', normed=True, \n",
    "cumulative=True)\n",
    "\n",
    "plt.show()"
   ]
  },
  {
   "cell_type": "markdown",
   "metadata": {},
   "source": [
    "## Pandas with time series"
   ]
  },
  {
   "cell_type": "code",
   "execution_count": null,
   "metadata": {},
   "outputs": [],
   "source": [
    "tmdbDataSet_date_index = pd.read_csv('tmdb_5000_movies.csv', index_col='release_date', parse_dates=True)\n",
    "\n",
    "print(tmdbDataSet_date_index.head())\n",
    "print(tmdbDataSet_date_index.loc['2010-Aug-01'].head())\n",
    "print(tmdbDataSet_date_index.loc['2010-01-01 21:00:00':'2010-05-11 22:00:00'].head())"
   ]
  },
  {
   "cell_type": "code",
   "execution_count": null,
   "metadata": {},
   "outputs": [],
   "source": [
    "print(pd.to_datetime(['2010-01-01 21:00:00','2010-05-11 22:00:00'], format='%Y-%m-%d %H:%M'))"
   ]
  },
  {
   "cell_type": "code",
   "execution_count": null,
   "metadata": {},
   "outputs": [],
   "source": [
    "tmdbDataSet.index = [x * 2 for x in range(0, 4803)] "
   ]
  },
  {
   "cell_type": "code",
   "execution_count": null,
   "metadata": {},
   "outputs": [],
   "source": [
    "print(tmdbDataSet.index.name)\n",
    "tmdbDataSet.index.name = 'movie_index'\n",
    "print(tmdbDataSet.index.name)"
   ]
  },
  {
   "cell_type": "code",
   "execution_count": null,
   "metadata": {},
   "outputs": [],
   "source": [
    "tmdbDataSet_date_index.vote_count.plot()\n",
    "plt.show()"
   ]
  },
  {
   "cell_type": "markdown",
   "metadata": {},
   "source": [
    "## Adding mutiple Indexes to dataset"
   ]
  },
  {
   "cell_type": "code",
   "execution_count": null,
   "metadata": {},
   "outputs": [],
   "source": [
    "tmdbDataSet_multi_index = tmdbDataSet.set_index(['release_date', 'status'])"
   ]
  },
  {
   "cell_type": "code",
   "execution_count": null,
   "metadata": {},
   "outputs": [],
   "source": [
    "tmdbDataSet_multi_index = tmdbDataSet_multi_index.sort_index()"
   ]
  },
  {
   "cell_type": "code",
   "execution_count": null,
   "metadata": {},
   "outputs": [],
   "source": [
    "print(tmdbDataSet_multi_index.loc[('1916-09-04','Released')])"
   ]
  },
  {
   "cell_type": "code",
   "execution_count": null,
   "metadata": {},
   "outputs": [],
   "source": [
    "print(tmdbDataSet_multi_index.loc[(['1916-09-04', '2010-03-03'],'Released'), :])"
   ]
  },
  {
   "cell_type": "code",
   "execution_count": null,
   "metadata": {},
   "outputs": [],
   "source": [
    "print(tmdbDataSet_multi_index.loc[(slice(None), 'Rumored'), :])"
   ]
  },
  {
   "cell_type": "code",
   "execution_count": null,
   "metadata": {},
   "outputs": [],
   "source": [
    "# swapping index of multilevel index\n",
    "tmdbDataSet_multi_index_swap = tmdbDataSet_multi_index.swaplevel(0,1)\n",
    "print(tmdbDataSet_multi_index_swap.head())\n",
    "\n",
    "# Resetting Index\n",
    "tmdbDataSet_original = tmdbDataSet_multi_index_swap.reset_index()\n",
    "print(tmdbDataSet_original.head())"
   ]
  },
  {
   "cell_type": "code",
   "execution_count": null,
   "metadata": {},
   "outputs": [],
   "source": [
    "# Stacking and Unstcking"
   ]
  },
  {
   "cell_type": "code",
   "execution_count": null,
   "metadata": {},
   "outputs": [],
   "source": [
    "print(tmdbDataSet_multi_index_unsatck.tail())"
   ]
  },
  {
   "cell_type": "markdown",
   "metadata": {},
   "source": [
    "## Parsing date column while importing data"
   ]
  },
  {
   "cell_type": "code",
   "execution_count": null,
   "metadata": {},
   "outputs": [],
   "source": [
    "tmdbDataSet_dateIndex = pd.read_csv('./Cleaning Data/tmdb_5000_movies.csv', \n",
    "                                    parse_dates=True, index_col='release_date')"
   ]
  },
  {
   "cell_type": "code",
   "execution_count": null,
   "metadata": {},
   "outputs": [],
   "source": [
    "print(tmdbDataSet_dateIndex['vote_count'].resample('D').count())"
   ]
  },
  {
   "cell_type": "code",
   "execution_count": null,
   "metadata": {},
   "outputs": [],
   "source": [
    "# Vote count movies got in August 2009\n",
    "count = tmdbDataSet_dateIndex['vote_count']['2009-Aug']"
   ]
  },
  {
   "cell_type": "code",
   "execution_count": null,
   "metadata": {},
   "outputs": [],
   "source": [
    "print(count.resample('D').max())"
   ]
  },
  {
   "cell_type": "markdown",
   "metadata": {},
   "source": [
    "## Resampling Dataset"
   ]
  },
  {
   "cell_type": "code",
   "execution_count": null,
   "metadata": {},
   "outputs": [],
   "source": [
    "# Down sampling\n",
    "print(tmdbDataSet_date_index.resample('A').sum())"
   ]
  },
  {
   "cell_type": "code",
   "execution_count": null,
   "metadata": {},
   "outputs": [],
   "source": [
    "# Up sampling\n",
    "print(tmdbDataSet_date_index.resample('H').sum())\n",
    "print(tmdbDataSet_date_index.resample('4H').sum())"
   ]
  },
  {
   "cell_type": "markdown",
   "metadata": {},
   "source": [
    "## Filtering and chaining methods"
   ]
  },
  {
   "cell_type": "code",
   "execution_count": null,
   "metadata": {},
   "outputs": [],
   "source": [
    "print(tmdbDataSet_date_index.resample('A').sum().count())"
   ]
  },
  {
   "cell_type": "markdown",
   "metadata": {},
   "source": [
    "## Grouping of data"
   ]
  },
  {
   "cell_type": "code",
   "execution_count": null,
   "metadata": {},
   "outputs": [],
   "source": [
    "print(tmdbDataSet.groupby('release_date').count())"
   ]
  },
  {
   "cell_type": "code",
   "execution_count": null,
   "metadata": {},
   "outputs": [],
   "source": [
    "# Sum of budget made on each day by 5000 movies\n",
    "print(tmdbDataSet.groupby('release_date')['budget'].sum())"
   ]
  },
  {
   "cell_type": "code",
   "execution_count": null,
   "metadata": {},
   "outputs": [],
   "source": [
    "# Grouping by the mutiple columns\n",
    "print(tmdbDataSet.groupby(['release_date', 'runtime'])[['popularity', 'budget']].sum())"
   ]
  },
  {
   "cell_type": "code",
   "execution_count": null,
   "metadata": {},
   "outputs": [],
   "source": [
    "# Multiple aggregations\n",
    "print(tmdbDataSet.groupby(['release_date', 'runtime'])[['popularity', 'budget']].agg(['sum', 'count']))"
   ]
  },
  {
   "cell_type": "markdown",
   "metadata": {},
   "source": [
    "## Tranforming data"
   ]
  },
  {
   "cell_type": "code",
   "execution_count": null,
   "metadata": {},
   "outputs": [],
   "source": [
    "print(tmdbDataSet.vote_average.floordiv(2))"
   ]
  },
  {
   "cell_type": "code",
   "execution_count": null,
   "metadata": {},
   "outputs": [],
   "source": [
    "print(tmdbDataSet.status.str.upper())"
   ]
  },
  {
   "cell_type": "code",
   "execution_count": null,
   "metadata": {},
   "outputs": [],
   "source": [
    "tmdbDataSet_dropped = tmdbDataSet.drop(['production_countries'], axis='columns')\n",
    "print(tmdbDataSet_dropped.head())"
   ]
  },
  {
   "cell_type": "markdown",
   "metadata": {},
   "source": [
    "## Aggregating results\n",
    "Here we will try to find which movie is most popular based on the tmdb data that we have."
   ]
  },
  {
   "cell_type": "code",
   "execution_count": null,
   "metadata": {},
   "outputs": [],
   "source": [
    "# Popularity of movie depends on vote_average, revenue - budget, popularity\n",
    "tmdbDataSet_date_index['profit'] = tmdbDataSet_date_index['revenue'\n",
    "                                                         ] - tmdbDataSet_date_index['budget']\n",
    "tmdbDataSet_date_index_grouped = tmdbDataSet_date_index.groupby('title')\n",
    "tmdbDataSet_date_index_grouped_sub = tmdbDataSet_date_index_grouped[['vote_average',\n",
    "                                                                     'profit', 'popularity']]"
   ]
  },
  {
   "cell_type": "code",
   "execution_count": null,
   "metadata": {},
   "outputs": [],
   "source": [
    "# Max and min value in columns\n",
    "agg_results = tmdbDataSet_date_index_grouped_sub.agg(['max', 'min'])\n",
    "print(agg_results)"
   ]
  },
  {
   "cell_type": "code",
   "execution_count": null,
   "metadata": {},
   "outputs": [],
   "source": [
    "# Extract year of release_date and set release_date column as index\n",
    "tmdbDataSet_agg = tmdbDataSet.copy()\n",
    "tmdbDataSet_agg['year'] = pd.to_datetime(tmdbDataSet_agg['release_date']).dt.year\n",
    "tmdbDataSet_agg['year']= tmdbDataSet_agg['year'].fillna(0.0).astype(int)\n",
    "tmdbDataSet_agg.set_index('year', inplace=True)\n",
    "tmdbDataSet_agg['profit'] = tmdbDataSet_agg['revenue'\n",
    "                                                         ] - tmdbDataSet_agg['budget']"
   ]
  },
  {
   "cell_type": "code",
   "execution_count": null,
   "metadata": {},
   "outputs": [],
   "source": [
    "def countMovies(series):\n",
    "    return series.count()\n",
    "aggObject = {'profit':'sum', 'title': countMovies }\n",
    "tmdbDataSet_grouped = tmdbDataSet_agg.groupby(['year']).agg(aggObject)"
   ]
  },
  {
   "cell_type": "code",
   "execution_count": null,
   "metadata": {},
   "outputs": [],
   "source": [
    "tmdbDataSet_grouped = tmdbDataSet_grouped.drop([0], axis='rows')\n",
    "tmdbDataSet_grouped['y'] = list(tmdbDataSet_grouped.index)\n",
    "tmdbDataSet_grouped.plot(kind='scatter', y='y', x='profit', \n",
    "                         s=tmdbDataSet_grouped.title)"
   ]
  },
  {
   "cell_type": "code",
   "execution_count": null,
   "metadata": {},
   "outputs": [],
   "source": [
    "tmdbDataSet_grouped.head()"
   ]
  }
 ],
 "metadata": {
  "kernelspec": {
   "display_name": "Python 3",
   "language": "python",
   "name": "python3"
  },
  "language_info": {
   "codemirror_mode": {
    "name": "ipython",
    "version": 3
   },
   "file_extension": ".py",
   "mimetype": "text/x-python",
   "name": "python",
   "nbconvert_exporter": "python",
   "pygments_lexer": "ipython3",
   "version": "3.6.4"
  }
 },
 "nbformat": 4,
 "nbformat_minor": 2
}
