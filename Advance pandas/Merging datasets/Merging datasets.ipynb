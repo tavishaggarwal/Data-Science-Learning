{
 "cells": [
  {
   "cell_type": "markdown",
   "metadata": {},
   "source": [
    "## Importing packages"
   ]
  },
  {
   "cell_type": "code",
   "execution_count": null,
   "metadata": {},
   "outputs": [],
   "source": [
    "import pandas as pd"
   ]
  },
  {
   "cell_type": "markdown",
   "metadata": {},
   "source": [
    "## Importing data and creating dataFrames"
   ]
  },
  {
   "cell_type": "code",
   "execution_count": null,
   "metadata": {},
   "outputs": [],
   "source": [
    "paymentModeData = pd.read_csv('chefmozaccepts.csv')\n",
    "cuisineData = pd.read_csv('chefmozcuisine.csv')\n",
    "hoursData = pd.read_csv('chefmozhours4.csv')\n",
    "parkingData = pd.read_csv('chefmozparking.csv')\n",
    "geoPlaceData = pd.read_csv('geoplaces2.csv')"
   ]
  },
  {
   "cell_type": "code",
   "execution_count": null,
   "metadata": {},
   "outputs": [],
   "source": [
    "userCuisineData = pd.read_csv('usercuisine.csv')\n",
    "# Renaming columns\n",
    "userCuisineData.columns = ['user_ID', 'Rcuisine']\n",
    "\n",
    "userPaymentData = pd.read_csv('userpayment.csv')\n",
    "userProfileData = pd.read_csv('userprofile.csv')\n",
    "userRatingData = pd.read_csv('rating_final.csv')"
   ]
  },
  {
   "cell_type": "code",
   "execution_count": null,
   "metadata": {},
   "outputs": [],
   "source": [
    "englishScoreData = pd.read_csv('merge_concat_join/english_marks.csv', \n",
    "                               index_col='Student')\n",
    "geographyScoreData = pd.read_csv('merge_concat_join/geography_marks.csv', \n",
    "                                 index_col='Student')\n",
    "mathsScoreData = pd.read_csv('merge_concat_join/maths_marks.csv', \n",
    "                             index_col='Student')"
   ]
  },
  {
   "cell_type": "markdown",
   "metadata": {},
   "source": [
    "## Sorting datasets"
   ]
  },
  {
   "cell_type": "code",
   "execution_count": null,
   "metadata": {},
   "outputs": [],
   "source": [
    "paymentModeData.sort_values('placeID', inplace=True)\n",
    "cuisineData = cuisineData.sort_values('placeID')\n",
    "hoursData = hoursData.sort_values('placeID')\n",
    "parkingData = parkingData.sort_values('placeID')\n",
    "geoPlaceData.sort_values('placeID', inplace=True)"
   ]
  },
  {
   "cell_type": "code",
   "execution_count": null,
   "metadata": {},
   "outputs": [],
   "source": [
    "userCuisineData.sort_values('user_ID', inplace=True)\n",
    "userPaymentData.sort_values('userID', inplace=True)\n",
    "userProfileData.sort_values('userID', inplace=True)\n",
    "userRatingData.sort_values('userID', inplace=True)"
   ]
  },
  {
   "cell_type": "code",
   "execution_count": null,
   "metadata": {},
   "outputs": [],
   "source": [
    "print(paymentModeData.head(1))\n",
    "print('------------')\n",
    "print(cuisineData.head(1))\n",
    "print('------------')\n",
    "print(hoursData.head(1))\n",
    "print('------------')\n",
    "print(parkingData.head(1))\n",
    "print('------------')\n",
    "print(geoPlaceData.head(1))"
   ]
  },
  {
   "cell_type": "code",
   "execution_count": null,
   "metadata": {},
   "outputs": [],
   "source": [
    "print(userCuisineData.head(1))\n",
    "print('------------')\n",
    "print(userPaymentData.head(1))\n",
    "print('------------')\n",
    "print(userProfileData.head(1))\n",
    "print('------------')\n",
    "print(userRatingData.head(1))"
   ]
  },
  {
   "cell_type": "markdown",
   "metadata": {},
   "source": [
    "## Analyzing data\n",
    "From the code shown below we got to know that, there are users who have tried multiple cuisine"
   ]
  },
  {
   "cell_type": "code",
   "execution_count": null,
   "metadata": {},
   "outputs": [],
   "source": [
    "print(userCuisineData[userCuisineData.user_ID == 'U1004'])"
   ]
  },
  {
   "cell_type": "markdown",
   "metadata": {},
   "source": [
    "## Append Datasets"
   ]
  },
  {
   "cell_type": "code",
   "execution_count": null,
   "metadata": {},
   "outputs": [],
   "source": [
    "display(englishScoreData.append(geographyScoreData).append(mathsScoreData))"
   ]
  },
  {
   "cell_type": "code",
   "execution_count": null,
   "metadata": {},
   "outputs": [],
   "source": [
    "display(englishScoreData.append(geographyScoreData, ignore_index=True).\n",
    "        append(mathsScoreData, ignore_index=True))"
   ]
  },
  {
   "cell_type": "markdown",
   "metadata": {},
   "source": [
    "## Concat Datasets"
   ]
  },
  {
   "cell_type": "code",
   "execution_count": null,
   "metadata": {},
   "outputs": [],
   "source": [
    "## Row wise concatination\n",
    "display(pd.concat([englishScoreData, geographyScoreData], axis= 0).reset_index())"
   ]
  },
  {
   "cell_type": "code",
   "execution_count": null,
   "metadata": {},
   "outputs": [],
   "source": [
    "## Row wise concatination\n",
    "display(pd.concat([englishScoreData, geographyScoreData], axis= 1))"
   ]
  },
  {
   "cell_type": "code",
   "execution_count": null,
   "metadata": {},
   "outputs": [],
   "source": [
    "display(pd.concat([englishScoreData, geographyScoreData, mathsScoreData], keys=[\n",
    "    'English', 'Geography', 'Maths'], axis= 1, join='inner'))"
   ]
  },
  {
   "cell_type": "code",
   "execution_count": null,
   "metadata": {},
   "outputs": [],
   "source": [
    "## Multi-level row index\n",
    "studentResult = pd.concat([geographyScoreData, englishScoreData, mathsScoreData],keys=[\n",
    "    'Geography', 'English', 'Maths']).sort_index(level=0)\n",
    "display(studentResult)"
   ]
  },
  {
   "cell_type": "code",
   "execution_count": null,
   "metadata": {},
   "outputs": [],
   "source": [
    "# Get list of selected subjects\n",
    "display(studentResult.loc[['English', 'Geography']])"
   ]
  },
  {
   "cell_type": "code",
   "execution_count": null,
   "metadata": {},
   "outputs": [],
   "source": [
    "## Get all marks of particular student\n",
    "idx = pd.IndexSlice\n",
    "display(studentResult.loc[idx[:,'Joy'], :])"
   ]
  },
  {
   "cell_type": "markdown",
   "metadata": {},
   "source": [
    "## Join Datasets"
   ]
  },
  {
   "cell_type": "code",
   "execution_count": null,
   "metadata": {},
   "outputs": [],
   "source": [
    "# Joining using right and left suffix\n",
    "display(geographyScoreData.join(englishScoreData, lsuffix='_geography', rsuffix='_english'))"
   ]
  },
  {
   "cell_type": "code",
   "execution_count": null,
   "metadata": {},
   "outputs": [],
   "source": [
    "# Inner join on the common key\n",
    "display(userPaymentData.join(userRatingData.set_index('userID'), lsuffix='_userPayment', \n",
    "                             rsuffix='_userRating', on='userID', how='inner').dropna().head())"
   ]
  },
  {
   "cell_type": "markdown",
   "metadata": {},
   "source": [
    "## Merging Datasets\n",
    "NOTE: While merging second dataset we have mentioned additional 'on' attribute as well."
   ]
  },
  {
   "cell_type": "code",
   "execution_count": null,
   "metadata": {},
   "outputs": [],
   "source": [
    "userBy_payment_rating_merged = pd.merge(userPaymentData, \n",
    "                                                userRatingData, on='userID')\n",
    "print(userBy_payment_rating_merged.head())"
   ]
  },
  {
   "cell_type": "code",
   "execution_count": null,
   "metadata": {},
   "outputs": [],
   "source": [
    "userBy_cuisine_payment_rating_merged = pd.merge(userCuisineData, userBy_payment_rating_merged, \n",
    "                                                left_on='user_ID', right_on='userID')\n",
    "userBy_cuisine_payment_rating_merged.sort_values('userID', inplace=True)\n",
    "userBy_cuisine_payment_rating_merged.drop('userID', axis=1, inplace=True)\n",
    "\n",
    "top_rated_places_users = userBy_cuisine_payment_rating_merged[\n",
    "    (userBy_cuisine_payment_rating_merged.rating == 2) &\n",
    "    (userBy_cuisine_payment_rating_merged.food_rating == 2) & \n",
    "    (userBy_cuisine_payment_rating_merged.service_rating == 2)]\n",
    "\n",
    "print(top_rated_places_users.head())"
   ]
  },
  {
   "cell_type": "markdown",
   "metadata": {},
   "source": [
    "## Merging on mutiple columns\n",
    "Users rating for the cuisine available at the place ID"
   ]
  },
  {
   "cell_type": "code",
   "execution_count": null,
   "metadata": {},
   "outputs": [],
   "source": [
    "# Default merge is inner merge\n",
    "combined_user_place_data = pd.merge(top_rated_places_users, cuisineData, \n",
    "         left_on=['placeID', 'Rcuisine'], right_on=['placeID', 'Rcuisine'])\n",
    "print(combined_user_place_data.head())\n",
    "print(combined_user_place_data.info())"
   ]
  },
  {
   "cell_type": "code",
   "execution_count": null,
   "metadata": {},
   "outputs": [],
   "source": [
    "# Distinct users rated to the distinct resturants\n",
    "print(combined_user_place_data.user_ID.value_counts())\n",
    "print(combined_user_place_data.placeID.value_counts())"
   ]
  },
  {
   "cell_type": "code",
   "execution_count": null,
   "metadata": {},
   "outputs": [],
   "source": [
    "# from above we found out that most rated resturant is '132825'\n",
    "# Let's get detail of above resturant:\n",
    "print(geoPlaceData[geoPlaceData.placeID == 132825])"
   ]
  },
  {
   "cell_type": "markdown",
   "metadata": {},
   "source": [
    "## Other Examples\n",
    "1. Performing right merge\n",
    "2. Using on clause instead of right_on and left_on\n",
    "3. Using suffixes attribute\n",
    "4. Using merge_ordered and merge_asof function to merge datasets"
   ]
  },
  {
   "cell_type": "code",
   "execution_count": null,
   "metadata": {},
   "outputs": [],
   "source": [
    "# We can even perform outer, left or right merge as well\n",
    "# Let's perform right merge now\n",
    "combined_user_place_left_data = pd.merge(top_rated_places_users, cuisineData, \n",
    "         left_on=['placeID', 'Rcuisine'], right_on=['placeID', 'Rcuisine'], how='right')\n",
    "print(combined_user_place_left_data.head())\n",
    "print(combined_user_place_left_data.info())"
   ]
  },
  {
   "cell_type": "code",
   "execution_count": null,
   "metadata": {},
   "outputs": [],
   "source": [
    "# If column names are duplicate we can avoid right_on and left_on\n",
    "# Instead we can directly use on attribute\n",
    "combined_user_place_on_data = pd.merge(top_rated_places_users, cuisineData, \n",
    "                                       on=['placeID', 'Rcuisine'], how='right')\n",
    "print(combined_user_place_on_data.head())\n",
    "print(combined_user_place_on_data.info())"
   ]
  },
  {
   "cell_type": "code",
   "execution_count": null,
   "metadata": {},
   "outputs": [],
   "source": [
    "combined_user_place_suffixes_data = pd.merge_ordered(top_rated_places_users, cuisineData, \n",
    "         on=['placeID'],suffixes=['_places','_cuisine'], fill_method='ffill')\n",
    "print(combined_user_place_suffixes_data.tail())\n",
    "print(combined_user_place_suffixes_data.info())"
   ]
  },
  {
   "cell_type": "code",
   "execution_count": null,
   "metadata": {},
   "outputs": [],
   "source": [
    "#top_rated_places_users.is_copy = False\n",
    "top_rated_places_users.sort_values('placeID', inplace=True)\n",
    "\n",
    "combined_user_place_suffixes_data = pd.merge_asof(top_rated_places_users, cuisineData, \n",
    "         on=['placeID'],suffixes=['_places','_cuisine'])\n",
    "display(combined_user_place_suffixes_data.head())\n",
    "print(combined_user_place_suffixes_data.info())"
   ]
  }
 ],
 "metadata": {
  "kernelspec": {
   "display_name": "Python 3",
   "language": "python",
   "name": "python3"
  },
  "language_info": {
   "codemirror_mode": {
    "name": "ipython",
    "version": 3
   },
   "file_extension": ".py",
   "mimetype": "text/x-python",
   "name": "python",
   "nbconvert_exporter": "python",
   "pygments_lexer": "ipython3",
   "version": "3.6.4"
  }
 },
 "nbformat": 4,
 "nbformat_minor": 2
}
