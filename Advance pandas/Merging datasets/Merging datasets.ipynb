{
 "cells": [
  {
   "cell_type": "markdown",
   "metadata": {},
   "source": [
    "## Importing packages"
   ]
  },
  {
   "cell_type": "code",
   "execution_count": 1,
   "metadata": {},
   "outputs": [],
   "source": [
    "import pandas as pd"
   ]
  },
  {
   "cell_type": "markdown",
   "metadata": {},
   "source": [
    "## Importing data and creating dataFrames"
   ]
  },
  {
   "cell_type": "code",
   "execution_count": 2,
   "metadata": {},
   "outputs": [],
   "source": [
    "paymentModeData = pd.read_csv('chefmozaccepts.csv')\n",
    "cuisineData = pd.read_csv('chefmozcuisine.csv')\n",
    "hoursData = pd.read_csv('chefmozhours4.csv')\n",
    "parkingData = pd.read_csv('chefmozparking.csv')\n",
    "geoPlaceData = pd.read_csv('geoplaces2.csv')"
   ]
  },
  {
   "cell_type": "code",
   "execution_count": 3,
   "metadata": {},
   "outputs": [],
   "source": [
    "userCuisineData = pd.read_csv('usercuisine.csv')\n",
    "# Renaming columns\n",
    "userCuisineData.columns = ['user_ID', 'Rcuisine']\n",
    "\n",
    "userPaymentData = pd.read_csv('userpayment.csv')\n",
    "userProfileData = pd.read_csv('userprofile.csv')\n",
    "userRatingData = pd.read_csv('rating_final.csv')"
   ]
  },
  {
   "cell_type": "markdown",
   "metadata": {},
   "source": [
    "## Sorting datasets"
   ]
  },
  {
   "cell_type": "code",
   "execution_count": 4,
   "metadata": {},
   "outputs": [],
   "source": [
    "paymentModeData.sort_values('placeID', inplace=True)\n",
    "cuisineData = cuisineData.sort_values('placeID')\n",
    "hoursData = hoursData.sort_values('placeID')\n",
    "parkingData = parkingData.sort_values('placeID')\n",
    "geoPlaceData.sort_values('placeID', inplace=True)"
   ]
  },
  {
   "cell_type": "code",
   "execution_count": 5,
   "metadata": {},
   "outputs": [],
   "source": [
    "userCuisineData.sort_values('user_ID', inplace=True)\n",
    "userPaymentData.sort_values('userID', inplace=True)\n",
    "userProfileData.sort_values('userID', inplace=True)\n",
    "userRatingData.sort_values('userID', inplace=True)"
   ]
  },
  {
   "cell_type": "code",
   "execution_count": 6,
   "metadata": {},
   "outputs": [
    {
     "name": "stdout",
     "output_type": "stream",
     "text": [
      "      placeID     Rpayment\n",
      "1313   132002  Diners_Club\n",
      "------------\n",
      "     placeID       Rcuisine\n",
      "915   132001  Dutch-Belgian\n",
      "------------\n",
      "      placeID         hours  days\n",
      "2338   132012  12:00-22:00;  Sat;\n",
      "------------\n",
      "     placeID parking_lot\n",
      "701   132012      street\n",
      "------------\n",
      "     placeID   latitude  longitude  \\\n",
      "106   132560  23.752304 -99.166913   \n",
      "\n",
      "                                        the_geom_meter                name  \\\n",
      "106  0101000020957F0000FC60BDA8E88157C1B2C357D6DA4E...  puesto de gorditas   \n",
      "\n",
      "                   address      city       state country fax      ...        \\\n",
      "106  frente al tecnologico  victoria  tamaulipas  mexico   ?      ...         \n",
      "\n",
      "               alcohol smoking_area dress_code     accessibility price url  \\\n",
      "106  No_Alcohol_Served    permitted   informal  no_accessibility   low   ?   \n",
      "\n",
      "    Rambience franchise  area other_services  \n",
      "106  familiar         f  open           none  \n",
      "\n",
      "[1 rows x 21 columns]\n"
     ]
    }
   ],
   "source": [
    "print(paymentModeData.head(1))\n",
    "print('------------')\n",
    "print(cuisineData.head(1))\n",
    "print('------------')\n",
    "print(hoursData.head(1))\n",
    "print('------------')\n",
    "print(parkingData.head(1))\n",
    "print('------------')\n",
    "print(geoPlaceData.head(1))"
   ]
  },
  {
   "cell_type": "code",
   "execution_count": 7,
   "metadata": {},
   "outputs": [
    {
     "name": "stdout",
     "output_type": "stream",
     "text": [
      "  user_ID  Rcuisine\n",
      "0   U1001  American\n",
      "------------\n",
      "  userID Upayment\n",
      "0  U1001     cash\n",
      "------------\n",
      "  userID   latitude   longitude smoker drink_level dress_preference ambience  \\\n",
      "0  U1001  22.139997 -100.978803  false  abstemious         informal   family   \n",
      "\n",
      "  transport marital_status        hijos  birth_year interest  \\\n",
      "0   on foot         single  independent        1989  variety   \n",
      "\n",
      "         personality religion activity  color  weight  budget  height  \n",
      "0  thrifty-protector     none  student  black      69  medium    1.77  \n",
      "------------\n",
      "    userID  placeID  rating  food_rating  service_rating\n",
      "691  U1001   135045       1            1               1\n"
     ]
    }
   ],
   "source": [
    "print(userCuisineData.head(1))\n",
    "print('------------')\n",
    "print(userPaymentData.head(1))\n",
    "print('------------')\n",
    "print(userProfileData.head(1))\n",
    "print('------------')\n",
    "print(userRatingData.head(1))"
   ]
  },
  {
   "cell_type": "markdown",
   "metadata": {},
   "source": [
    "## Analyzing data\n",
    "From the code shown below we got to know that, there are users who have tried multiple cuisine"
   ]
  },
  {
   "cell_type": "code",
   "execution_count": 8,
   "metadata": {},
   "outputs": [
    {
     "name": "stdout",
     "output_type": "stream",
     "text": [
      "   user_ID              Rcuisine\n",
      "11   U1004             Cafeteria\n",
      "10   U1004  Continental-European\n",
      "8    U1004                Bagels\n",
      "7    U1004               Mexican\n",
      "9    U1004      Cafe-Coffee_Shop\n",
      "5    U1004              Japanese\n",
      "4    U1004      Breakfast-Brunch\n",
      "3    U1004                Bakery\n",
      "6    U1004          Contemporary\n"
     ]
    }
   ],
   "source": [
    "print(userCuisineData[userCuisineData.user_ID == 'U1004'])"
   ]
  },
  {
   "cell_type": "markdown",
   "metadata": {},
   "source": [
    "## Append Datasets"
   ]
  },
  {
   "cell_type": "code",
   "execution_count": null,
   "metadata": {},
   "outputs": [],
   "source": []
  },
  {
   "cell_type": "markdown",
   "metadata": {},
   "source": [
    "## Concat Datasets"
   ]
  },
  {
   "cell_type": "code",
   "execution_count": null,
   "metadata": {},
   "outputs": [],
   "source": []
  },
  {
   "cell_type": "markdown",
   "metadata": {},
   "source": [
    "## Join Datasets"
   ]
  },
  {
   "cell_type": "code",
   "execution_count": null,
   "metadata": {},
   "outputs": [],
   "source": []
  },
  {
   "cell_type": "markdown",
   "metadata": {},
   "source": [
    "## Merging Datasets\n",
    "NOTE: While merging second dataset we have mentioned additional 'on' attribute as well."
   ]
  },
  {
   "cell_type": "code",
   "execution_count": 9,
   "metadata": {},
   "outputs": [
    {
     "name": "stdout",
     "output_type": "stream",
     "text": [
      "  userID Upayment  placeID  rating  food_rating  service_rating\n",
      "0  U1001     cash   135045       1            1               1\n",
      "1  U1001     cash   135039       1            1               1\n",
      "2  U1001     cash   135025       2            2               2\n",
      "3  U1001     cash   135051       1            1               2\n",
      "4  U1001     cash   132825       2            2               1\n"
     ]
    }
   ],
   "source": [
    "userBy_payment_rating_merged = pd.merge(userPaymentData, \n",
    "                                                userRatingData, on='userID')\n",
    "print(userBy_payment_rating_merged.head())"
   ]
  },
  {
   "cell_type": "code",
   "execution_count": 10,
   "metadata": {},
   "outputs": [
    {
     "name": "stdout",
     "output_type": "stream",
     "text": [
      "   user_ID  Rcuisine Upayment  placeID  rating  food_rating  service_rating\n",
      "2    U1001  American     cash   135025       2            2               2\n",
      "13   U1002   Mexican     cash   132862       2            2               2\n",
      "31   U1003   Mexican     cash   132754       2            2               2\n",
      "30   U1003   Mexican     cash   135059       2            2               2\n",
      "29   U1003   Mexican     cash   132922       2            2               2\n"
     ]
    }
   ],
   "source": [
    "userBy_cuisine_payment_rating_merged = pd.merge(userCuisineData, userBy_payment_rating_merged, \n",
    "                                                left_on='user_ID', right_on='userID')\n",
    "userBy_cuisine_payment_rating_merged.sort_values('userID', inplace=True)\n",
    "userBy_cuisine_payment_rating_merged.drop('userID', axis=1, inplace=True)\n",
    "\n",
    "top_rated_places_users = userBy_cuisine_payment_rating_merged[\n",
    "    (userBy_cuisine_payment_rating_merged.rating == 2) &\n",
    "    (userBy_cuisine_payment_rating_merged.food_rating == 2) & \n",
    "    (userBy_cuisine_payment_rating_merged.service_rating == 2)]\n",
    "\n",
    "print(top_rated_places_users.head())"
   ]
  },
  {
   "cell_type": "markdown",
   "metadata": {},
   "source": [
    "## Merging on mutiple columns\n",
    "Users rating for the cuisine available at the place ID"
   ]
  },
  {
   "cell_type": "code",
   "execution_count": 11,
   "metadata": {},
   "outputs": [
    {
     "name": "stdout",
     "output_type": "stream",
     "text": [
      "  user_ID Rcuisine          Upayment  placeID  rating  food_rating  \\\n",
      "0   U1003  Mexican              cash   132754       2            2   \n",
      "1   U1036  Mexican              cash   132754       2            2   \n",
      "2   U1059  Mexican              cash   132754       2            2   \n",
      "3   U1061  Mexican  bank_debit_cards   132754       2            2   \n",
      "4   U1061  Mexican              cash   132754       2            2   \n",
      "\n",
      "   service_rating  \n",
      "0               2  \n",
      "1               2  \n",
      "2               2  \n",
      "3               2  \n",
      "4               2  \n",
      "<class 'pandas.core.frame.DataFrame'>\n",
      "Int64Index: 81 entries, 0 to 80\n",
      "Data columns (total 7 columns):\n",
      "user_ID           81 non-null object\n",
      "Rcuisine          81 non-null object\n",
      "Upayment          81 non-null object\n",
      "placeID           81 non-null int64\n",
      "rating            81 non-null int64\n",
      "food_rating       81 non-null int64\n",
      "service_rating    81 non-null int64\n",
      "dtypes: int64(4), object(3)\n",
      "memory usage: 5.1+ KB\n",
      "None\n"
     ]
    }
   ],
   "source": [
    "# Default merge is inner merge\n",
    "combined_user_place_data = pd.merge(top_rated_places_users, cuisineData, \n",
    "         left_on=['placeID', 'Rcuisine'], right_on=['placeID', 'Rcuisine'])\n",
    "print(combined_user_place_data.head())\n",
    "print(combined_user_place_data.info())"
   ]
  },
  {
   "cell_type": "code",
   "execution_count": 12,
   "metadata": {},
   "outputs": [
    {
     "name": "stdout",
     "output_type": "stream",
     "text": [
      "U1004    10\n",
      "U1116     9\n",
      "U1108     6\n",
      "U1077     3\n",
      "U1036     3\n",
      "U1071     3\n",
      "U1137     3\n",
      "U1078     3\n",
      "U1109     2\n",
      "U1093     2\n",
      "U1103     2\n",
      "U1048     2\n",
      "U1096     2\n",
      "U1132     2\n",
      "U1061     2\n",
      "U1107     2\n",
      "U1136     2\n",
      "U1085     2\n",
      "U1099     2\n",
      "U1028     2\n",
      "U1056     2\n",
      "U1026     2\n",
      "U1003     1\n",
      "U1060     1\n",
      "U1080     1\n",
      "U1067     1\n",
      "U1083     1\n",
      "U1123     1\n",
      "U1030     1\n",
      "U1134     1\n",
      "U1059     1\n",
      "U1126     1\n",
      "U1054     1\n",
      "U1095     1\n",
      "U1016     1\n",
      "Name: user_ID, dtype: int64\n",
      "132825    12\n",
      "135025     7\n",
      "135106     6\n",
      "132834     6\n",
      "135028     6\n",
      "132723     5\n",
      "132754     5\n",
      "135032     5\n",
      "135055     4\n",
      "132613     3\n",
      "132584     3\n",
      "132755     3\n",
      "135075     3\n",
      "132954     2\n",
      "134999     2\n",
      "132665     2\n",
      "132630     1\n",
      "135035     1\n",
      "135104     1\n",
      "135027     1\n",
      "135018     1\n",
      "132717     1\n",
      "132608     1\n",
      "Name: placeID, dtype: int64\n"
     ]
    }
   ],
   "source": [
    "# Distinct users rated to the distinct resturants\n",
    "print(combined_user_place_data.user_ID.value_counts())\n",
    "print(combined_user_place_data.placeID.value_counts())"
   ]
  },
  {
   "cell_type": "code",
   "execution_count": 13,
   "metadata": {},
   "outputs": [
    {
     "name": "stdout",
     "output_type": "stream",
     "text": [
      "   placeID   latitude   longitude  \\\n",
      "1   132825  22.147392 -100.983092   \n",
      "\n",
      "                                      the_geom_meter             name  \\\n",
      "1  0101000020957F00001AD016568C4858C1243261274BA5...  puesto de tacos   \n",
      "\n",
      "                                  address    city   state country fax  \\\n",
      "1  esquina santos degollado y leon guzman  s.l.p.  s.l.p.  mexico   ?   \n",
      "\n",
      "       ...                  alcohol smoking_area dress_code accessibility  \\\n",
      "1      ...        No_Alcohol_Served         none   informal    completely   \n",
      "\n",
      "  price url Rambience franchise  area other_services  \n",
      "1   low   ?  familiar         f  open           none  \n",
      "\n",
      "[1 rows x 21 columns]\n"
     ]
    }
   ],
   "source": [
    "# from above we found out that most rated resturant is '132825'\n",
    "# Let's get detail of above resturant:\n",
    "print(geoPlaceData[geoPlaceData.placeID == 132825])"
   ]
  },
  {
   "cell_type": "markdown",
   "metadata": {},
   "source": [
    "## Other Examples\n",
    "1. Performing right merge\n",
    "2. Using on clause instead of right_on and left_on\n",
    "3. Using suffixes attribute\n",
    "4. Using merge_ordered and merge_asof function to merge datasets"
   ]
  },
  {
   "cell_type": "code",
   "execution_count": 14,
   "metadata": {},
   "outputs": [
    {
     "name": "stdout",
     "output_type": "stream",
     "text": [
      "  user_ID Rcuisine          Upayment  placeID  rating  food_rating  \\\n",
      "0   U1003  Mexican              cash   132754     2.0          2.0   \n",
      "1   U1036  Mexican              cash   132754     2.0          2.0   \n",
      "2   U1059  Mexican              cash   132754     2.0          2.0   \n",
      "3   U1061  Mexican  bank_debit_cards   132754     2.0          2.0   \n",
      "4   U1061  Mexican              cash   132754     2.0          2.0   \n",
      "\n",
      "   service_rating  \n",
      "0             2.0  \n",
      "1             2.0  \n",
      "2             2.0  \n",
      "3             2.0  \n",
      "4             2.0  \n",
      "<class 'pandas.core.frame.DataFrame'>\n",
      "Int64Index: 973 entries, 0 to 972\n",
      "Data columns (total 7 columns):\n",
      "user_ID           81 non-null object\n",
      "Rcuisine          973 non-null object\n",
      "Upayment          81 non-null object\n",
      "placeID           973 non-null int64\n",
      "rating            81 non-null float64\n",
      "food_rating       81 non-null float64\n",
      "service_rating    81 non-null float64\n",
      "dtypes: float64(3), int64(1), object(3)\n",
      "memory usage: 60.8+ KB\n",
      "None\n"
     ]
    }
   ],
   "source": [
    "# We can even perform outer, left or right merge as well\n",
    "# Let's perform right merge now\n",
    "combined_user_place_left_data = pd.merge(top_rated_places_users, cuisineData, \n",
    "         left_on=['placeID', 'Rcuisine'], right_on=['placeID', 'Rcuisine'], how='right')\n",
    "print(combined_user_place_left_data.head())\n",
    "print(combined_user_place_left_data.info())"
   ]
  },
  {
   "cell_type": "code",
   "execution_count": 15,
   "metadata": {},
   "outputs": [
    {
     "name": "stdout",
     "output_type": "stream",
     "text": [
      "  user_ID Rcuisine          Upayment  placeID  rating  food_rating  \\\n",
      "0   U1003  Mexican              cash   132754     2.0          2.0   \n",
      "1   U1036  Mexican              cash   132754     2.0          2.0   \n",
      "2   U1059  Mexican              cash   132754     2.0          2.0   \n",
      "3   U1061  Mexican  bank_debit_cards   132754     2.0          2.0   \n",
      "4   U1061  Mexican              cash   132754     2.0          2.0   \n",
      "\n",
      "   service_rating  \n",
      "0             2.0  \n",
      "1             2.0  \n",
      "2             2.0  \n",
      "3             2.0  \n",
      "4             2.0  \n",
      "<class 'pandas.core.frame.DataFrame'>\n",
      "Int64Index: 973 entries, 0 to 972\n",
      "Data columns (total 7 columns):\n",
      "user_ID           81 non-null object\n",
      "Rcuisine          973 non-null object\n",
      "Upayment          81 non-null object\n",
      "placeID           973 non-null int64\n",
      "rating            81 non-null float64\n",
      "food_rating       81 non-null float64\n",
      "service_rating    81 non-null float64\n",
      "dtypes: float64(3), int64(1), object(3)\n",
      "memory usage: 60.8+ KB\n",
      "None\n"
     ]
    }
   ],
   "source": [
    "# If column names are duplicate we can avoid right_on and left_on\n",
    "# Instead we can directly use on attribute\n",
    "combined_user_place_on_data = pd.merge(top_rated_places_users, cuisineData, \n",
    "                                       on=['placeID', 'Rcuisine'], how='right')\n",
    "print(combined_user_place_on_data.head())\n",
    "print(combined_user_place_on_data.info())"
   ]
  },
  {
   "cell_type": "code",
   "execution_count": 16,
   "metadata": {},
   "outputs": [
    {
     "name": "stdout",
     "output_type": "stream",
     "text": [
      "     user_ID Rcuisine_places Upayment  placeID  rating  food_rating  \\\n",
      "1671   U1126         Mexican     cash   135106     2.0          2.0   \n",
      "1672   U1126         Mexican     cash   135107     2.0          2.0   \n",
      "1673   U1037         Mexican     cash   135108     2.0          2.0   \n",
      "1674   U1037         Mexican     cash   135109     2.0          2.0   \n",
      "1675   U1037         Mexican     cash   135110     2.0          2.0   \n",
      "\n",
      "      service_rating Rcuisine_cuisine  \n",
      "1671             2.0          Mexican  \n",
      "1672             2.0   Latin_American  \n",
      "1673             2.0   Latin_American  \n",
      "1674             2.0          Italian  \n",
      "1675             2.0          Spanish  \n",
      "<class 'pandas.core.frame.DataFrame'>\n",
      "Int64Index: 1676 entries, 0 to 1675\n",
      "Data columns (total 8 columns):\n",
      "user_ID             1272 non-null object\n",
      "Rcuisine_places     1272 non-null object\n",
      "Upayment            1272 non-null object\n",
      "placeID             1676 non-null int64\n",
      "rating              1272 non-null float64\n",
      "food_rating         1272 non-null float64\n",
      "service_rating      1272 non-null float64\n",
      "Rcuisine_cuisine    1676 non-null object\n",
      "dtypes: float64(3), int64(1), object(4)\n",
      "memory usage: 117.8+ KB\n",
      "None\n"
     ]
    }
   ],
   "source": [
    "combined_user_place_suffixes_data = pd.merge_ordered(top_rated_places_users, cuisineData, \n",
    "         on=['placeID'],suffixes=['_places','_cuisine'], fill_method='ffill')\n",
    "print(combined_user_place_suffixes_data.tail())\n",
    "print(combined_user_place_suffixes_data.info())"
   ]
  },
  {
   "cell_type": "code",
   "execution_count": 17,
   "metadata": {},
   "outputs": [
    {
     "data": {
      "text/html": [
       "<div>\n",
       "<style scoped>\n",
       "    .dataframe tbody tr th:only-of-type {\n",
       "        vertical-align: middle;\n",
       "    }\n",
       "\n",
       "    .dataframe tbody tr th {\n",
       "        vertical-align: top;\n",
       "    }\n",
       "\n",
       "    .dataframe thead th {\n",
       "        text-align: right;\n",
       "    }\n",
       "</style>\n",
       "<table border=\"1\" class=\"dataframe\">\n",
       "  <thead>\n",
       "    <tr style=\"text-align: right;\">\n",
       "      <th></th>\n",
       "      <th>user_ID</th>\n",
       "      <th>Rcuisine_places</th>\n",
       "      <th>Upayment</th>\n",
       "      <th>placeID</th>\n",
       "      <th>rating</th>\n",
       "      <th>food_rating</th>\n",
       "      <th>service_rating</th>\n",
       "      <th>Rcuisine_cuisine</th>\n",
       "    </tr>\n",
       "  </thead>\n",
       "  <tbody>\n",
       "    <tr>\n",
       "      <th>0</th>\n",
       "      <td>U1060</td>\n",
       "      <td>Tex-Mex</td>\n",
       "      <td>cash</td>\n",
       "      <td>132564</td>\n",
       "      <td>2</td>\n",
       "      <td>2</td>\n",
       "      <td>2</td>\n",
       "      <td>Regional</td>\n",
       "    </tr>\n",
       "    <tr>\n",
       "      <th>1</th>\n",
       "      <td>U1060</td>\n",
       "      <td>American</td>\n",
       "      <td>cash</td>\n",
       "      <td>132564</td>\n",
       "      <td>2</td>\n",
       "      <td>2</td>\n",
       "      <td>2</td>\n",
       "      <td>Regional</td>\n",
       "    </tr>\n",
       "    <tr>\n",
       "      <th>2</th>\n",
       "      <td>U1060</td>\n",
       "      <td>Spanish</td>\n",
       "      <td>cash</td>\n",
       "      <td>132564</td>\n",
       "      <td>2</td>\n",
       "      <td>2</td>\n",
       "      <td>2</td>\n",
       "      <td>Regional</td>\n",
       "    </tr>\n",
       "    <tr>\n",
       "      <th>3</th>\n",
       "      <td>U1060</td>\n",
       "      <td>Cafe-Coffee_Shop</td>\n",
       "      <td>cash</td>\n",
       "      <td>132564</td>\n",
       "      <td>2</td>\n",
       "      <td>2</td>\n",
       "      <td>2</td>\n",
       "      <td>Regional</td>\n",
       "    </tr>\n",
       "    <tr>\n",
       "      <th>4</th>\n",
       "      <td>U1060</td>\n",
       "      <td>Burgers</td>\n",
       "      <td>cash</td>\n",
       "      <td>132564</td>\n",
       "      <td>2</td>\n",
       "      <td>2</td>\n",
       "      <td>2</td>\n",
       "      <td>Regional</td>\n",
       "    </tr>\n",
       "  </tbody>\n",
       "</table>\n",
       "</div>"
      ],
      "text/plain": [
       "  user_ID   Rcuisine_places Upayment  placeID  rating  food_rating  \\\n",
       "0   U1060           Tex-Mex     cash   132564       2            2   \n",
       "1   U1060          American     cash   132564       2            2   \n",
       "2   U1060           Spanish     cash   132564       2            2   \n",
       "3   U1060  Cafe-Coffee_Shop     cash   132564       2            2   \n",
       "4   U1060           Burgers     cash   132564       2            2   \n",
       "\n",
       "   service_rating Rcuisine_cuisine  \n",
       "0               2         Regional  \n",
       "1               2         Regional  \n",
       "2               2         Regional  \n",
       "3               2         Regional  \n",
       "4               2         Regional  "
      ]
     },
     "metadata": {},
     "output_type": "display_data"
    },
    {
     "name": "stdout",
     "output_type": "stream",
     "text": [
      "<class 'pandas.core.frame.DataFrame'>\n",
      "Int64Index: 753 entries, 0 to 752\n",
      "Data columns (total 8 columns):\n",
      "user_ID             753 non-null object\n",
      "Rcuisine_places     753 non-null object\n",
      "Upayment            753 non-null object\n",
      "placeID             753 non-null int64\n",
      "rating              753 non-null int64\n",
      "food_rating         753 non-null int64\n",
      "service_rating      753 non-null int64\n",
      "Rcuisine_cuisine    753 non-null object\n",
      "dtypes: int64(4), object(4)\n",
      "memory usage: 52.9+ KB\n",
      "None\n"
     ]
    }
   ],
   "source": [
    "top_rated_places_users.is_copy = False\n",
    "top_rated_places_users.sort_values('placeID', inplace=True)\n",
    "\n",
    "combined_user_place_suffixes_data = pd.merge_asof(top_rated_places_users, cuisineData, \n",
    "         on=['placeID'],suffixes=['_places','_cuisine'])\n",
    "display(combined_user_place_suffixes_data.head())\n",
    "print(combined_user_place_suffixes_data.info())"
   ]
  },
  {
   "cell_type": "markdown",
   "metadata": {},
   "source": []
  }
 ],
 "metadata": {
  "kernelspec": {
   "display_name": "Python 3",
   "language": "python",
   "name": "python3"
  },
  "language_info": {
   "codemirror_mode": {
    "name": "ipython",
    "version": 3
   },
   "file_extension": ".py",
   "mimetype": "text/x-python",
   "name": "python",
   "nbconvert_exporter": "python",
   "pygments_lexer": "ipython3",
   "version": "3.6.4"
  }
 },
 "nbformat": 4,
 "nbformat_minor": 2
}
