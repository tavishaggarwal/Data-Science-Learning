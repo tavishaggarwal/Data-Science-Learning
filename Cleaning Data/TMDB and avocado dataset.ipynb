{
 "cells": [
  {
   "cell_type": "markdown",
   "metadata": {},
   "source": [
    "## Importing packages"
   ]
  },
  {
   "cell_type": "code",
   "execution_count": 137,
   "metadata": {},
   "outputs": [],
   "source": [
    "import pandas as pd\n",
    "import matplotlib.pyplot as plt\n",
    "import json\n",
    "import numpy as np"
   ]
  },
  {
   "cell_type": "markdown",
   "metadata": {},
   "source": [
    "## Importing csv files"
   ]
  },
  {
   "cell_type": "code",
   "execution_count": 169,
   "metadata": {},
   "outputs": [],
   "source": [
    "tmdbDataSet = pd.read_csv('tmdb_5000_movies.csv')\n",
    "avocadoDataSet = pd.read_csv('avocado.csv')\n",
    "del avocadoDataSet['Unnamed: 0'] # removing unwanted column from dataset"
   ]
  },
  {
   "cell_type": "markdown",
   "metadata": {},
   "source": [
    "## Extract basic information about dataset"
   ]
  },
  {
   "cell_type": "code",
   "execution_count": 35,
   "metadata": {},
   "outputs": [
    {
     "name": "stdout",
     "output_type": "stream",
     "text": [
      "      budget                                             genres  \\\n",
      "0  237000000  [{\"id\": 28, \"name\": \"Action\"}, {\"id\": 12, \"nam...   \n",
      "1  300000000  [{\"id\": 12, \"name\": \"Adventure\"}, {\"id\": 14, \"...   \n",
      "2  245000000  [{\"id\": 28, \"name\": \"Action\"}, {\"id\": 12, \"nam...   \n",
      "3  250000000  [{\"id\": 28, \"name\": \"Action\"}, {\"id\": 80, \"nam...   \n",
      "4  260000000  [{\"id\": 28, \"name\": \"Action\"}, {\"id\": 12, \"nam...   \n",
      "\n",
      "                                       homepage      id  \\\n",
      "0                   http://www.avatarmovie.com/   19995   \n",
      "1  http://disney.go.com/disneypictures/pirates/     285   \n",
      "2   http://www.sonypictures.com/movies/spectre/  206647   \n",
      "3            http://www.thedarkknightrises.com/   49026   \n",
      "4          http://movies.disney.com/john-carter   49529   \n",
      "\n",
      "                                            keywords original_language  \\\n",
      "0  [{\"id\": 1463, \"name\": \"culture clash\"}, {\"id\":...                en   \n",
      "1  [{\"id\": 270, \"name\": \"ocean\"}, {\"id\": 726, \"na...                en   \n",
      "2  [{\"id\": 470, \"name\": \"spy\"}, {\"id\": 818, \"name...                en   \n",
      "3  [{\"id\": 849, \"name\": \"dc comics\"}, {\"id\": 853,...                en   \n",
      "4  [{\"id\": 818, \"name\": \"based on novel\"}, {\"id\":...                en   \n",
      "\n",
      "                             original_title  \\\n",
      "0                                    Avatar   \n",
      "1  Pirates of the Caribbean: At World's End   \n",
      "2                                   Spectre   \n",
      "3                     The Dark Knight Rises   \n",
      "4                               John Carter   \n",
      "\n",
      "                                            overview  popularity  \\\n",
      "0  In the 22nd century, a paraplegic Marine is di...  150.437577   \n",
      "1  Captain Barbossa, long believed to be dead, ha...  139.082615   \n",
      "2  A cryptic message from Bond’s past sends him o...  107.376788   \n",
      "3  Following the death of District Attorney Harve...  112.312950   \n",
      "4  John Carter is a war-weary, former military ca...   43.926995   \n",
      "\n",
      "                                production_companies  \\\n",
      "0  [{\"name\": \"Ingenious Film Partners\", \"id\": 289...   \n",
      "1  [{\"name\": \"Walt Disney Pictures\", \"id\": 2}, {\"...   \n",
      "2  [{\"name\": \"Columbia Pictures\", \"id\": 5}, {\"nam...   \n",
      "3  [{\"name\": \"Legendary Pictures\", \"id\": 923}, {\"...   \n",
      "4        [{\"name\": \"Walt Disney Pictures\", \"id\": 2}]   \n",
      "\n",
      "                                production_countries release_date     revenue  \\\n",
      "0  [{\"iso_3166_1\": \"US\", \"name\": \"United States o...   2009-12-10  2787965087   \n",
      "1  [{\"iso_3166_1\": \"US\", \"name\": \"United States o...   2007-05-19   961000000   \n",
      "2  [{\"iso_3166_1\": \"GB\", \"name\": \"United Kingdom\"...   2015-10-26   880674609   \n",
      "3  [{\"iso_3166_1\": \"US\", \"name\": \"United States o...   2012-07-16  1084939099   \n",
      "4  [{\"iso_3166_1\": \"US\", \"name\": \"United States o...   2012-03-07   284139100   \n",
      "\n",
      "   runtime                                   spoken_languages    status  \\\n",
      "0    162.0  [{\"iso_639_1\": \"en\", \"name\": \"English\"}, {\"iso...  Released   \n",
      "1    169.0           [{\"iso_639_1\": \"en\", \"name\": \"English\"}]  Released   \n",
      "2    148.0  [{\"iso_639_1\": \"fr\", \"name\": \"Fran\\u00e7ais\"},...  Released   \n",
      "3    165.0           [{\"iso_639_1\": \"en\", \"name\": \"English\"}]  Released   \n",
      "4    132.0           [{\"iso_639_1\": \"en\", \"name\": \"English\"}]  Released   \n",
      "\n",
      "                                          tagline  \\\n",
      "0                     Enter the World of Pandora.   \n",
      "1  At the end of the world, the adventure begins.   \n",
      "2                           A Plan No One Escapes   \n",
      "3                                 The Legend Ends   \n",
      "4            Lost in our world, found in another.   \n",
      "\n",
      "                                      title  vote_average  vote_count  \n",
      "0                                    Avatar           7.2       11800  \n",
      "1  Pirates of the Caribbean: At World's End           6.9        4500  \n",
      "2                                   Spectre           6.3        4466  \n",
      "3                     The Dark Knight Rises           7.6        9106  \n",
      "4                               John Carter           6.1        2124  \n"
     ]
    }
   ],
   "source": [
    "# Returning top 5 rows\n",
    "print(tmdbDataSet.head())"
   ]
  },
  {
   "cell_type": "code",
   "execution_count": null,
   "metadata": {},
   "outputs": [],
   "source": [
    "# Returning last row\n",
    "print(tmdbDataSet.tail(1))"
   ]
  },
  {
   "cell_type": "code",
   "execution_count": null,
   "metadata": {},
   "outputs": [],
   "source": [
    "# Getting info about dataset like clolumn types, count of not null values\n",
    "print(tmdbDataSet.info())"
   ]
  },
  {
   "cell_type": "code",
   "execution_count": null,
   "metadata": {},
   "outputs": [],
   "source": [
    "# Another way to check datatypes of the columns\n",
    "print(tmdbDataSet.dtypes)"
   ]
  },
  {
   "cell_type": "code",
   "execution_count": 109,
   "metadata": {},
   "outputs": [
    {
     "name": "stdout",
     "output_type": "stream",
     "text": [
      "Index(['budget', 'genres', 'homepage', 'id', 'keywords', 'original_language',\n",
      "       'original_title', 'overview', 'popularity', 'production_companies',\n",
      "       'production_countries', 'release_date', 'revenue', 'runtime',\n",
      "       'spoken_languages', 'status', 'tagline', 'title', 'vote_average',\n",
      "       'vote_count'],\n",
      "      dtype='object')\n"
     ]
    }
   ],
   "source": [
    "# Get all the columns in dataset\n",
    "print(tmdbDataSet.columns)"
   ]
  },
  {
   "cell_type": "code",
   "execution_count": null,
   "metadata": {},
   "outputs": [],
   "source": [
    "# Get the shape of dataset\n",
    "print(tmdbDataSet.shape)"
   ]
  },
  {
   "cell_type": "code",
   "execution_count": null,
   "metadata": {},
   "outputs": [],
   "source": [
    "# Get information like count, mean, std, min, 25%, 50%, 75% and max of dataset\n",
    "print(tmdbDataSet.describe())"
   ]
  },
  {
   "cell_type": "code",
   "execution_count": null,
   "metadata": {},
   "outputs": [],
   "source": [
    "# To calulate 55% of the dataset\n",
    "print(tmdbDataSet.vote_count.quantile([0.55]))"
   ]
  },
  {
   "cell_type": "code",
   "execution_count": null,
   "metadata": {},
   "outputs": [],
   "source": [
    "# output is same as that of above cell\n",
    "temp = tmdbDataSet.sort_values(['vote_count']).head(2641)\n",
    "print(temp.vote_count.tail(1))"
   ]
  },
  {
   "cell_type": "code",
   "execution_count": null,
   "metadata": {},
   "outputs": [],
   "source": [
    "# To calculate median of the dataset\n",
    "print(tmdbDataSet.median())"
   ]
  },
  {
   "cell_type": "markdown",
   "metadata": {},
   "source": [
    "## Analyzing null values\n",
    "As we observed that out of 4803 rows only 1712 are the not null values for the homepage column. Let's investigate it further and check why these column have null values"
   ]
  },
  {
   "cell_type": "code",
   "execution_count": null,
   "metadata": {},
   "outputs": [],
   "source": [
    "tmdbDataSet[tmdbDataSet['homepage'].isnull()]"
   ]
  },
  {
   "cell_type": "code",
   "execution_count": null,
   "metadata": {},
   "outputs": [],
   "source": [
    "# Check the unique values of the column \n",
    "print(tmdbDataSet.production_countries.value_counts())"
   ]
  },
  {
   "cell_type": "code",
   "execution_count": 88,
   "metadata": {},
   "outputs": [
    {
     "name": "stdout",
     "output_type": "stream",
     "text": [
      "NaN    4803\n",
      "Name: spoken_languages, dtype: int64\n"
     ]
    }
   ],
   "source": [
    "print(tmdbDataSet.spoken_languages.value_counts(dropna=False))"
   ]
  },
  {
   "cell_type": "code",
   "execution_count": null,
   "metadata": {},
   "outputs": [],
   "source": [
    "print(tmdbDataSet.release_date.value_counts(dropna=False))"
   ]
  },
  {
   "cell_type": "markdown",
   "metadata": {},
   "source": [
    "## Converting data type of the column\n",
    "As we have seen above that status column have only 3 distinct values. So it would be feasible to convert the column data type to category"
   ]
  },
  {
   "cell_type": "code",
   "execution_count": null,
   "metadata": {},
   "outputs": [],
   "source": [
    "# Converting datatype of column to category\n",
    "tmdbDataSet['status'] = tmdbDataSet['status'].astype('category')\n",
    "print(tmdbDataSet.status.dtypes)"
   ]
  },
  {
   "cell_type": "code",
   "execution_count": null,
   "metadata": {},
   "outputs": [],
   "source": [
    "# Command used to convert data type to numeric\n",
    "# Note that below command will give an error while executing as string cannot be converted to numeric\n",
    "tmdbDataSet['status'] = pd.to_numeric(tmdbDataSet['status'])"
   ]
  },
  {
   "cell_type": "code",
   "execution_count": null,
   "metadata": {},
   "outputs": [],
   "source": [
    "# To forcefully convert column to numeric. It will insert NaN for the values it cannot convert to integer\n",
    "pd.to_numeric(tmdbDataSet['status'], errors='coerce')"
   ]
  },
  {
   "cell_type": "markdown",
   "metadata": {},
   "source": [
    "# Melting and pivoting of dataset"
   ]
  },
  {
   "cell_type": "code",
   "execution_count": 149,
   "metadata": {},
   "outputs": [
    {
     "name": "stdout",
     "output_type": "stream",
     "text": [
      "         Date  AveragePrice  Total Volume  Total Bags  Small Bags  Large Bags  \\\n",
      "0  2015-12-27          1.33      64236.62     8696.87     8603.62       93.25   \n",
      "1  2015-12-20          1.35      54876.98     9505.56     9408.07       97.49   \n",
      "2  2015-12-13          0.93     118220.22     8145.35     8042.21      103.14   \n",
      "3  2015-12-06          1.08      78992.15     5811.16     5677.40      133.76   \n",
      "4  2015-11-29          1.28      51039.60     6183.95     5986.26      197.69   \n",
      "\n",
      "   XLarge Bags          type  year  region avocados_variety     4046  \n",
      "0          0.0  conventional  2015  Albany             4046  1036.74  \n",
      "1          0.0  conventional  2015  Albany             4046   674.28  \n",
      "2          0.0  conventional  2015  Albany             4046    794.7  \n",
      "3          0.0  conventional  2015  Albany             4046     1132  \n",
      "4          0.0  conventional  2015  Albany             4046   941.48  \n"
     ]
    }
   ],
   "source": [
    "# Melting of dataset\n",
    "avocadoDataSet_melt_4770 = pd.melt(avocadoDataSet, id_vars=['Date', 'AveragePrice', 'Total Volume', '4046', '4225',\n",
    "       'Total Bags', 'Small Bags', 'Large Bags', 'XLarge Bags', 'type', 'year',\n",
    "       'region'], var_name='avocados_variety', value_name='4770')\n",
    "\n",
    "avocadoDataSet_melt_4225 = pd.melt(avocadoDataSet_melt_4770, id_vars=['Date', 'AveragePrice', 'Total Volume', '4046',\n",
    "       'Total Bags', 'Small Bags', 'Large Bags', 'XLarge Bags', 'type', 'year',\n",
    "       'region'], var_name='avocados_variety', value_name='4225')\n",
    "\n",
    "avocadoDataSet_melt_4046 = pd.melt(avocadoDataSet_melt_4225, id_vars=['Date', 'AveragePrice', 'Total Volume',\n",
    "       'Total Bags', 'Small Bags', 'Large Bags', 'XLarge Bags', 'type', 'year',\n",
    "       'region'], var_name='avocados_variety', value_name='4046')\n",
    "\n",
    "print(avocadoDataSet_melt_4046.head())"
   ]
  },
  {
   "cell_type": "code",
   "execution_count": null,
   "metadata": {},
   "outputs": [],
   "source": []
  },
  {
   "cell_type": "markdown",
   "metadata": {},
   "source": [
    "# Splitting columns\n",
    "\n",
    "We can even split a single column into multiple column."
   ]
  },
  {
   "cell_type": "code",
   "execution_count": 174,
   "metadata": {},
   "outputs": [
    {
     "name": "stdout",
     "output_type": "stream",
     "text": [
      "         Date  AveragePrice  Total Volume     4046       4225    4770  \\\n",
      "0  2015-12-27          1.33      64236.62  1036.74   54454.85   48.16   \n",
      "1  2015-12-20          1.35      54876.98   674.28   44638.81   58.33   \n",
      "2  2015-12-13          0.93     118220.22   794.70  109149.67  130.50   \n",
      "3  2015-12-06          1.08      78992.15  1132.00   71976.41   72.58   \n",
      "4  2015-11-29          1.28      51039.60   941.48   43838.39   75.78   \n",
      "\n",
      "   Total Bags  Small Bags  Large Bags  XLarge Bags          type  year  \\\n",
      "0     8696.87     8603.62       93.25          0.0  conventional  2015   \n",
      "1     9505.56     9408.07       97.49          0.0  conventional  2015   \n",
      "2     8145.35     8042.21      103.14          0.0  conventional  2015   \n",
      "3     5811.16     5677.40      133.76          0.0  conventional  2015   \n",
      "4     6183.95     5986.26      197.69          0.0  conventional  2015   \n",
      "\n",
      "   region Month  \n",
      "0  Albany   DEC  \n",
      "1  Albany   DEC  \n",
      "2  Albany   DEC  \n",
      "3  Albany   DEC  \n",
      "4  Albany   NOV  \n"
     ]
    }
   ],
   "source": [
    "month = {1: 'JAN', 2: 'FEB', 3: 'MAR', \n",
    "         4: 'APR',5: 'MAY', 6: 'JUNE',7: 'JULY', 8: 'AUG', 9: 'SEP', 10: 'OCT', 11: 'NOV', 12: 'DEC' }\n",
    "avocadoDataSet['Month'] = avocadoDataSet.Date.str.split('-').str.get(1)\n",
    "avocadoDataSet['Month'] = pd.to_numeric(avocadoDataSet['Month'], errors='coerce')\n",
    "avocadoDataSet['Month'] = avocadoDataSet['Month'].map(month)\n",
    "print(avocadoDataSet.head())"
   ]
  },
  {
   "cell_type": "code",
   "execution_count": null,
   "metadata": {},
   "outputs": [],
   "source": []
  }
 ],
 "metadata": {
  "kernelspec": {
   "display_name": "Python 3",
   "language": "python",
   "name": "python3"
  }
 },
 "nbformat": 4,
 "nbformat_minor": 2
}
