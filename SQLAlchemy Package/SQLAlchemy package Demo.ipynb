{
 "cells": [
  {
   "cell_type": "markdown",
   "metadata": {},
   "source": [
    "## Importing Packages"
   ]
  },
  {
   "cell_type": "code",
   "execution_count": null,
   "metadata": {},
   "outputs": [],
   "source": [
    "from sqlalchemy import MetaData, create_engine, Table, Column, String, Integer, Float, Boolean,delete\n",
    "from sqlalchemy import insert, select,func, and_, desc, case, cast\n",
    "\n",
    "import pandas as pd"
   ]
  },
  {
   "cell_type": "markdown",
   "metadata": {},
   "source": [
    "## Connecting to Database"
   ]
  },
  {
   "cell_type": "code",
   "execution_count": null,
   "metadata": {},
   "outputs": [],
   "source": [
    "# Create an engine that connects to the census.sqlite file: engine\n",
    "engine = create_engine('sqlite:///Chinook_Sqlite.sqlite')\n",
    "# Print table names\n",
    "print(engine.table_names())\n",
    "\n",
    "# Defining metadata object\n",
    "metadata = MetaData()"
   ]
  },
  {
   "cell_type": "markdown",
   "metadata": {},
   "source": [
    "## Creating Table"
   ]
  },
  {
   "cell_type": "code",
   "execution_count": null,
   "metadata": {},
   "outputs": [],
   "source": [
    "# Creating table if it doesn't exist in database\n",
    "if not engine.has_table('instrument'):\n",
    "    data = Table('instrument', metadata,\n",
    "             Column('InstrumentID', Integer(), unique=True),\n",
    "             Column('ArtistID', Integer(), unique=True),\n",
    "             Column('Instrument_Name', String(500)),\n",
    "             Column('Cost', Integer())\n",
    "    )\n",
    "    # Use the metadata to create the table\n",
    "    metadata.create_all(engine)"
   ]
  },
  {
   "cell_type": "markdown",
   "metadata": {},
   "source": [
    "## Creating Table Object"
   ]
  },
  {
   "cell_type": "code",
   "execution_count": null,
   "metadata": {},
   "outputs": [],
   "source": [
    "customer = Table('customer', metadata, autoload=True, autoload_with=engine)\n",
    "instrument = Table('instrument', metadata, autoload=True, autoload_with=engine)\n",
    "artist = Table('Artist', metadata, autoload=True, autoload_with=engine)"
   ]
  },
  {
   "cell_type": "markdown",
   "metadata": {},
   "source": [
    "## Getting Table Information"
   ]
  },
  {
   "cell_type": "code",
   "execution_count": null,
   "metadata": {},
   "outputs": [],
   "source": [
    "# Print the column names\n",
    "print(instrument.columns.keys())\n",
    "print('---------------------------------')\n",
    "# Print the table details\n",
    "print(repr(metadata.tables['instrument']))"
   ]
  },
  {
   "cell_type": "markdown",
   "metadata": {},
   "source": [
    "## Inserting Data into Table"
   ]
  },
  {
   "cell_type": "code",
   "execution_count": null,
   "metadata": {},
   "outputs": [],
   "source": [
    "## Inserting single row in the table\n",
    "stmt = insert(instrument).values(InstrumentID=1, ArtistID = 1, Instrument_Name='Guitar', Cost=245)\n",
    "\n",
    "results = engine.execute(stmt)\n",
    "# Returns number of rows affected\n",
    "print(results.rowcount)"
   ]
  },
  {
   "cell_type": "code",
   "execution_count": null,
   "metadata": {},
   "outputs": [],
   "source": [
    "## Inserting multiple row in the table\n",
    "instrument_list = [\n",
    "    {'InstrumentID': 2, 'ArtistID': 2, 'Instrument_Name': 'Tabla', 'Cost': 200},\n",
    "    {'InstrumentID': 3, 'ArtistID': 3, 'Instrument_Name': 'Vilon', 'Cost': 500}\n",
    "]\n",
    "\n",
    "\n",
    "stmt = insert(instrument)\n",
    "results = engine.execute(stmt, instrument_list)\n",
    "\n",
    "print(results.rowcount)"
   ]
  },
  {
   "cell_type": "code",
   "execution_count": null,
   "metadata": {},
   "outputs": [],
   "source": [
    "# Inserting data from csv file\n",
    "instruments_csv = pd.read_csv('instruments.csv')\n",
    "\n",
    "stmt = insert(instrument)\n",
    "\n",
    "instrument_list = []\n",
    "\n",
    "for index, row in instruments_csv.iterrows():\n",
    "    data = {'InstrumentID': row[0], 'ArtistID': row[1], 'Instrument_Name': row[2], 'Cost': row[3]}\n",
    "    instrument_list.append(data)\n",
    "\n",
    "results = engine.execute(stmt, instrument_list)\n",
    "print(results.rowcount)"
   ]
  },
  {
   "cell_type": "markdown",
   "metadata": {},
   "source": [
    "## Selecting Data"
   ]
  },
  {
   "cell_type": "code",
   "execution_count": null,
   "metadata": {},
   "outputs": [],
   "source": [
    "# Selecting data without using SQLAlchemy package\n",
    "stmt = 'SELECT * FROM instrument'\n",
    "\n",
    "results = engine.execute(stmt).fetchall()\n",
    "print(results)"
   ]
  },
  {
   "cell_type": "code",
   "execution_count": null,
   "metadata": {},
   "outputs": [],
   "source": [
    "stmt = select([instrument])\n",
    "\n",
    "# SQL Statement while will be executed\n",
    "print(stmt)\n",
    "\n",
    "result = engine.execute(stmt).fetchall()\n",
    "\n",
    "# First row\n",
    "first_row = result[0]\n",
    "\n",
    "print(first_row)\n",
    "\n",
    "# First column in first row\n",
    "print(first_row[0])\n",
    "\n",
    "print(first_row['Instrument_Name'])\n"
   ]
  },
  {
   "cell_type": "markdown",
   "metadata": {},
   "source": [
    "### Selecting using 'where' Clause"
   ]
  },
  {
   "cell_type": "code",
   "execution_count": null,
   "metadata": {},
   "outputs": [],
   "source": [
    "stmt = select([customer])\n",
    "\n",
    "stmt = stmt.where(customer.columns.PostalCode == '12227-000')\n",
    "\n",
    "results = engine.execute(stmt).fetchall()\n",
    "\n",
    "for result in results:\n",
    "    print(result)"
   ]
  },
  {
   "cell_type": "markdown",
   "metadata": {},
   "source": [
    "### Selecting using 'in' Clause"
   ]
  },
  {
   "cell_type": "code",
   "execution_count": null,
   "metadata": {},
   "outputs": [],
   "source": [
    "stmt = select([customer])\n",
    "\n",
    "stmt = stmt.where(customer.columns.PostalCode.in_(['14700', '12227-000']))\n",
    "\n",
    "stmt = stmt.order_by(customer.columns.PostalCode)\n",
    "\n",
    "results = engine.execute(stmt).fetchall()\n",
    "\n",
    "for result in results:\n",
    "    print(result)"
   ]
  },
  {
   "cell_type": "markdown",
   "metadata": {},
   "source": [
    "### Selecting using 'and' Clause"
   ]
  },
  {
   "cell_type": "code",
   "execution_count": null,
   "metadata": {},
   "outputs": [],
   "source": [
    "stmt = select([customer])\n",
    "\n",
    "stmt = stmt.where(\n",
    "    and_(\n",
    "        customer.columns.Country == 'Brazil',\n",
    "        customer.columns.Email == 'eduardo@woodstock.com.br'\n",
    "    )\n",
    ")\n",
    "\n",
    "results = engine.execute(stmt).fetchall()\n",
    "\n",
    "for result in results:\n",
    "    print(result)"
   ]
  },
  {
   "cell_type": "markdown",
   "metadata": {},
   "source": [
    "### Ordering Data with one Column"
   ]
  },
  {
   "cell_type": "code",
   "execution_count": null,
   "metadata": {},
   "outputs": [],
   "source": [
    "stmt = select([instrument])\n",
    "\n",
    "stmt = stmt.order_by(instrument.columns.Instrument_Name)\n",
    "\n",
    "result = engine.execute(stmt).fetchall()\n",
    "print(result)"
   ]
  },
  {
   "cell_type": "markdown",
   "metadata": {},
   "source": [
    "### Ordering Data with one Column in Reverse order"
   ]
  },
  {
   "cell_type": "code",
   "execution_count": null,
   "metadata": {},
   "outputs": [],
   "source": [
    "stmt = select([instrument])\n",
    "\n",
    "stmt = stmt.order_by(desc(instrument.columns.Instrument_Name))\n",
    "\n",
    "result = engine.execute(stmt).fetchall()\n",
    "print(result)"
   ]
  },
  {
   "cell_type": "markdown",
   "metadata": {},
   "source": [
    "### Ordering Data with more than one Column"
   ]
  },
  {
   "cell_type": "code",
   "execution_count": null,
   "metadata": {},
   "outputs": [],
   "source": [
    "stmt = select([instrument])\n",
    "\n",
    "stmt = stmt.order_by(desc(instrument.columns.Cost), instrument.columns.Instrument_Name)\n",
    "\n",
    "result = engine.execute(stmt).fetchall()\n",
    "print(result)"
   ]
  },
  {
   "cell_type": "markdown",
   "metadata": {},
   "source": [
    "### Aggregating Data"
   ]
  },
  {
   "cell_type": "code",
   "execution_count": null,
   "metadata": {},
   "outputs": [],
   "source": [
    "stmt = select([func.count(instrument.columns.Instrument_Name.distinct())])\n",
    "\n",
    "distinct_instruments = engine.execute(stmt).scalar()\n",
    "\n",
    "print(distinct_instruments)"
   ]
  },
  {
   "cell_type": "markdown",
   "metadata": {},
   "source": [
    "### Grouping up the Data"
   ]
  },
  {
   "cell_type": "code",
   "execution_count": null,
   "metadata": {},
   "outputs": [],
   "source": [
    "stmt = select([instrument.columns.Instrument_Name, \n",
    "               func.count(instrument.columns.Instrument_Name), instrument.columns.Cost])\n",
    "\n",
    "stmt = stmt.group_by(instrument.columns.Instrument_Name)\n",
    "\n",
    "results = engine.execute(stmt).fetchall()\n",
    "\n",
    "print(results)"
   ]
  },
  {
   "cell_type": "markdown",
   "metadata": {},
   "source": [
    "### Renaming Column"
   ]
  },
  {
   "cell_type": "code",
   "execution_count": null,
   "metadata": {},
   "outputs": [],
   "source": [
    "instruments_count = func.count(instrument.columns.Instrument_Name).label('instruments_count')\n",
    "\n",
    "stmt = select([instruments_count, instrument.columns.Instrument_Name, instrument.columns.Cost])\n",
    "\n",
    "stmt = stmt.group_by(instrument.columns.Instrument_Name)\n",
    "\n",
    "results = engine.execute(stmt).fetchall()\n",
    "\n",
    "print(results)\n",
    "\n",
    "print(results[0].keys())"
   ]
  },
  {
   "cell_type": "markdown",
   "metadata": {},
   "source": [
    "### Case and Cast Statements"
   ]
  },
  {
   "cell_type": "code",
   "execution_count": null,
   "metadata": {},
   "outputs": [],
   "source": [
    "price_gt_250 = case([\n",
    "        (instrument.columns.Cost < 250, True)\n",
    "    ], else_= False)\n",
    "\n",
    "total_pop2000 = cast(price_gt_250, Boolean)\n",
    "\n",
    "stmt = select([instrument.columns.Instrument_Name, price_gt_250])\n",
    "\n",
    "result = engine.execute(stmt).fetchall()\n",
    "# Print the percentage\n",
    "print(result)"
   ]
  },
  {
   "cell_type": "markdown",
   "metadata": {},
   "source": [
    "### Arithmetic Operations"
   ]
  },
  {
   "cell_type": "code",
   "execution_count": null,
   "metadata": {},
   "outputs": [],
   "source": [
    "stmt = select([customer.columns.CustomerId, (customer.columns.FirstName + ' ' + customer.columns.LastName)\n",
    "           .label('customer_name')])\n",
    "\n",
    "stmt = stmt.order_by('customer_name')\n",
    "\n",
    "stmt = stmt.limit(5)\n",
    "print(stmt)\n",
    "results = engine.execute(stmt).fetchall()\n",
    "\n",
    "for result in results:\n",
    "    print(result, ' ')"
   ]
  },
  {
   "cell_type": "markdown",
   "metadata": {},
   "source": [
    "## Joining Tables"
   ]
  },
  {
   "cell_type": "code",
   "execution_count": null,
   "metadata": {},
   "outputs": [],
   "source": [
    "stmt = select([instrument, artist])\n",
    "\n",
    "stmt = stmt.select_from(\n",
    "    instrument.join(artist, instrument.columns.ArtistID == artist.columns.ArtistId))\n",
    "print(stmt)\n",
    "result = engine.execute(stmt).fetchall()\n",
    "\n",
    "# Printing first two items from result set\n",
    "print(result[:2])"
   ]
  },
  {
   "cell_type": "markdown",
   "metadata": {},
   "source": [
    "## Updating Data"
   ]
  },
  {
   "cell_type": "code",
   "execution_count": null,
   "metadata": {},
   "outputs": [],
   "source": [
    "stmt = update(instrument).values(Cost = 200).where(instrument.columns.Cost < 250)\n",
    "\n",
    "results = engine.execute(stmt)\n",
    "\n",
    "print(results.rowcount)\n",
    "\n",
    "# checking data after updating it\n",
    "stmt = select([instrument])\n",
    "results = engine.execute(stmt).fetchall()\n",
    "print(results)"
   ]
  },
  {
   "cell_type": "markdown",
   "metadata": {},
   "source": [
    "## Creating Pandas Dataframe out of Result Set"
   ]
  },
  {
   "cell_type": "code",
   "execution_count": null,
   "metadata": {},
   "outputs": [],
   "source": [
    "stmt = select([instrument])\n",
    "results = engine.execute(stmt).fetchall()\n",
    "\n",
    "df = pd.DataFrame(results)\n",
    "\n",
    "df.columns = results[0].keys()\n",
    "\n",
    "print(df)"
   ]
  },
  {
   "cell_type": "markdown",
   "metadata": {},
   "source": [
    "## Deleting Data based on a Condition"
   ]
  },
  {
   "cell_type": "code",
   "execution_count": null,
   "metadata": {},
   "outputs": [],
   "source": [
    "stmt = delete(instrument)\n",
    "stmt = stmt.where(instrument.columns.Cost < 250)\n",
    "\n",
    "results = engine.execute(stmt)\n",
    "\n",
    "print(results.rowcount)"
   ]
  },
  {
   "cell_type": "markdown",
   "metadata": {},
   "source": [
    "## Deleting all of the Data"
   ]
  },
  {
   "cell_type": "code",
   "execution_count": null,
   "metadata": {},
   "outputs": [],
   "source": [
    "stmt = delete(instrument)\n",
    "\n",
    "results = engine.execute(stmt)\n",
    "\n",
    "print(results.rowcount)"
   ]
  },
  {
   "cell_type": "markdown",
   "metadata": {},
   "source": [
    "## Deleting Table\n",
    "Be very sure before running below commands as it will delete table from database"
   ]
  },
  {
   "cell_type": "code",
   "execution_count": null,
   "metadata": {},
   "outputs": [],
   "source": [
    "instrument.drop(engine)\n",
    "print(instrument.exists(engine))\n",
    "\n",
    "# Dropping all tables\n",
    "metadata.drop_all(engine)\n",
    "print(customer.exists(engine))"
   ]
  },
  {
   "cell_type": "code",
   "execution_count": null,
   "metadata": {},
   "outputs": [],
   "source": []
  }
 ],
 "metadata": {
  "kernelspec": {
   "display_name": "Python 3",
   "language": "python",
   "name": "python3"
  },
  "language_info": {
   "codemirror_mode": {
    "name": "ipython",
    "version": 3
   },
   "file_extension": ".py",
   "mimetype": "text/x-python",
   "name": "python",
   "nbconvert_exporter": "python",
   "pygments_lexer": "ipython3",
   "version": "3.6.4"
  }
 },
 "nbformat": 4,
 "nbformat_minor": 2
}
