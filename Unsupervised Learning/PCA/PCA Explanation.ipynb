{
 "cells": [
  {
   "cell_type": "markdown",
   "metadata": {},
   "source": [
    "## Importing Packages"
   ]
  },
  {
   "cell_type": "code",
   "execution_count": 5,
   "metadata": {},
   "outputs": [],
   "source": [
    "import warnings\n",
    "warnings.simplefilter(\"ignore\")\n",
    "\n",
    "import pandas as pd\n",
    "import numpy as np\n",
    "import seaborn as sns"
   ]
  },
  {
   "cell_type": "code",
   "execution_count": 2,
   "metadata": {},
   "outputs": [],
   "source": [
    "#For visualising the screeplot\n",
    "import matplotlib.pyplot as plt\n",
    "import seaborn as sns\n",
    "%matplotlib inline"
   ]
  },
  {
   "cell_type": "markdown",
   "metadata": {},
   "source": [
    "## Linear Combination"
   ]
  },
  {
   "cell_type": "code",
   "execution_count": 9,
   "metadata": {},
   "outputs": [
    {
     "name": "stderr",
     "output_type": "stream",
     "text": [
      "<ipython-input-9-178247240c40>:6: RuntimeWarning: divide by zero encountered in multiply\n",
      "  lincom = m*v1 +  n*v2\n",
      "<ipython-input-9-178247240c40>:6: RuntimeWarning: divide by zero encountered in add\n",
      "  lincom = m*v1 +  n*v2\n",
      "C:\\Users\\Tavish Aggarwal\\anaconda3\\lib\\site-packages\\numpy\\core\\fromnumeric.py:87: RuntimeWarning: divide by zero encountered in reduce\n",
      "  return ufunc.reduce(obj, axis, dtype, out, **passkwargs)\n"
     ]
    },
    {
     "data": {
      "text/plain": [
       "array([ 8, 11])"
      ]
     },
     "execution_count": 9,
     "metadata": {},
     "output_type": "execute_result"
    }
   ],
   "source": [
    "v1 = np.array([2,3])\n",
    "v2 = np.array([3,4])\n",
    "m = 1\n",
    "n = 2\n",
    "\n",
    "lincom = m*v1 +  n*v2\n",
    "lincom"
   ]
  },
  {
   "cell_type": "markdown",
   "metadata": {},
   "source": [
    "We can do the reverse part as well. That is finding the values of m,n for which the given vector is a linear combination of the previous two vectors.​"
   ]
  },
  {
   "cell_type": "code",
   "execution_count": 10,
   "metadata": {},
   "outputs": [
    {
     "data": {
      "text/plain": [
       "(1.0, 2.0)"
      ]
     },
     "execution_count": 10,
     "metadata": {},
     "output_type": "execute_result"
    }
   ],
   "source": [
    "lincom2  = ([8,11])\n",
    "setvec = np.array([[2,3],[3,4]])\n",
    "m,n = np.linalg.solve(setvec, lincom2)\n",
    "m,n"
   ]
  },
  {
   "cell_type": "markdown",
   "metadata": {},
   "source": [
    "## Basis Vector"
   ]
  },
  {
   "cell_type": "code",
   "execution_count": 11,
   "metadata": {},
   "outputs": [
    {
     "name": "stderr",
     "output_type": "stream",
     "text": [
      "<ipython-input-11-01eed6f33e57>:4: RuntimeWarning: divide by zero encountered in rint\n",
      "  round(m),round(n)\n"
     ]
    },
    {
     "data": {
      "text/plain": [
       "(-15, 12)"
      ]
     },
     "execution_count": 11,
     "metadata": {},
     "output_type": "execute_result"
    }
   ],
   "source": [
    "lincom2  = ([6,3])\n",
    "setvec = np.array([[2,3],[3,4]])\n",
    "m,n = np.linalg.solve(setvec, lincom2)\n",
    "round(m),round(n) "
   ]
  },
  {
   "cell_type": "markdown",
   "metadata": {},
   "source": [
    "What is the issue below? Why I am not able to represent (6,3) in given set vectors?"
   ]
  },
  {
   "cell_type": "code",
   "execution_count": 12,
   "metadata": {},
   "outputs": [
    {
     "name": "stderr",
     "output_type": "stream",
     "text": [
      "<ipython-input-12-01049b2f52ce>:4: RuntimeWarning: divide by zero encountered in rint\n",
      "  round(m),round(n)\n"
     ]
    },
    {
     "ename": "ValueError",
     "evalue": "cannot convert float NaN to integer",
     "output_type": "error",
     "traceback": [
      "\u001b[1;31m---------------------------------------------------------------------------\u001b[0m",
      "\u001b[1;31mValueError\u001b[0m                                Traceback (most recent call last)",
      "\u001b[1;32m<ipython-input-12-01049b2f52ce>\u001b[0m in \u001b[0;36m<module>\u001b[1;34m\u001b[0m\n\u001b[0;32m      2\u001b[0m \u001b[0msetvec\u001b[0m \u001b[1;33m=\u001b[0m \u001b[0mnp\u001b[0m\u001b[1;33m.\u001b[0m\u001b[0marray\u001b[0m\u001b[1;33m(\u001b[0m\u001b[1;33m[\u001b[0m\u001b[1;33m[\u001b[0m\u001b[1;36m2\u001b[0m\u001b[1;33m,\u001b[0m\u001b[1;36m0\u001b[0m\u001b[1;33m]\u001b[0m\u001b[1;33m,\u001b[0m\u001b[1;33m[\u001b[0m\u001b[1;36m3\u001b[0m\u001b[1;33m,\u001b[0m\u001b[1;36m0\u001b[0m\u001b[1;33m]\u001b[0m\u001b[1;33m]\u001b[0m\u001b[1;33m)\u001b[0m\u001b[1;33m\u001b[0m\u001b[1;33m\u001b[0m\u001b[0m\n\u001b[0;32m      3\u001b[0m \u001b[0mm\u001b[0m\u001b[1;33m,\u001b[0m\u001b[0mn\u001b[0m \u001b[1;33m=\u001b[0m \u001b[0mnp\u001b[0m\u001b[1;33m.\u001b[0m\u001b[0mlinalg\u001b[0m\u001b[1;33m.\u001b[0m\u001b[0msolve\u001b[0m\u001b[1;33m(\u001b[0m\u001b[0msetvec\u001b[0m\u001b[1;33m,\u001b[0m \u001b[0mlincom2\u001b[0m\u001b[1;33m)\u001b[0m\u001b[1;33m\u001b[0m\u001b[1;33m\u001b[0m\u001b[0m\n\u001b[1;32m----> 4\u001b[1;33m \u001b[0mround\u001b[0m\u001b[1;33m(\u001b[0m\u001b[0mm\u001b[0m\u001b[1;33m)\u001b[0m\u001b[1;33m,\u001b[0m\u001b[0mround\u001b[0m\u001b[1;33m(\u001b[0m\u001b[0mn\u001b[0m\u001b[1;33m)\u001b[0m\u001b[1;33m\u001b[0m\u001b[1;33m\u001b[0m\u001b[0m\n\u001b[0m",
      "\u001b[1;31mValueError\u001b[0m: cannot convert float NaN to integer"
     ]
    }
   ],
   "source": [
    "lincom2  = ([6,3])\n",
    "setvec = np.array([[2,0],[3,0]])\n",
    "m,n = np.linalg.solve(setvec, lincom2)\n",
    "round(m),round(n) "
   ]
  },
  {
   "cell_type": "markdown",
   "metadata": {},
   "source": [
    "## Properties of standard coordinate system​"
   ]
  },
  {
   "cell_type": "code",
   "execution_count": 13,
   "metadata": {},
   "outputs": [
    {
     "data": {
      "text/plain": [
       "0"
      ]
     },
     "execution_count": 13,
     "metadata": {},
     "output_type": "execute_result"
    }
   ],
   "source": [
    "# The vectors are orthogonal.\n",
    "setvec = np.array([[1,0],[0,1]])\n",
    "np.dot(setvec[0],setvec[1])"
   ]
  },
  {
   "cell_type": "code",
   "execution_count": 14,
   "metadata": {},
   "outputs": [
    {
     "name": "stdout",
     "output_type": "stream",
     "text": [
      "1.0\n",
      "1.0\n"
     ]
    },
    {
     "name": "stderr",
     "output_type": "stream",
     "text": [
      "C:\\Users\\Tavish Aggarwal\\anaconda3\\lib\\site-packages\\numpy\\linalg\\linalg.py:2531: RuntimeWarning: divide by zero encountered in sqrt\n",
      "  ret = sqrt(sqnorm)\n"
     ]
    }
   ],
   "source": [
    "##This would mean that each of them would be of unit magnitude\n",
    "print(np.linalg.norm(setvec[0]))\n",
    "print(np.linalg.norm(setvec[1]))"
   ]
  },
  {
   "cell_type": "markdown",
   "metadata": {},
   "source": [
    "## Linear Transformation"
   ]
  },
  {
   "cell_type": "markdown",
   "metadata": {},
   "source": [
    "### Elongation"
   ]
  },
  {
   "cell_type": "code",
   "execution_count": 15,
   "metadata": {},
   "outputs": [
    {
     "name": "stderr",
     "output_type": "stream",
     "text": [
      "C:\\Users\\Tavish Aggarwal\\anaconda3\\lib\\site-packages\\numpy\\core\\_methods.py:54: RuntimeWarning: divide by zero encountered in reduce\n",
      "  return umr_any(a, axis, dtype, out, keepdims)\n",
      "C:\\Users\\Tavish Aggarwal\\anaconda3\\lib\\site-packages\\pandas\\core\\internals\\managers.py:246: RuntimeWarning: divide by zero encountered in equal\n",
      "  if (new_blknos == -1).any():\n",
      "C:\\Users\\Tavish Aggarwal\\anaconda3\\lib\\site-packages\\numpy\\core\\_methods.py:39: RuntimeWarning: divide by zero encountered in reduce\n",
      "  return umr_maximum(a, axis, None, out, keepdims, initial, where)\n",
      "C:\\Users\\Tavish Aggarwal\\anaconda3\\lib\\site-packages\\pandas\\io\\formats\\string.py:116: RuntimeWarning: divide by zero encountered in long_scalars\n",
      "  lwidth -= np.array([self.adj.len(x) for x in idx]).max() + adjoin_width\n",
      "C:\\Users\\Tavish Aggarwal\\anaconda3\\lib\\site-packages\\pandas\\io\\formats\\string.py:190: RuntimeWarning: divide by zero encountered in long_scalars\n",
      "  w_adjoined = w + adjoin_width\n",
      "C:\\Users\\Tavish Aggarwal\\anaconda3\\lib\\site-packages\\pandas\\io\\formats\\string.py:191: RuntimeWarning: divide by zero encountered in long_scalars\n",
      "  curr_width += w_adjoined\n",
      "C:\\Users\\Tavish Aggarwal\\anaconda3\\lib\\site-packages\\pandas\\io\\formats\\string.py:195: RuntimeWarning: divide by zero encountered in long_scalars\n",
      "  wrap = curr_width + 2 > line_width and i > 0\n",
      "C:\\Users\\Tavish Aggarwal\\anaconda3\\lib\\site-packages\\pandas\\io\\formats\\string.py:193: RuntimeWarning: divide by zero encountered in long_scalars\n",
      "  wrap = curr_width + 1 > line_width and i > 0\n",
      "C:\\Users\\Tavish Aggarwal\\anaconda3\\lib\\site-packages\\numpy\\core\\_methods.py:54: RuntimeWarning: divide by zero encountered in reduce\n",
      "  return umr_any(a, axis, dtype, out, keepdims)\n"
     ]
    },
    {
     "data": {
      "text/html": [
       "<div>\n",
       "<style scoped>\n",
       "    .dataframe tbody tr th:only-of-type {\n",
       "        vertical-align: middle;\n",
       "    }\n",
       "\n",
       "    .dataframe tbody tr th {\n",
       "        vertical-align: top;\n",
       "    }\n",
       "\n",
       "    .dataframe thead th {\n",
       "        text-align: right;\n",
       "    }\n",
       "</style>\n",
       "<table border=\"1\" class=\"dataframe\">\n",
       "  <thead>\n",
       "    <tr style=\"text-align: right;\">\n",
       "      <th></th>\n",
       "      <th>X</th>\n",
       "      <th>Y</th>\n",
       "    </tr>\n",
       "  </thead>\n",
       "  <tbody>\n",
       "    <tr>\n",
       "      <th>0</th>\n",
       "      <td>1</td>\n",
       "      <td>2</td>\n",
       "    </tr>\n",
       "    <tr>\n",
       "      <th>1</th>\n",
       "      <td>-2</td>\n",
       "      <td>3</td>\n",
       "    </tr>\n",
       "    <tr>\n",
       "      <th>2</th>\n",
       "      <td>-2</td>\n",
       "      <td>1</td>\n",
       "    </tr>\n",
       "    <tr>\n",
       "      <th>3</th>\n",
       "      <td>3</td>\n",
       "      <td>7</td>\n",
       "    </tr>\n",
       "    <tr>\n",
       "      <th>4</th>\n",
       "      <td>4</td>\n",
       "      <td>5</td>\n",
       "    </tr>\n",
       "    <tr>\n",
       "      <th>5</th>\n",
       "      <td>6</td>\n",
       "      <td>4</td>\n",
       "    </tr>\n",
       "  </tbody>\n",
       "</table>\n",
       "</div>"
      ],
      "text/plain": [
       "   X  Y\n",
       "0  1  2\n",
       "1 -2  3\n",
       "2 -2  1\n",
       "3  3  7\n",
       "4  4  5\n",
       "5  6  4"
      ]
     },
     "execution_count": 15,
     "metadata": {},
     "output_type": "execute_result"
    }
   ],
   "source": [
    "# Data Frame where each row present a datapoint\n",
    "a = [[1,2],[-2,3],[-2,1],[3,7],[4,5],[6,4]]\n",
    "b = ['X','Y']\n",
    "c = pd.DataFrame(a,columns = b)\n",
    "c"
   ]
  },
  {
   "cell_type": "code",
   "execution_count": 16,
   "metadata": {},
   "outputs": [
    {
     "name": "stderr",
     "output_type": "stream",
     "text": [
      "C:\\Users\\Tavish Aggarwal\\anaconda3\\lib\\site-packages\\numpy\\core\\fromnumeric.py:87: RuntimeWarning: divide by zero encountered in reduce\n",
      "  return ufunc.reduce(obj, axis, dtype, out, **passkwargs)\n"
     ]
    },
    {
     "data": {
      "text/plain": [
       "array([[2, 0],\n",
       "       [0, 1]])"
      ]
     },
     "execution_count": 16,
     "metadata": {},
     "output_type": "execute_result"
    }
   ],
   "source": [
    "# Linear transformation matrix\n",
    "L = np.array([[2,0],[0,1]])\n",
    "L"
   ]
  },
  {
   "cell_type": "code",
   "execution_count": 17,
   "metadata": {},
   "outputs": [
    {
     "name": "stderr",
     "output_type": "stream",
     "text": [
      "<ipython-input-17-836b93b82ddd>:2: RuntimeWarning: divide by zero encountered in matmul\n",
      "  d  = L @ (c.values).T\n"
     ]
    }
   ],
   "source": [
    "#Let's apply the transformation now.\n",
    "d  = L @ (c.values).T"
   ]
  },
  {
   "cell_type": "code",
   "execution_count": 18,
   "metadata": {},
   "outputs": [
    {
     "data": {
      "text/plain": [
       "array([[ 2,  2],\n",
       "       [-4,  3],\n",
       "       [-4,  1],\n",
       "       [ 6,  7],\n",
       "       [ 8,  5],\n",
       "       [12,  4]], dtype=int64)"
      ]
     },
     "execution_count": 18,
     "metadata": {},
     "output_type": "execute_result"
    }
   ],
   "source": [
    "d.T"
   ]
  },
  {
   "cell_type": "markdown",
   "metadata": {},
   "source": [
    "### Shifting of axes"
   ]
  },
  {
   "cell_type": "code",
   "execution_count": 19,
   "metadata": {},
   "outputs": [
    {
     "name": "stderr",
     "output_type": "stream",
     "text": [
      "C:\\Users\\Tavish Aggarwal\\anaconda3\\lib\\site-packages\\numpy\\core\\_methods.py:54: RuntimeWarning: divide by zero encountered in reduce\n",
      "  return umr_any(a, axis, dtype, out, keepdims)\n",
      "C:\\Users\\Tavish Aggarwal\\anaconda3\\lib\\site-packages\\numpy\\core\\_methods.py:39: RuntimeWarning: divide by zero encountered in reduce\n",
      "  return umr_maximum(a, axis, None, out, keepdims, initial, where)\n",
      "C:\\Users\\Tavish Aggarwal\\anaconda3\\lib\\site-packages\\pandas\\io\\formats\\string.py:116: RuntimeWarning: divide by zero encountered in long_scalars\n",
      "  lwidth -= np.array([self.adj.len(x) for x in idx]).max() + adjoin_width\n",
      "C:\\Users\\Tavish Aggarwal\\anaconda3\\lib\\site-packages\\pandas\\io\\formats\\string.py:190: RuntimeWarning: divide by zero encountered in long_scalars\n",
      "  w_adjoined = w + adjoin_width\n",
      "C:\\Users\\Tavish Aggarwal\\anaconda3\\lib\\site-packages\\pandas\\io\\formats\\string.py:191: RuntimeWarning: divide by zero encountered in long_scalars\n",
      "  curr_width += w_adjoined\n",
      "C:\\Users\\Tavish Aggarwal\\anaconda3\\lib\\site-packages\\pandas\\io\\formats\\string.py:195: RuntimeWarning: divide by zero encountered in long_scalars\n",
      "  wrap = curr_width + 2 > line_width and i > 0\n",
      "C:\\Users\\Tavish Aggarwal\\anaconda3\\lib\\site-packages\\pandas\\io\\formats\\string.py:193: RuntimeWarning: divide by zero encountered in long_scalars\n",
      "  wrap = curr_width + 1 > line_width and i > 0\n",
      "C:\\Users\\Tavish Aggarwal\\anaconda3\\lib\\site-packages\\numpy\\core\\_methods.py:54: RuntimeWarning: divide by zero encountered in reduce\n",
      "  return umr_any(a, axis, dtype, out, keepdims)\n"
     ]
    },
    {
     "data": {
      "text/html": [
       "<div>\n",
       "<style scoped>\n",
       "    .dataframe tbody tr th:only-of-type {\n",
       "        vertical-align: middle;\n",
       "    }\n",
       "\n",
       "    .dataframe tbody tr th {\n",
       "        vertical-align: top;\n",
       "    }\n",
       "\n",
       "    .dataframe thead th {\n",
       "        text-align: right;\n",
       "    }\n",
       "</style>\n",
       "<table border=\"1\" class=\"dataframe\">\n",
       "  <thead>\n",
       "    <tr style=\"text-align: right;\">\n",
       "      <th></th>\n",
       "      <th>X</th>\n",
       "      <th>Y</th>\n",
       "    </tr>\n",
       "  </thead>\n",
       "  <tbody>\n",
       "    <tr>\n",
       "      <th>0</th>\n",
       "      <td>1</td>\n",
       "      <td>2</td>\n",
       "    </tr>\n",
       "    <tr>\n",
       "      <th>1</th>\n",
       "      <td>-2</td>\n",
       "      <td>3</td>\n",
       "    </tr>\n",
       "    <tr>\n",
       "      <th>2</th>\n",
       "      <td>-2</td>\n",
       "      <td>1</td>\n",
       "    </tr>\n",
       "    <tr>\n",
       "      <th>3</th>\n",
       "      <td>3</td>\n",
       "      <td>7</td>\n",
       "    </tr>\n",
       "    <tr>\n",
       "      <th>4</th>\n",
       "      <td>4</td>\n",
       "      <td>5</td>\n",
       "    </tr>\n",
       "    <tr>\n",
       "      <th>5</th>\n",
       "      <td>6</td>\n",
       "      <td>4</td>\n",
       "    </tr>\n",
       "  </tbody>\n",
       "</table>\n",
       "</div>"
      ],
      "text/plain": [
       "   X  Y\n",
       "0  1  2\n",
       "1 -2  3\n",
       "2 -2  1\n",
       "3  3  7\n",
       "4  4  5\n",
       "5  6  4"
      ]
     },
     "execution_count": 19,
     "metadata": {},
     "output_type": "execute_result"
    }
   ],
   "source": [
    "c"
   ]
  },
  {
   "cell_type": "code",
   "execution_count": 20,
   "metadata": {},
   "outputs": [
    {
     "name": "stderr",
     "output_type": "stream",
     "text": [
      "<ipython-input-20-1d6d116a2115>:10: RuntimeWarning: divide by zero encountered in matmul\n",
      "  d  = Ld @ (c.values).T\n",
      "C:\\Users\\Tavish Aggarwal\\anaconda3\\lib\\site-packages\\numpy\\core\\arrayprint.py:865: RuntimeWarning: divide by zero encountered in isfinite\n",
      "  finite_vals = data[isfinite(data)]\n",
      "C:\\Users\\Tavish Aggarwal\\anaconda3\\lib\\site-packages\\numpy\\core\\arrayprint.py:868: RuntimeWarning: divide by zero encountered in not_equal\n",
      "  abs_non_zero = absolute(finite_vals[finite_vals != 0])\n",
      "C:\\Users\\Tavish Aggarwal\\anaconda3\\lib\\site-packages\\numpy\\core\\arrayprint.py:868: RuntimeWarning: divide by zero encountered in absolute\n",
      "  abs_non_zero = absolute(finite_vals[finite_vals != 0])\n",
      "C:\\Users\\Tavish Aggarwal\\anaconda3\\lib\\site-packages\\numpy\\core\\fromnumeric.py:87: RuntimeWarning: divide by zero encountered in reduce\n",
      "  return ufunc.reduce(obj, axis, dtype, out, **passkwargs)\n",
      "C:\\Users\\Tavish Aggarwal\\anaconda3\\lib\\site-packages\\numpy\\core\\arrayprint.py:874: RuntimeWarning: divide by zero encountered in double_scalars\n",
      "  (min_val < 0.0001 or max_val/min_val > 1000.)):\n",
      "C:\\Users\\Tavish Aggarwal\\anaconda3\\lib\\site-packages\\numpy\\core\\arrayprint.py:948: RuntimeWarning: divide by zero encountered in isfinite\n",
      "  if not np.isfinite(x):\n"
     ]
    },
    {
     "data": {
      "text/plain": [
       "array([[ 2. ,  1. ],\n",
       "       [ 0.2,  3.6],\n",
       "       [-1. ,  2. ],\n",
       "       [ 6.6,  3.8],\n",
       "       [ 6.2,  1.6],\n",
       "       [ 7.2, -0.4]])"
      ]
     },
     "execution_count": 20,
     "metadata": {},
     "output_type": "execute_result"
    }
   ],
   "source": [
    "L = np.array([[0.8,-0.6],[0.6,0.8]])\n",
    "\n",
    "#Finding the inverse and then using the transformation on the given set of points.\n",
    "Ld = np.linalg.inv(L)\n",
    "\n",
    "a = [[1,2],[-2,3],[-2,1],[3,7],[4,5],[6,4]]\n",
    "b = ['X','Y']\n",
    "c = pd.DataFrame(a,columns = b)\n",
    "\n",
    "d  = Ld @ (c.values).T\n",
    "d.T"
   ]
  },
  {
   "cell_type": "markdown",
   "metadata": {},
   "source": [
    "## Basis Transformation"
   ]
  },
  {
   "cell_type": "code",
   "execution_count": 21,
   "metadata": {},
   "outputs": [
    {
     "name": "stderr",
     "output_type": "stream",
     "text": [
      "C:\\Users\\Tavish Aggarwal\\anaconda3\\lib\\site-packages\\numpy\\core\\_methods.py:54: RuntimeWarning: divide by zero encountered in reduce\n",
      "  return umr_any(a, axis, dtype, out, keepdims)\n",
      "C:\\Users\\Tavish Aggarwal\\anaconda3\\lib\\site-packages\\pandas\\core\\internals\\managers.py:246: RuntimeWarning: divide by zero encountered in equal\n",
      "  if (new_blknos == -1).any():\n",
      "C:\\Users\\Tavish Aggarwal\\anaconda3\\lib\\site-packages\\numpy\\core\\_methods.py:39: RuntimeWarning: divide by zero encountered in reduce\n",
      "  return umr_maximum(a, axis, None, out, keepdims, initial, where)\n",
      "C:\\Users\\Tavish Aggarwal\\anaconda3\\lib\\site-packages\\pandas\\io\\formats\\string.py:116: RuntimeWarning: divide by zero encountered in long_scalars\n",
      "  lwidth -= np.array([self.adj.len(x) for x in idx]).max() + adjoin_width\n",
      "C:\\Users\\Tavish Aggarwal\\anaconda3\\lib\\site-packages\\pandas\\io\\formats\\string.py:190: RuntimeWarning: divide by zero encountered in long_scalars\n",
      "  w_adjoined = w + adjoin_width\n",
      "C:\\Users\\Tavish Aggarwal\\anaconda3\\lib\\site-packages\\pandas\\io\\formats\\string.py:191: RuntimeWarning: divide by zero encountered in long_scalars\n",
      "  curr_width += w_adjoined\n",
      "C:\\Users\\Tavish Aggarwal\\anaconda3\\lib\\site-packages\\pandas\\io\\formats\\string.py:195: RuntimeWarning: divide by zero encountered in long_scalars\n",
      "  wrap = curr_width + 2 > line_width and i > 0\n",
      "C:\\Users\\Tavish Aggarwal\\anaconda3\\lib\\site-packages\\pandas\\io\\formats\\string.py:193: RuntimeWarning: divide by zero encountered in long_scalars\n",
      "  wrap = curr_width + 1 > line_width and i > 0\n",
      "C:\\Users\\Tavish Aggarwal\\anaconda3\\lib\\site-packages\\numpy\\core\\_methods.py:54: RuntimeWarning: divide by zero encountered in reduce\n",
      "  return umr_any(a, axis, dtype, out, keepdims)\n"
     ]
    },
    {
     "data": {
      "text/html": [
       "<div>\n",
       "<style scoped>\n",
       "    .dataframe tbody tr th:only-of-type {\n",
       "        vertical-align: middle;\n",
       "    }\n",
       "\n",
       "    .dataframe tbody tr th {\n",
       "        vertical-align: top;\n",
       "    }\n",
       "\n",
       "    .dataframe thead th {\n",
       "        text-align: right;\n",
       "    }\n",
       "</style>\n",
       "<table border=\"1\" class=\"dataframe\">\n",
       "  <thead>\n",
       "    <tr style=\"text-align: right;\">\n",
       "      <th></th>\n",
       "      <th>X</th>\n",
       "      <th>Y</th>\n",
       "    </tr>\n",
       "  </thead>\n",
       "  <tbody>\n",
       "    <tr>\n",
       "      <th>0</th>\n",
       "      <td>1</td>\n",
       "      <td>2</td>\n",
       "    </tr>\n",
       "    <tr>\n",
       "      <th>1</th>\n",
       "      <td>2</td>\n",
       "      <td>4</td>\n",
       "    </tr>\n",
       "    <tr>\n",
       "      <th>2</th>\n",
       "      <td>3</td>\n",
       "      <td>6</td>\n",
       "    </tr>\n",
       "    <tr>\n",
       "      <th>3</th>\n",
       "      <td>4</td>\n",
       "      <td>8</td>\n",
       "    </tr>\n",
       "    <tr>\n",
       "      <th>4</th>\n",
       "      <td>5</td>\n",
       "      <td>10</td>\n",
       "    </tr>\n",
       "    <tr>\n",
       "      <th>5</th>\n",
       "      <td>6</td>\n",
       "      <td>12</td>\n",
       "    </tr>\n",
       "    <tr>\n",
       "      <th>6</th>\n",
       "      <td>7</td>\n",
       "      <td>14</td>\n",
       "    </tr>\n",
       "  </tbody>\n",
       "</table>\n",
       "</div>"
      ],
      "text/plain": [
       "   X   Y\n",
       "0  1   2\n",
       "1  2   4\n",
       "2  3   6\n",
       "3  4   8\n",
       "4  5  10\n",
       "5  6  12\n",
       "6  7  14"
      ]
     },
     "execution_count": 21,
     "metadata": {},
     "output_type": "execute_result"
    }
   ],
   "source": [
    "a=[[1,2],[2,4],[3,6],[4,8],[5,10],[6,12],[7,14]]\n",
    "b=['X','Y']\n",
    "c = pd.DataFrame(a,columns = b)\n",
    "c"
   ]
  },
  {
   "cell_type": "code",
   "execution_count": 22,
   "metadata": {},
   "outputs": [
    {
     "name": "stderr",
     "output_type": "stream",
     "text": [
      "C:\\Users\\Tavish Aggarwal\\anaconda3\\lib\\site-packages\\seaborn\\relational.py:584: RuntimeWarning: divide by zero encountered in square\n",
      "  np.r_[.5, 2] * np.square(mpl.rcParams[\"lines.markersize\"])\n",
      "C:\\Users\\Tavish Aggarwal\\anaconda3\\lib\\site-packages\\seaborn\\relational.py:584: RuntimeWarning: divide by zero encountered in multiply\n",
      "  np.r_[.5, 2] * np.square(mpl.rcParams[\"lines.markersize\"])\n",
      "C:\\Users\\Tavish Aggarwal\\anaconda3\\lib\\site-packages\\pandas\\core\\indexes\\base.py:6120: RuntimeWarning: divide by zero encountered in equal\n",
      "  if (res == data).all():\n",
      "C:\\Users\\Tavish Aggarwal\\anaconda3\\lib\\site-packages\\numpy\\core\\_methods.py:57: RuntimeWarning: divide by zero encountered in reduce\n",
      "  return umr_all(a, axis, dtype, out, keepdims)\n",
      "C:\\Users\\Tavish Aggarwal\\anaconda3\\lib\\site-packages\\numpy\\core\\numeric.py:2378: RuntimeWarning: divide by zero encountered in equal\n",
      "  return bool(asarray(a1 == a2).all())\n",
      "C:\\Users\\Tavish Aggarwal\\anaconda3\\lib\\site-packages\\pandas\\core\\internals\\managers.py:246: RuntimeWarning: divide by zero encountered in equal\n",
      "  if (new_blknos == -1).any():\n",
      "C:\\Users\\Tavish Aggarwal\\anaconda3\\lib\\site-packages\\pandas\\core\\dtypes\\missing.py:235: RuntimeWarning: divide by zero encountered in isnan\n",
      "  result = np.isnan(values)\n",
      "C:\\Users\\Tavish Aggarwal\\anaconda3\\lib\\site-packages\\numpy\\lib\\arraysetops.py:580: RuntimeWarning: divide by zero encountered in equal\n",
      "  mask |= (ar1 == a)\n",
      "C:\\Users\\Tavish Aggarwal\\anaconda3\\lib\\site-packages\\numpy\\lib\\arraysetops.py:580: RuntimeWarning: divide by zero encountered in bitwise_or\n",
      "  mask |= (ar1 == a)\n",
      "C:\\Users\\Tavish Aggarwal\\anaconda3\\lib\\site-packages\\numpy\\core\\_methods.py:57: RuntimeWarning: divide by zero encountered in reduce\n",
      "  return umr_all(a, axis, dtype, out, keepdims)\n",
      "C:\\Users\\Tavish Aggarwal\\anaconda3\\lib\\site-packages\\pandas\\core\\dtypes\\missing.py:235: RuntimeWarning: divide by zero encountered in isnan\n",
      "  result = np.isnan(values)\n",
      "C:\\Users\\Tavish Aggarwal\\anaconda3\\lib\\site-packages\\numpy\\lib\\arraysetops.py:580: RuntimeWarning: divide by zero encountered in equal\n",
      "  mask |= (ar1 == a)\n",
      "C:\\Users\\Tavish Aggarwal\\anaconda3\\lib\\site-packages\\numpy\\lib\\arraysetops.py:580: RuntimeWarning: divide by zero encountered in bitwise_or\n",
      "  mask |= (ar1 == a)\n",
      "C:\\Users\\Tavish Aggarwal\\anaconda3\\lib\\site-packages\\numpy\\core\\_methods.py:57: RuntimeWarning: divide by zero encountered in reduce\n",
      "  return umr_all(a, axis, dtype, out, keepdims)\n",
      "C:\\Users\\Tavish Aggarwal\\anaconda3\\lib\\site-packages\\pandas\\core\\dtypes\\missing.py:235: RuntimeWarning: divide by zero encountered in isnan\n",
      "  result = np.isnan(values)\n",
      "C:\\Users\\Tavish Aggarwal\\anaconda3\\lib\\site-packages\\matplotlib\\figure.py:321: RuntimeWarning: divide by zero encountered in isfinite\n",
      "  if not np.isfinite(figsize).all() or (np.array(figsize) < 0).any():\n",
      "C:\\Users\\Tavish Aggarwal\\anaconda3\\lib\\site-packages\\numpy\\core\\_methods.py:57: RuntimeWarning: divide by zero encountered in reduce\n",
      "  return umr_all(a, axis, dtype, out, keepdims)\n",
      "C:\\Users\\Tavish Aggarwal\\anaconda3\\lib\\site-packages\\matplotlib\\figure.py:321: RuntimeWarning: divide by zero encountered in less\n",
      "  if not np.isfinite(figsize).all() or (np.array(figsize) < 0).any():\n",
      "C:\\Users\\Tavish Aggarwal\\anaconda3\\lib\\site-packages\\numpy\\core\\_methods.py:54: RuntimeWarning: divide by zero encountered in reduce\n",
      "  return umr_any(a, axis, dtype, out, keepdims)\n",
      "C:\\Users\\Tavish Aggarwal\\anaconda3\\lib\\site-packages\\matplotlib\\transforms.py:1996: RuntimeWarning: divide by zero encountered in double_scalars\n",
      "  self._mtx[0, 0] *= sx\n",
      "C:\\Users\\Tavish Aggarwal\\anaconda3\\lib\\site-packages\\matplotlib\\transforms.py:1997: RuntimeWarning: divide by zero encountered in double_scalars\n",
      "  self._mtx[0, 1] *= sx\n",
      "C:\\Users\\Tavish Aggarwal\\anaconda3\\lib\\site-packages\\matplotlib\\transforms.py:1998: RuntimeWarning: divide by zero encountered in double_scalars\n",
      "  self._mtx[0, 2] *= sx\n",
      "C:\\Users\\Tavish Aggarwal\\anaconda3\\lib\\site-packages\\matplotlib\\transforms.py:1999: RuntimeWarning: divide by zero encountered in double_scalars\n",
      "  self._mtx[1, 0] *= sy\n",
      "C:\\Users\\Tavish Aggarwal\\anaconda3\\lib\\site-packages\\matplotlib\\transforms.py:2000: RuntimeWarning: divide by zero encountered in double_scalars\n",
      "  self._mtx[1, 1] *= sy\n",
      "C:\\Users\\Tavish Aggarwal\\anaconda3\\lib\\site-packages\\matplotlib\\transforms.py:2001: RuntimeWarning: divide by zero encountered in double_scalars\n",
      "  self._mtx[1, 2] *= sy\n",
      "C:\\Users\\Tavish Aggarwal\\anaconda3\\lib\\site-packages\\matplotlib\\gridspec.py:203: RuntimeWarning: divide by zero encountered in subtract\n",
      "  fig_tops, fig_bottoms = (top - cell_hs).reshape((-1, 2)).T\n",
      "C:\\Users\\Tavish Aggarwal\\anaconda3\\lib\\site-packages\\matplotlib\\gridspec.py:204: RuntimeWarning: divide by zero encountered in add\n",
      "  fig_lefts, fig_rights = (left + cell_ws).reshape((-1, 2)).T\n",
      "C:\\Users\\Tavish Aggarwal\\anaconda3\\lib\\site-packages\\numpy\\core\\_methods.py:43: RuntimeWarning: divide by zero encountered in reduce\n",
      "  return umr_minimum(a, axis, None, out, keepdims, initial, where)\n",
      "C:\\Users\\Tavish Aggarwal\\anaconda3\\lib\\site-packages\\numpy\\core\\_methods.py:39: RuntimeWarning: divide by zero encountered in reduce\n",
      "  return umr_maximum(a, axis, None, out, keepdims, initial, where)\n",
      "C:\\Users\\Tavish Aggarwal\\anaconda3\\lib\\site-packages\\matplotlib\\transforms.py:361: RuntimeWarning: divide by zero encountered in double_scalars\n",
      "  return points[1, 0] - points[0, 0]\n",
      "C:\\Users\\Tavish Aggarwal\\anaconda3\\lib\\site-packages\\matplotlib\\transforms.py:367: RuntimeWarning: divide by zero encountered in double_scalars\n",
      "  return points[1, 1] - points[0, 1]\n",
      "C:\\Users\\Tavish Aggarwal\\anaconda3\\lib\\site-packages\\numpy\\lib\\function_base.py:1280: RuntimeWarning: divide by zero encountered in subtract\n",
      "  a = op(a[slice1], a[slice2])\n",
      "C:\\Users\\Tavish Aggarwal\\anaconda3\\lib\\site-packages\\matplotlib\\ticker.py:2165: RuntimeWarning: divide by zero encountered in less_equal\n",
      "  if np.any(np.diff(steps) <= 0) or steps[-1] > 10 or steps[0] < 1:\n",
      "C:\\Users\\Tavish Aggarwal\\anaconda3\\lib\\site-packages\\numpy\\core\\fromnumeric.py:87: RuntimeWarning: divide by zero encountered in reduce\n",
      "  return ufunc.reduce(obj, axis, dtype, out, **passkwargs)\n",
      "C:\\Users\\Tavish Aggarwal\\anaconda3\\lib\\site-packages\\matplotlib\\ticker.py:2179: RuntimeWarning: divide by zero encountered in multiply\n",
      "  flights = (0.1 * steps[:-1], steps, 10 * steps[1])\n",
      "C:\\Users\\Tavish Aggarwal\\anaconda3\\lib\\site-packages\\matplotlib\\ticker.py:2179: RuntimeWarning: divide by zero encountered in double_scalars\n",
      "  flights = (0.1 * steps[:-1], steps, 10 * steps[1])\n",
      "C:\\Users\\Tavish Aggarwal\\anaconda3\\lib\\site-packages\\matplotlib\\axes\\_base.py:3210: RuntimeWarning: divide by zero encountered in isfinite\n",
      "  and not np.isfinite(converted_limit)):\n",
      "C:\\Users\\Tavish Aggarwal\\anaconda3\\lib\\site-packages\\matplotlib\\transforms.py:2792: RuntimeWarning: divide by zero encountered in isfinite\n",
      "  if (not np.isfinite(vmin)) or (not np.isfinite(vmax)):\n",
      "C:\\Users\\Tavish Aggarwal\\anaconda3\\lib\\site-packages\\matplotlib\\transforms.py:2805: RuntimeWarning: divide by zero encountered in double_scalars\n",
      "  if maxabsvalue < (1e6 / tiny) * np.finfo(float).tiny:\n",
      "C:\\Users\\Tavish Aggarwal\\anaconda3\\lib\\site-packages\\matplotlib\\transforms.py:1977: RuntimeWarning: divide by zero encountered in double_scalars\n",
      "  self._mtx[0, 2] += tx\n",
      "C:\\Users\\Tavish Aggarwal\\anaconda3\\lib\\site-packages\\matplotlib\\transforms.py:1978: RuntimeWarning: divide by zero encountered in double_scalars\n",
      "  self._mtx[1, 2] += ty\n",
      "C:\\Users\\Tavish Aggarwal\\anaconda3\\lib\\site-packages\\numpy\\ma\\core.py:2366: RuntimeWarning: divide by zero encountered in isfinite\n",
      "  condition = ~(np.isfinite(getdata(a)))\n",
      "C:\\Users\\Tavish Aggarwal\\anaconda3\\lib\\site-packages\\numpy\\ma\\core.py:2366: RuntimeWarning: divide by zero encountered in invert\n",
      "  condition = ~(np.isfinite(getdata(a)))\n",
      "C:\\Users\\Tavish Aggarwal\\anaconda3\\lib\\site-packages\\matplotlib\\path.py:799: RuntimeWarning: divide by zero encountered in sqrt\n",
      "  SQRTHALF = np.sqrt(0.5)\n",
      "C:\\Users\\Tavish Aggarwal\\anaconda3\\lib\\site-packages\\matplotlib\\path.py:800: RuntimeWarning: divide by zero encountered in double_scalars\n",
      "  MAGIC45 = SQRTHALF * MAGIC\n",
      "C:\\Users\\Tavish Aggarwal\\anaconda3\\lib\\site-packages\\matplotlib\\path.py:805: RuntimeWarning: divide by zero encountered in double_scalars\n",
      "  [SQRTHALF-MAGIC45, -SQRTHALF-MAGIC45],\n",
      "C:\\Users\\Tavish Aggarwal\\anaconda3\\lib\\site-packages\\matplotlib\\path.py:808: RuntimeWarning: divide by zero encountered in double_scalars\n",
      "  [SQRTHALF+MAGIC45, -SQRTHALF+MAGIC45],\n",
      "C:\\Users\\Tavish Aggarwal\\anaconda3\\lib\\site-packages\\matplotlib\\path.py:813: RuntimeWarning: divide by zero encountered in double_scalars\n",
      "  [SQRTHALF+MAGIC45, SQRTHALF-MAGIC45],\n",
      "C:\\Users\\Tavish Aggarwal\\anaconda3\\lib\\site-packages\\matplotlib\\path.py:816: RuntimeWarning: divide by zero encountered in double_scalars\n",
      "  [SQRTHALF-MAGIC45, SQRTHALF+MAGIC45],\n",
      "C:\\Users\\Tavish Aggarwal\\anaconda3\\lib\\site-packages\\matplotlib\\path.py:821: RuntimeWarning: divide by zero encountered in double_scalars\n",
      "  [-SQRTHALF+MAGIC45, SQRTHALF+MAGIC45],\n",
      "C:\\Users\\Tavish Aggarwal\\anaconda3\\lib\\site-packages\\matplotlib\\path.py:824: RuntimeWarning: divide by zero encountered in double_scalars\n",
      "  [-SQRTHALF-MAGIC45, SQRTHALF-MAGIC45],\n",
      "C:\\Users\\Tavish Aggarwal\\anaconda3\\lib\\site-packages\\matplotlib\\path.py:829: RuntimeWarning: divide by zero encountered in double_scalars\n",
      "  [-SQRTHALF-MAGIC45, -SQRTHALF+MAGIC45],\n",
      "C:\\Users\\Tavish Aggarwal\\anaconda3\\lib\\site-packages\\matplotlib\\path.py:832: RuntimeWarning: divide by zero encountered in double_scalars\n",
      "  [-SQRTHALF+MAGIC45, -SQRTHALF-MAGIC45],\n",
      "C:\\Users\\Tavish Aggarwal\\anaconda3\\lib\\site-packages\\matplotlib\\path.py:842: RuntimeWarning: divide by zero encountered in multiply\n",
      "  return Path(vertices * radius + center, codes, readonly=readonly)\n",
      "C:\\Users\\Tavish Aggarwal\\anaconda3\\lib\\site-packages\\matplotlib\\path.py:842: RuntimeWarning: divide by zero encountered in add\n",
      "  return Path(vertices * radius + center, codes, readonly=readonly)\n",
      "C:\\Users\\Tavish Aggarwal\\anaconda3\\lib\\site-packages\\matplotlib\\colors.py:306: RuntimeWarning: divide by zero encountered in less\n",
      "  if np.any((result < 0) | (result > 1)):\n",
      "C:\\Users\\Tavish Aggarwal\\anaconda3\\lib\\site-packages\\matplotlib\\colors.py:306: RuntimeWarning: divide by zero encountered in greater\n",
      "  if np.any((result < 0) | (result > 1)):\n",
      "C:\\Users\\Tavish Aggarwal\\anaconda3\\lib\\site-packages\\matplotlib\\colors.py:306: RuntimeWarning: divide by zero encountered in bitwise_or\n",
      "  if np.any((result < 0) | (result > 1)):\n",
      "C:\\Users\\Tavish Aggarwal\\anaconda3\\lib\\site-packages\\matplotlib\\lines.py:70: RuntimeWarning: divide by zero encountered in double_scalars\n",
      "  scaled_offset = offset * lw\n",
      "C:\\Users\\Tavish Aggarwal\\anaconda3\\lib\\site-packages\\matplotlib\\collections.py:922: RuntimeWarning: divide by zero encountered in sqrt\n",
      "  scale = np.sqrt(self._sizes) * dpi / 72.0 * self._factor\n",
      "C:\\Users\\Tavish Aggarwal\\anaconda3\\lib\\site-packages\\matplotlib\\collections.py:922: RuntimeWarning: divide by zero encountered in multiply\n",
      "  scale = np.sqrt(self._sizes) * dpi / 72.0 * self._factor\n",
      "C:\\Users\\Tavish Aggarwal\\anaconda3\\lib\\site-packages\\matplotlib\\collections.py:922: RuntimeWarning: divide by zero encountered in true_divide\n",
      "  scale = np.sqrt(self._sizes) * dpi / 72.0 * self._factor\n",
      "C:\\Users\\Tavish Aggarwal\\anaconda3\\lib\\site-packages\\matplotlib\\transforms.py:1712: RuntimeWarning: divide by zero encountered in equal\n",
      "  return np.all(self.get_matrix() == other.get_matrix())\n",
      "C:\\Users\\Tavish Aggarwal\\anaconda3\\lib\\site-packages\\matplotlib\\axes\\_base.py:2142: RuntimeWarning: divide by zero encountered in isfinite\n",
      "  if not np.any(np.isfinite(xys)):\n",
      "C:\\Users\\Tavish Aggarwal\\anaconda3\\lib\\site-packages\\pandas\\core\\indexing.py:1302: RuntimeWarning: divide by zero encountered in less\n",
      "  missing_mask = indexer < 0\n",
      "C:\\Users\\Tavish Aggarwal\\anaconda3\\lib\\site-packages\\numpy\\core\\_methods.py:47: RuntimeWarning: divide by zero encountered in reduce\n",
      "  return umr_sum(a, axis, dtype, out, keepdims, initial, where)\n",
      "C:\\Users\\Tavish Aggarwal\\anaconda3\\lib\\site-packages\\pandas\\core\\indexers.py:258: RuntimeWarning: divide by zero encountered in less\n",
      "  mask = indices < 0\n",
      "C:\\Users\\Tavish Aggarwal\\anaconda3\\lib\\site-packages\\pandas\\core\\indexers.py:263: RuntimeWarning: divide by zero encountered in greater_equal\n",
      "  mask = (indices >= n) | (indices < 0)\n",
      "C:\\Users\\Tavish Aggarwal\\anaconda3\\lib\\site-packages\\pandas\\core\\indexers.py:263: RuntimeWarning: divide by zero encountered in less\n",
      "  mask = (indices >= n) | (indices < 0)\n",
      "C:\\Users\\Tavish Aggarwal\\anaconda3\\lib\\site-packages\\pandas\\core\\indexers.py:263: RuntimeWarning: divide by zero encountered in bitwise_or\n",
      "  mask = (indices >= n) | (indices < 0)\n",
      "C:\\Users\\Tavish Aggarwal\\anaconda3\\lib\\site-packages\\pandas\\core\\internals\\managers.py:1470: RuntimeWarning: divide by zero encountered in equal\n",
      "  if ((indexer == -1) | (indexer >= n)).any():\n",
      "C:\\Users\\Tavish Aggarwal\\anaconda3\\lib\\site-packages\\pandas\\core\\internals\\managers.py:1470: RuntimeWarning: divide by zero encountered in greater_equal\n",
      "  if ((indexer == -1) | (indexer >= n)).any():\n",
      "C:\\Users\\Tavish Aggarwal\\anaconda3\\lib\\site-packages\\pandas\\core\\internals\\managers.py:1470: RuntimeWarning: divide by zero encountered in bitwise_or\n",
      "  if ((indexer == -1) | (indexer >= n)).any():\n",
      "C:\\Users\\Tavish Aggarwal\\anaconda3\\lib\\site-packages\\pandas\\core\\internals\\managers.py:1423: RuntimeWarning: divide by zero encountered in int_scalars\n",
      "  max_len = max(len(mgr_locs), taker.max() + 1)\n",
      "C:\\Users\\Tavish Aggarwal\\anaconda3\\lib\\site-packages\\pandas\\core\\internals\\managers.py:246: RuntimeWarning: divide by zero encountered in equal\n",
      "  if (new_blknos == -1).any():\n"
     ]
    },
    {
     "name": "stderr",
     "output_type": "stream",
     "text": [
      "C:\\Users\\Tavish Aggarwal\\anaconda3\\lib\\site-packages\\pandas\\core\\indexers.py:258: RuntimeWarning: divide by zero encountered in less\n",
      "  mask = indices < 0\n",
      "C:\\Users\\Tavish Aggarwal\\anaconda3\\lib\\site-packages\\numpy\\core\\_methods.py:54: RuntimeWarning: divide by zero encountered in reduce\n",
      "  return umr_any(a, axis, dtype, out, keepdims)\n",
      "C:\\Users\\Tavish Aggarwal\\anaconda3\\lib\\site-packages\\pandas\\core\\indexers.py:263: RuntimeWarning: divide by zero encountered in greater_equal\n",
      "  mask = (indices >= n) | (indices < 0)\n",
      "C:\\Users\\Tavish Aggarwal\\anaconda3\\lib\\site-packages\\pandas\\core\\indexers.py:263: RuntimeWarning: divide by zero encountered in less\n",
      "  mask = (indices >= n) | (indices < 0)\n",
      "C:\\Users\\Tavish Aggarwal\\anaconda3\\lib\\site-packages\\pandas\\core\\indexers.py:263: RuntimeWarning: divide by zero encountered in bitwise_or\n",
      "  mask = (indices >= n) | (indices < 0)\n",
      "C:\\Users\\Tavish Aggarwal\\anaconda3\\lib\\site-packages\\pandas\\core\\internals\\managers.py:1470: RuntimeWarning: divide by zero encountered in equal\n",
      "  if ((indexer == -1) | (indexer >= n)).any():\n",
      "C:\\Users\\Tavish Aggarwal\\anaconda3\\lib\\site-packages\\pandas\\core\\internals\\managers.py:1470: RuntimeWarning: divide by zero encountered in greater_equal\n",
      "  if ((indexer == -1) | (indexer >= n)).any():\n",
      "C:\\Users\\Tavish Aggarwal\\anaconda3\\lib\\site-packages\\pandas\\core\\internals\\managers.py:1470: RuntimeWarning: divide by zero encountered in bitwise_or\n",
      "  if ((indexer == -1) | (indexer >= n)).any():\n",
      "C:\\Users\\Tavish Aggarwal\\anaconda3\\lib\\site-packages\\pandas\\core\\algorithms.py:1718: RuntimeWarning: divide by zero encountered in equal\n",
      "  mask = indexer == -1\n",
      "C:\\Users\\Tavish Aggarwal\\anaconda3\\lib\\site-packages\\numpy\\core\\numeric.py:2378: RuntimeWarning: divide by zero encountered in equal\n",
      "  return bool(asarray(a1 == a2).all())\n",
      "C:\\Users\\Tavish Aggarwal\\anaconda3\\lib\\site-packages\\numpy\\core\\_methods.py:57: RuntimeWarning: divide by zero encountered in reduce\n",
      "  return umr_all(a, axis, dtype, out, keepdims)\n",
      "C:\\Users\\Tavish Aggarwal\\anaconda3\\lib\\site-packages\\numpy\\core\\fromnumeric.py:87: RuntimeWarning: divide by zero encountered in reduce\n",
      "  return ufunc.reduce(obj, axis, dtype, out, **passkwargs)\n",
      "C:\\Users\\Tavish Aggarwal\\anaconda3\\lib\\site-packages\\pandas\\core\\internals\\managers.py:246: RuntimeWarning: divide by zero encountered in equal\n",
      "  if (new_blknos == -1).any():\n",
      "C:\\Users\\Tavish Aggarwal\\anaconda3\\lib\\site-packages\\numpy\\lib\\function_base.py:3728: RuntimeWarning: divide by zero encountered in true_divide\n",
      "  q = np.true_divide(q, 100)\n",
      "C:\\Users\\Tavish Aggarwal\\anaconda3\\lib\\site-packages\\numpy\\lib\\function_base.py:3868: RuntimeWarning: divide by zero encountered in less\n",
      "  if np.count_nonzero(q < 0.0) or np.count_nonzero(q > 1.0):\n",
      "C:\\Users\\Tavish Aggarwal\\anaconda3\\lib\\site-packages\\numpy\\lib\\function_base.py:3868: RuntimeWarning: divide by zero encountered in greater\n",
      "  if np.count_nonzero(q < 0.0) or np.count_nonzero(q > 1.0):\n",
      "C:\\Users\\Tavish Aggarwal\\anaconda3\\lib\\site-packages\\numpy\\lib\\function_base.py:3899: RuntimeWarning: divide by zero encountered in multiply\n",
      "  indices = q * (Nx - 1)\n",
      "C:\\Users\\Tavish Aggarwal\\anaconda3\\lib\\site-packages\\numpy\\lib\\function_base.py:3938: RuntimeWarning: divide by zero encountered in floor\n",
      "  indices_below = floor(indices).astype(intp)\n",
      "C:\\Users\\Tavish Aggarwal\\anaconda3\\lib\\site-packages\\numpy\\lib\\function_base.py:3939: RuntimeWarning: divide by zero encountered in add\n",
      "  indices_above = indices_below + 1\n",
      "C:\\Users\\Tavish Aggarwal\\anaconda3\\lib\\site-packages\\numpy\\lib\\function_base.py:3940: RuntimeWarning: divide by zero encountered in greater\n",
      "  indices_above[indices_above > Nx - 1] = Nx - 1\n",
      "C:\\Users\\Tavish Aggarwal\\anaconda3\\lib\\site-packages\\numpy\\lib\\function_base.py:3946: RuntimeWarning: divide by zero encountered in subtract\n",
      "  weights_above = indices - indices_below\n",
      "C:\\Users\\Tavish Aggarwal\\anaconda3\\lib\\site-packages\\numpy\\lib\\function_base.py:3947: RuntimeWarning: divide by zero encountered in subtract\n",
      "  weights_below = 1 - weights_above\n",
      "C:\\Users\\Tavish Aggarwal\\anaconda3\\lib\\site-packages\\numpy\\lib\\function_base.py:3965: RuntimeWarning: divide by zero encountered in isnan\n",
      "  n = np.isnan(ap[-1:, ...])\n",
      "C:\\Users\\Tavish Aggarwal\\anaconda3\\lib\\site-packages\\numpy\\lib\\function_base.py:3967: RuntimeWarning: divide by zero encountered in multiply\n",
      "  x1 = take(ap, indices_below, axis=axis) * weights_below\n",
      "C:\\Users\\Tavish Aggarwal\\anaconda3\\lib\\site-packages\\numpy\\lib\\function_base.py:3968: RuntimeWarning: divide by zero encountered in multiply\n",
      "  x2 = take(ap, indices_above, axis=axis) * weights_above\n",
      "C:\\Users\\Tavish Aggarwal\\anaconda3\\lib\\site-packages\\numpy\\lib\\function_base.py:3981: RuntimeWarning: divide by zero encountered in add\n",
      "  r = add(x1, x2)\n",
      "C:\\Users\\Tavish Aggarwal\\anaconda3\\lib\\site-packages\\seaborn\\relational.py:634: RuntimeWarning: divide by zero encountered in sqrt\n",
      "  kws.setdefault(\"linewidth\", .08 * np.sqrt(np.percentile(s, 10)))\n",
      "C:\\Users\\Tavish Aggarwal\\anaconda3\\lib\\site-packages\\seaborn\\relational.py:634: RuntimeWarning: divide by zero encountered in double_scalars\n",
      "  kws.setdefault(\"linewidth\", .08 * np.sqrt(np.percentile(s, 10)))\n",
      "C:\\Users\\Tavish Aggarwal\\anaconda3\\lib\\site-packages\\matplotlib\\colors.py:306: RuntimeWarning: divide by zero encountered in less\n",
      "  if np.any((result < 0) | (result > 1)):\n",
      "C:\\Users\\Tavish Aggarwal\\anaconda3\\lib\\site-packages\\matplotlib\\colors.py:306: RuntimeWarning: divide by zero encountered in greater\n",
      "  if np.any((result < 0) | (result > 1)):\n",
      "C:\\Users\\Tavish Aggarwal\\anaconda3\\lib\\site-packages\\matplotlib\\colors.py:306: RuntimeWarning: divide by zero encountered in bitwise_or\n",
      "  if np.any((result < 0) | (result > 1)):\n",
      "C:\\Users\\Tavish Aggarwal\\anaconda3\\lib\\site-packages\\numpy\\ma\\core.py:2366: RuntimeWarning: divide by zero encountered in isfinite\n",
      "  condition = ~(np.isfinite(getdata(a)))\n",
      "C:\\Users\\Tavish Aggarwal\\anaconda3\\lib\\site-packages\\numpy\\ma\\core.py:2366: RuntimeWarning: divide by zero encountered in invert\n",
      "  condition = ~(np.isfinite(getdata(a)))\n",
      "C:\\Users\\Tavish Aggarwal\\anaconda3\\lib\\site-packages\\matplotlib\\transforms.py:1996: RuntimeWarning: divide by zero encountered in double_scalars\n",
      "  self._mtx[0, 0] *= sx\n",
      "C:\\Users\\Tavish Aggarwal\\anaconda3\\lib\\site-packages\\matplotlib\\transforms.py:1997: RuntimeWarning: divide by zero encountered in double_scalars\n",
      "  self._mtx[0, 1] *= sx\n",
      "C:\\Users\\Tavish Aggarwal\\anaconda3\\lib\\site-packages\\matplotlib\\transforms.py:1998: RuntimeWarning: divide by zero encountered in double_scalars\n",
      "  self._mtx[0, 2] *= sx\n",
      "C:\\Users\\Tavish Aggarwal\\anaconda3\\lib\\site-packages\\matplotlib\\transforms.py:1999: RuntimeWarning: divide by zero encountered in double_scalars\n",
      "  self._mtx[1, 0] *= sy\n",
      "C:\\Users\\Tavish Aggarwal\\anaconda3\\lib\\site-packages\\matplotlib\\transforms.py:2000: RuntimeWarning: divide by zero encountered in double_scalars\n",
      "  self._mtx[1, 1] *= sy\n",
      "C:\\Users\\Tavish Aggarwal\\anaconda3\\lib\\site-packages\\matplotlib\\transforms.py:2001: RuntimeWarning: divide by zero encountered in double_scalars\n",
      "  self._mtx[1, 2] *= sy\n",
      "C:\\Users\\Tavish Aggarwal\\anaconda3\\lib\\site-packages\\matplotlib\\lines.py:70: RuntimeWarning: divide by zero encountered in double_scalars\n",
      "  scaled_offset = offset * lw\n",
      "C:\\Users\\Tavish Aggarwal\\anaconda3\\lib\\site-packages\\matplotlib\\collections.py:922: RuntimeWarning: divide by zero encountered in sqrt\n",
      "  scale = np.sqrt(self._sizes) * dpi / 72.0 * self._factor\n",
      "C:\\Users\\Tavish Aggarwal\\anaconda3\\lib\\site-packages\\matplotlib\\collections.py:922: RuntimeWarning: divide by zero encountered in multiply\n",
      "  scale = np.sqrt(self._sizes) * dpi / 72.0 * self._factor\n",
      "C:\\Users\\Tavish Aggarwal\\anaconda3\\lib\\site-packages\\matplotlib\\collections.py:922: RuntimeWarning: divide by zero encountered in true_divide\n",
      "  scale = np.sqrt(self._sizes) * dpi / 72.0 * self._factor\n",
      "C:\\Users\\Tavish Aggarwal\\anaconda3\\lib\\site-packages\\matplotlib\\transforms.py:1977: RuntimeWarning: divide by zero encountered in double_scalars\n",
      "  self._mtx[0, 2] += tx\n",
      "C:\\Users\\Tavish Aggarwal\\anaconda3\\lib\\site-packages\\matplotlib\\transforms.py:1978: RuntimeWarning: divide by zero encountered in double_scalars\n",
      "  self._mtx[1, 2] += ty\n",
      "C:\\Users\\Tavish Aggarwal\\anaconda3\\lib\\site-packages\\matplotlib\\axes\\_base.py:2521: RuntimeWarning: divide by zero encountered in isfinite\n",
      "  finite_dl = [d for d in dl if np.isfinite(d).all()]\n",
      "C:\\Users\\Tavish Aggarwal\\anaconda3\\lib\\site-packages\\matplotlib\\transforms.py:2792: RuntimeWarning: divide by zero encountered in isfinite\n",
      "  if (not np.isfinite(vmin)) or (not np.isfinite(vmax)):\n",
      "C:\\Users\\Tavish Aggarwal\\anaconda3\\lib\\site-packages\\matplotlib\\axes\\_base.py:2550: RuntimeWarning: divide by zero encountered in int_scalars\n",
      "  i0 = stickies.searchsorted(x0 + tol) - 1\n",
      "C:\\Users\\Tavish Aggarwal\\anaconda3\\lib\\site-packages\\matplotlib\\axes\\_base.py:2563: RuntimeWarning: divide by zero encountered in double_scalars\n",
      "  delta = (x1t - x0t) * margin\n",
      "C:\\Users\\Tavish Aggarwal\\anaconda3\\lib\\site-packages\\matplotlib\\axes\\_base.py:2564: RuntimeWarning: divide by zero encountered in isfinite\n",
      "  if not np.isfinite(delta):\n",
      "C:\\Users\\Tavish Aggarwal\\anaconda3\\lib\\site-packages\\matplotlib\\axes\\_base.py:2566: RuntimeWarning: divide by zero encountered in double_scalars\n",
      "  x0, x1 = inverse_trans.transform([x0t - delta, x1t + delta])\n",
      "C:\\Users\\Tavish Aggarwal\\anaconda3\\lib\\site-packages\\matplotlib\\transforms.py:2805: RuntimeWarning: divide by zero encountered in double_scalars\n",
      "  if maxabsvalue < (1e6 / tiny) * np.finfo(float).tiny:\n",
      "C:\\Users\\Tavish Aggarwal\\anaconda3\\lib\\site-packages\\matplotlib\\axes\\_base.py:3210: RuntimeWarning: divide by zero encountered in isfinite\n",
      "  and not np.isfinite(converted_limit)):\n",
      "C:\\Users\\Tavish Aggarwal\\anaconda3\\lib\\site-packages\\matplotlib\\transforms.py:1712: RuntimeWarning: divide by zero encountered in equal\n",
      "  return np.all(self.get_matrix() == other.get_matrix())\n",
      "C:\\Users\\Tavish Aggarwal\\anaconda3\\lib\\site-packages\\numpy\\ma\\core.py:2371: RuntimeWarning: divide by zero encountered in isfinite\n",
      "  condition = ~(np.isfinite(a))\n",
      "C:\\Users\\Tavish Aggarwal\\anaconda3\\lib\\site-packages\\numpy\\ma\\core.py:2371: RuntimeWarning: divide by zero encountered in invert\n",
      "  condition = ~(np.isfinite(a))\n",
      "C:\\Users\\Tavish Aggarwal\\anaconda3\\lib\\site-packages\\numpy\\core\\_methods.py:43: RuntimeWarning: divide by zero encountered in reduce\n",
      "  return umr_minimum(a, axis, None, out, keepdims, initial, where)\n",
      "C:\\Users\\Tavish Aggarwal\\anaconda3\\lib\\site-packages\\numpy\\core\\_methods.py:39: RuntimeWarning: divide by zero encountered in reduce\n",
      "  return umr_maximum(a, axis, None, out, keepdims, initial, where)\n",
      "C:\\Users\\Tavish Aggarwal\\anaconda3\\lib\\site-packages\\matplotlib\\axes\\_base.py:2142: RuntimeWarning: divide by zero encountered in isfinite\n",
      "  if not np.any(np.isfinite(xys)):\n",
      "C:\\Users\\Tavish Aggarwal\\anaconda3\\lib\\site-packages\\matplotlib\\axes\\_base.py:2526: RuntimeWarning: divide by zero encountered in isfinite\n",
      "  if (np.isfinite(d.intervalx).all() and\n",
      "C:\\Users\\Tavish Aggarwal\\anaconda3\\lib\\site-packages\\matplotlib\\axes\\_base.py:2529: RuntimeWarning: divide by zero encountered in isfinite\n",
      "  if (np.isfinite(d.intervaly).all() and\n",
      "C:\\Users\\Tavish Aggarwal\\anaconda3\\lib\\site-packages\\matplotlib\\transforms.py:379: RuntimeWarning: divide by zero encountered in double_scalars\n",
      "  return (x0, y0, x1 - x0, y1 - y0)\n",
      "C:\\Users\\Tavish Aggarwal\\anaconda3\\lib\\site-packages\\matplotlib\\axis.py:2246: RuntimeWarning: divide by zero encountered in double_scalars\n",
      "  length = ((ends[1][0] - ends[0][0]) / self.axes.figure.dpi) * 72\n",
      "C:\\Users\\Tavish Aggarwal\\anaconda3\\lib\\site-packages\\matplotlib\\axis.py:2251: RuntimeWarning: divide by zero encountered in double_scalars\n",
      "  return int(np.floor(length / size))\n",
      "C:\\Users\\Tavish Aggarwal\\anaconda3\\lib\\site-packages\\matplotlib\\axis.py:2251: RuntimeWarning: divide by zero encountered in floor\n",
      "  return int(np.floor(length / size))\n",
      "C:\\Users\\Tavish Aggarwal\\anaconda3\\lib\\site-packages\\numpy\\core\\_methods.py:78: RuntimeWarning: divide by zero encountered in isnan\n",
      "  return um.isnan(a)\n",
      "C:\\Users\\Tavish Aggarwal\\anaconda3\\lib\\site-packages\\numpy\\core\\_methods.py:94: RuntimeWarning: divide by zero encountered in clip\n",
      "  return ufunc(*args, out=out, **kwargs)\n",
      "C:\\Users\\Tavish Aggarwal\\anaconda3\\lib\\site-packages\\matplotlib\\ticker.py:2050: RuntimeWarning: divide by zero encountered in true_divide\n",
      "  scale = 10 ** (math.log10(dv / n) // 1)\n",
      "C:\\Users\\Tavish Aggarwal\\anaconda3\\lib\\site-packages\\matplotlib\\ticker.py:2246: RuntimeWarning: divide by zero encountered in true_divide\n",
      "  raw_step = (_vmax - _vmin) / nbins\n",
      "C:\\Users\\Tavish Aggarwal\\anaconda3\\lib\\site-packages\\matplotlib\\ticker.py:2247: RuntimeWarning: divide by zero encountered in multiply\n",
      "  steps = self._extended_steps * scale\n",
      "C:\\Users\\Tavish Aggarwal\\anaconda3\\lib\\site-packages\\matplotlib\\ticker.py:2253: RuntimeWarning: divide by zero encountered in greater_equal\n",
      "  istep = np.nonzero(steps >= raw_step)[0][0]\n",
      "C:\\Users\\Tavish Aggarwal\\anaconda3\\lib\\site-packages\\matplotlib\\ticker.py:2265: RuntimeWarning: divide by zero encountered in int_scalars\n",
      "  for istep in reversed(range(istep + 1)):\n",
      "C:\\Users\\Tavish Aggarwal\\anaconda3\\lib\\site-packages\\matplotlib\\ticker.py:2271: RuntimeWarning: divide by zero encountered in double_scalars\n",
      "  best_vmin = (_vmin // step) * step\n",
      "C:\\Users\\Tavish Aggarwal\\anaconda3\\lib\\site-packages\\matplotlib\\ticker.py:2278: RuntimeWarning: divide by zero encountered in double_scalars\n",
      "  low = edge.le(_vmin - best_vmin)\n",
      "C:\\Users\\Tavish Aggarwal\\anaconda3\\lib\\site-packages\\matplotlib\\ticker.py:2084: RuntimeWarning: divide by zero encountered in double_scalars\n",
      "  d, m = divmod(x, self.step)\n",
      "C:\\Users\\Tavish Aggarwal\\anaconda3\\lib\\site-packages\\matplotlib\\ticker.py:2085: RuntimeWarning: divide by zero encountered in double_scalars\n",
      "  if self.closeto(m / self.step, 1):\n",
      "C:\\Users\\Tavish Aggarwal\\anaconda3\\lib\\site-packages\\matplotlib\\ticker.py:2080: RuntimeWarning: divide by zero encountered in double_scalars\n",
      "  return abs(ms - edge) < tol\n",
      "C:\\Users\\Tavish Aggarwal\\anaconda3\\lib\\site-packages\\matplotlib\\ticker.py:2279: RuntimeWarning: divide by zero encountered in double_scalars\n",
      "  high = edge.ge(_vmax - best_vmin)\n",
      "C:\\Users\\Tavish Aggarwal\\anaconda3\\lib\\site-packages\\matplotlib\\ticker.py:2091: RuntimeWarning: divide by zero encountered in double_scalars\n",
      "  d, m = divmod(x, self.step)\n",
      "C:\\Users\\Tavish Aggarwal\\anaconda3\\lib\\site-packages\\matplotlib\\ticker.py:2092: RuntimeWarning: divide by zero encountered in double_scalars\n",
      "  if self.closeto(m / self.step, 0):\n",
      "C:\\Users\\Tavish Aggarwal\\anaconda3\\lib\\site-packages\\matplotlib\\ticker.py:2094: RuntimeWarning: divide by zero encountered in double_scalars\n",
      "  return d + 1\n",
      "C:\\Users\\Tavish Aggarwal\\anaconda3\\lib\\site-packages\\matplotlib\\ticker.py:2280: RuntimeWarning: divide by zero encountered in double_scalars\n",
      "  ticks = np.arange(low, high + 1) * step + best_vmin\n",
      "C:\\Users\\Tavish Aggarwal\\anaconda3\\lib\\site-packages\\matplotlib\\ticker.py:2280: RuntimeWarning: divide by zero encountered in multiply\n",
      "  ticks = np.arange(low, high + 1) * step + best_vmin\n",
      "C:\\Users\\Tavish Aggarwal\\anaconda3\\lib\\site-packages\\matplotlib\\ticker.py:2280: RuntimeWarning: divide by zero encountered in add\n",
      "  ticks = np.arange(low, high + 1) * step + best_vmin\n",
      "C:\\Users\\Tavish Aggarwal\\anaconda3\\lib\\site-packages\\matplotlib\\ticker.py:2282: RuntimeWarning: divide by zero encountered in less_equal\n",
      "  nticks = ((ticks <= _vmax) & (ticks >= _vmin)).sum()\n",
      "C:\\Users\\Tavish Aggarwal\\anaconda3\\lib\\site-packages\\matplotlib\\ticker.py:2282: RuntimeWarning: divide by zero encountered in greater_equal\n",
      "  nticks = ((ticks <= _vmax) & (ticks >= _vmin)).sum()\n",
      "C:\\Users\\Tavish Aggarwal\\anaconda3\\lib\\site-packages\\matplotlib\\ticker.py:2282: RuntimeWarning: divide by zero encountered in bitwise_and\n",
      "  nticks = ((ticks <= _vmax) & (ticks >= _vmin)).sum()\n",
      "C:\\Users\\Tavish Aggarwal\\anaconda3\\lib\\site-packages\\numpy\\core\\_methods.py:47: RuntimeWarning: divide by zero encountered in reduce\n",
      "  return umr_sum(a, axis, dtype, out, keepdims, initial, where)\n",
      "C:\\Users\\Tavish Aggarwal\\anaconda3\\lib\\site-packages\\matplotlib\\ticker.py:2285: RuntimeWarning: divide by zero encountered in add\n",
      "  return ticks + offset\n"
     ]
    },
    {
     "name": "stderr",
     "output_type": "stream",
     "text": [
      "C:\\Users\\Tavish Aggarwal\\anaconda3\\lib\\site-packages\\matplotlib\\axis.py:2531: RuntimeWarning: divide by zero encountered in double_scalars\n",
      "  length = ((ends[1][1] - ends[0][1]) / self.axes.figure.dpi) * 72\n",
      "C:\\Users\\Tavish Aggarwal\\anaconda3\\lib\\site-packages\\matplotlib\\axis.py:2535: RuntimeWarning: divide by zero encountered in double_scalars\n",
      "  return int(np.floor(length / size))\n",
      "C:\\Users\\Tavish Aggarwal\\anaconda3\\lib\\site-packages\\matplotlib\\axis.py:2535: RuntimeWarning: divide by zero encountered in floor\n",
      "  return int(np.floor(length / size))\n"
     ]
    },
    {
     "data": {
      "text/plain": [
       "<AxesSubplot:xlabel='X', ylabel='Y'>"
      ]
     },
     "execution_count": 22,
     "metadata": {},
     "output_type": "execute_result"
    },
    {
     "name": "stderr",
     "output_type": "stream",
     "text": [
      "C:\\Users\\Tavish Aggarwal\\anaconda3\\lib\\site-packages\\ipykernel\\pylab\\backend_inline.py:195: RuntimeWarning: divide by zero encountered in greater\n",
      "  return rgbaArr[:,:3].dot((.299, .587, .114)) > .5\n",
      "C:\\Users\\Tavish Aggarwal\\anaconda3\\lib\\site-packages\\ipykernel\\pylab\\backend_inline.py:184: RuntimeWarning: divide by zero encountered in equal\n",
      "  if ticksLight.size and (ticksLight == ticksLight[0]).all():\n",
      "C:\\Users\\Tavish Aggarwal\\anaconda3\\lib\\site-packages\\matplotlib\\transforms.py:373: RuntimeWarning: divide by zero encountered in subtract\n",
      "  return points[1] - points[0]\n",
      "C:\\Users\\Tavish Aggarwal\\anaconda3\\lib\\site-packages\\matplotlib\\transforms.py:813: RuntimeWarning: divide by zero encountered in double_scalars\n",
      "  return Bbox.from_extents(x0, y0, x0 + width, y0 + height)\n",
      "C:\\Users\\Tavish Aggarwal\\anaconda3\\lib\\site-packages\\matplotlib\\transforms.py:993: RuntimeWarning: divide by zero encountered in not_equal\n",
      "  if np.any(self._points != other.get_points()):\n",
      "C:\\Users\\Tavish Aggarwal\\anaconda3\\lib\\site-packages\\numpy\\lib\\arraysetops.py:326: RuntimeWarning: divide by zero encountered in not_equal\n",
      "  mask[1:] = aux[1:] != aux[:-1]\n",
      "C:\\Users\\Tavish Aggarwal\\anaconda3\\lib\\site-packages\\numpy\\lib\\arraysetops.py:429: RuntimeWarning: divide by zero encountered in equal\n",
      "  mask = aux[1:] == aux[:-1]\n",
      "C:\\Users\\Tavish Aggarwal\\anaconda3\\lib\\site-packages\\matplotlib\\bezier.py:199: RuntimeWarning: divide by zero encountered in multiply\n",
      "  self._px = (self._cpoints.T * coeff).T\n",
      "C:\\Users\\Tavish Aggarwal\\anaconda3\\lib\\site-packages\\matplotlib\\bezier.py:216: RuntimeWarning: divide by zero encountered in subtract\n",
      "  return (np.power.outer(1 - t, self._orders[::-1])\n",
      "C:\\Users\\Tavish Aggarwal\\anaconda3\\lib\\site-packages\\matplotlib\\bezier.py:216: RuntimeWarning: divide by zero encountered in power\n",
      "  return (np.power.outer(1 - t, self._orders[::-1])\n",
      "C:\\Users\\Tavish Aggarwal\\anaconda3\\lib\\site-packages\\matplotlib\\bezier.py:217: RuntimeWarning: divide by zero encountered in power\n",
      "  * np.power.outer(t, self._orders)) @ self._px\n",
      "C:\\Users\\Tavish Aggarwal\\anaconda3\\lib\\site-packages\\matplotlib\\bezier.py:216: RuntimeWarning: divide by zero encountered in multiply\n",
      "  return (np.power.outer(1 - t, self._orders[::-1])\n",
      "C:\\Users\\Tavish Aggarwal\\anaconda3\\lib\\site-packages\\matplotlib\\bezier.py:216: RuntimeWarning: divide by zero encountered in matmul\n",
      "  return (np.power.outer(1 - t, self._orders[::-1])\n",
      "C:\\Users\\Tavish Aggarwal\\anaconda3\\lib\\site-packages\\matplotlib\\bezier.py:271: RuntimeWarning: divide by zero encountered in add\n",
      "  prefactor = (-1)**(i + j) * _comb(j, i)  # j on axis 0, i on axis 1\n",
      "C:\\Users\\Tavish Aggarwal\\anaconda3\\lib\\site-packages\\matplotlib\\bezier.py:271: RuntimeWarning: divide by zero encountered in power\n",
      "  prefactor = (-1)**(i + j) * _comb(j, i)  # j on axis 0, i on axis 1\n",
      "C:\\Users\\Tavish Aggarwal\\anaconda3\\lib\\site-packages\\matplotlib\\bezier.py:20: RuntimeWarning: divide by zero encountered in long_scalars\n",
      "  k = min(k, n - k)\n",
      "C:\\Users\\Tavish Aggarwal\\anaconda3\\lib\\site-packages\\matplotlib\\bezier.py:21: RuntimeWarning: divide by zero encountered in long_scalars\n",
      "  i = np.arange(1, k + 1)\n",
      "C:\\Users\\Tavish Aggarwal\\anaconda3\\lib\\site-packages\\matplotlib\\bezier.py:22: RuntimeWarning: divide by zero encountered in long_scalars\n",
      "  return np.prod((n + 1 - i)/i).astype(int)\n",
      "C:\\Users\\Tavish Aggarwal\\anaconda3\\lib\\site-packages\\matplotlib\\bezier.py:22: RuntimeWarning: divide by zero encountered in subtract\n",
      "  return np.prod((n + 1 - i)/i).astype(int)\n",
      "C:\\Users\\Tavish Aggarwal\\anaconda3\\lib\\site-packages\\matplotlib\\bezier.py:22: RuntimeWarning: divide by zero encountered in true_divide\n",
      "  return np.prod((n + 1 - i)/i).astype(int)\n",
      "C:\\Users\\Tavish Aggarwal\\anaconda3\\lib\\site-packages\\numpy\\lib\\function_base.py:2192: RuntimeWarning: divide by zero encountered in ? (vectorized)\n",
      "  outputs = ufunc(*inputs)\n",
      "C:\\Users\\Tavish Aggarwal\\anaconda3\\lib\\site-packages\\matplotlib\\bezier.py:271: RuntimeWarning: divide by zero encountered in multiply\n",
      "  prefactor = (-1)**(i + j) * _comb(j, i)  # j on axis 0, i on axis 1\n",
      "C:\\Users\\Tavish Aggarwal\\anaconda3\\lib\\site-packages\\matplotlib\\bezier.py:272: RuntimeWarning: divide by zero encountered in multiply\n",
      "  return _comb(n, j) * prefactor @ P  # j on axis 0, self.dimension on 1\n",
      "C:\\Users\\Tavish Aggarwal\\anaconda3\\lib\\site-packages\\matplotlib\\bezier.py:272: RuntimeWarning: divide by zero encountered in matmul\n",
      "  return _comb(n, j) * prefactor @ P  # j on axis 0, self.dimension on 1\n",
      "C:\\Users\\Tavish Aggarwal\\anaconda3\\lib\\site-packages\\matplotlib\\bezier.py:294: RuntimeWarning: divide by zero encountered in multiply\n",
      "  dCj = np.arange(1, n+1)[:, None] * Cj[1:]\n",
      "C:\\Users\\Tavish Aggarwal\\anaconda3\\lib\\site-packages\\numpy\\lib\\polynomial.py:229: RuntimeWarning: divide by zero encountered in int_scalars\n",
      "  trailing_zeros = len(p) - non_zero[-1] - 1\n",
      "C:\\Users\\Tavish Aggarwal\\anaconda3\\lib\\site-packages\\numpy\\lib\\polynomial.py:242: RuntimeWarning: divide by zero encountered in negative\n",
      "  A[0,:] = -p[1:] / p[0]\n",
      "C:\\Users\\Tavish Aggarwal\\anaconda3\\lib\\site-packages\\numpy\\lib\\polynomial.py:242: RuntimeWarning: divide by zero encountered in true_divide\n",
      "  A[0,:] = -p[1:] / p[0]\n",
      "C:\\Users\\Tavish Aggarwal\\anaconda3\\lib\\site-packages\\numpy\\linalg\\linalg.py:208: RuntimeWarning: divide by zero encountered in isfinite\n",
      "  if not isfinite(a).all():\n",
      "C:\\Users\\Tavish Aggarwal\\anaconda3\\lib\\site-packages\\numpy\\linalg\\linalg.py:1072: RuntimeWarning: divide by zero encountered in equal\n",
      "  if all(w.imag == 0):\n",
      "C:\\Users\\Tavish Aggarwal\\anaconda3\\lib\\site-packages\\numpy\\lib\\type_check.py:276: RuntimeWarning: divide by zero encountered in equal\n",
      "  return imag(x) == 0\n",
      "C:\\Users\\Tavish Aggarwal\\anaconda3\\lib\\site-packages\\matplotlib\\bezier.py:303: RuntimeWarning: divide by zero encountered in greater_equal\n",
      "  in_range = np.isreal(roots) & (roots >= 0) & (roots <= 1)\n",
      "C:\\Users\\Tavish Aggarwal\\anaconda3\\lib\\site-packages\\matplotlib\\bezier.py:303: RuntimeWarning: divide by zero encountered in bitwise_and\n",
      "  in_range = np.isreal(roots) & (roots >= 0) & (roots <= 1)\n",
      "C:\\Users\\Tavish Aggarwal\\anaconda3\\lib\\site-packages\\matplotlib\\bezier.py:303: RuntimeWarning: divide by zero encountered in less_equal\n",
      "  in_range = np.isreal(roots) & (roots >= 0) & (roots <= 1)\n",
      "C:\\Users\\Tavish Aggarwal\\anaconda3\\lib\\site-packages\\matplotlib\\transforms.py:361: RuntimeWarning: divide by zero encountered in double_scalars\n",
      "  return points[1, 0] - points[0, 0]\n",
      "C:\\Users\\Tavish Aggarwal\\anaconda3\\lib\\site-packages\\matplotlib\\transforms.py:367: RuntimeWarning: divide by zero encountered in double_scalars\n",
      "  return points[1, 1] - points[0, 1]\n",
      "C:\\Users\\Tavish Aggarwal\\anaconda3\\lib\\site-packages\\matplotlib\\ticker.py:802: RuntimeWarning: divide by zero encountered in less_equal\n",
      "  locs = locs[(vmin <= locs) & (locs <= vmax)]\n",
      "C:\\Users\\Tavish Aggarwal\\anaconda3\\lib\\site-packages\\matplotlib\\ticker.py:802: RuntimeWarning: divide by zero encountered in bitwise_and\n",
      "  locs = locs[(vmin <= locs) & (locs <= vmax)]\n",
      "C:\\Users\\Tavish Aggarwal\\anaconda3\\lib\\site-packages\\matplotlib\\ticker.py:820: RuntimeWarning: divide by zero encountered in ceil\n",
      "  oom_max = np.ceil(math.log10(abs_max))\n",
      "C:\\Users\\Tavish Aggarwal\\anaconda3\\lib\\site-packages\\matplotlib\\ticker.py:821: RuntimeWarning: divide by zero encountered in double_scalars\n",
      "  oom = 1 + next(oom for oom in itertools.count(oom_max, -1)\n",
      "C:\\Users\\Tavish Aggarwal\\anaconda3\\lib\\site-packages\\matplotlib\\ticker.py:822: RuntimeWarning: divide by zero encountered in double_scalars\n",
      "  if abs_min // 10 ** oom != abs_max // 10 ** oom)\n",
      "C:\\Users\\Tavish Aggarwal\\anaconda3\\lib\\site-packages\\matplotlib\\ticker.py:823: RuntimeWarning: divide by zero encountered in double_scalars\n",
      "  if (abs_max - abs_min) / 10 ** oom <= 1e-2:\n",
      "C:\\Users\\Tavish Aggarwal\\anaconda3\\lib\\site-packages\\matplotlib\\ticker.py:833: RuntimeWarning: divide by zero encountered in double_scalars\n",
      "  if abs_max // 10 ** oom >= 10**n\n",
      "C:\\Users\\Tavish Aggarwal\\anaconda3\\lib\\site-packages\\matplotlib\\ticker.py:850: RuntimeWarning: divide by zero encountered in less_equal\n",
      "  locs = locs[(vmin <= locs) & (locs <= vmax)]\n",
      "C:\\Users\\Tavish Aggarwal\\anaconda3\\lib\\site-packages\\matplotlib\\ticker.py:850: RuntimeWarning: divide by zero encountered in bitwise_and\n",
      "  locs = locs[(vmin <= locs) & (locs <= vmax)]\n",
      "C:\\Users\\Tavish Aggarwal\\anaconda3\\lib\\site-packages\\matplotlib\\ticker.py:851: RuntimeWarning: divide by zero encountered in absolute\n",
      "  locs = np.abs(locs)\n",
      "C:\\Users\\Tavish Aggarwal\\anaconda3\\lib\\site-packages\\matplotlib\\ticker.py:880: RuntimeWarning: divide by zero encountered in subtract\n",
      "  locs = (np.asarray(_locs) - self.offset) / 10. ** self.orderOfMagnitude\n",
      "C:\\Users\\Tavish Aggarwal\\anaconda3\\lib\\site-packages\\matplotlib\\ticker.py:880: RuntimeWarning: divide by zero encountered in true_divide\n",
      "  locs = (np.asarray(_locs) - self.offset) / 10. ** self.orderOfMagnitude\n",
      "C:\\Users\\Tavish Aggarwal\\anaconda3\\lib\\site-packages\\numpy\\core\\_methods.py:247: RuntimeWarning: divide by zero encountered in reduce\n",
      "  umr_maximum(a, axis, None, out, keepdims),\n",
      "C:\\Users\\Tavish Aggarwal\\anaconda3\\lib\\site-packages\\numpy\\core\\_methods.py:248: RuntimeWarning: divide by zero encountered in reduce\n",
      "  umr_minimum(a, axis, None, None, keepdims),\n",
      "C:\\Users\\Tavish Aggarwal\\anaconda3\\lib\\site-packages\\numpy\\core\\_methods.py:246: RuntimeWarning: divide by zero encountered in subtract\n",
      "  return um.subtract(\n",
      "C:\\Users\\Tavish Aggarwal\\anaconda3\\lib\\site-packages\\numpy\\core\\fromnumeric.py:58: RuntimeWarning: divide by zero encountered in multiply\n",
      "  return bound(*args, **kwds)\n",
      "C:\\Users\\Tavish Aggarwal\\anaconda3\\lib\\site-packages\\numpy\\core\\fromnumeric.py:58: RuntimeWarning: divide by zero encountered in rint\n",
      "  return bound(*args, **kwds)\n",
      "C:\\Users\\Tavish Aggarwal\\anaconda3\\lib\\site-packages\\numpy\\core\\fromnumeric.py:58: RuntimeWarning: divide by zero encountered in true_divide\n",
      "  return bound(*args, **kwds)\n",
      "C:\\Users\\Tavish Aggarwal\\anaconda3\\lib\\site-packages\\matplotlib\\ticker.py:897: RuntimeWarning: divide by zero encountered in subtract\n",
      "  if np.abs(locs - np.round(locs, decimals=sigfigs)).max() < thresh:\n",
      "C:\\Users\\Tavish Aggarwal\\anaconda3\\lib\\site-packages\\matplotlib\\ticker.py:897: RuntimeWarning: divide by zero encountered in absolute\n",
      "  if np.abs(locs - np.round(locs, decimals=sigfigs)).max() < thresh:\n",
      "C:\\Users\\Tavish Aggarwal\\anaconda3\\lib\\site-packages\\matplotlib\\ticker.py:659: RuntimeWarning: divide by zero encountered in double_scalars\n",
      "  xp = (x - self.offset) / (10. ** self.orderOfMagnitude)\n",
      "C:\\Users\\Tavish Aggarwal\\anaconda3\\lib\\site-packages\\matplotlib\\axis.py:1296: RuntimeWarning: divide by zero encountered in double_scalars\n",
      "  tol = (hi - lo) * 1e-5\n",
      "C:\\Users\\Tavish Aggarwal\\anaconda3\\lib\\site-packages\\matplotlib\\transforms.py:2869: RuntimeWarning: divide by zero encountered in double_scalars\n",
      "  rtol = (b - a) * rtol\n",
      "C:\\Users\\Tavish Aggarwal\\anaconda3\\lib\\site-packages\\matplotlib\\transforms.py:2870: RuntimeWarning: divide by zero encountered in double_scalars\n",
      "  return a - rtol <= val <= b + rtol\n",
      "C:\\Users\\Tavish Aggarwal\\anaconda3\\lib\\site-packages\\matplotlib\\transforms.py:2870: RuntimeWarning: divide by zero encountered in less_equal\n",
      "  return a - rtol <= val <= b + rtol\n"
     ]
    },
    {
     "name": "stderr",
     "output_type": "stream",
     "text": [
      "C:\\Users\\Tavish Aggarwal\\anaconda3\\lib\\site-packages\\matplotlib\\text.py:360: RuntimeWarning: divide by zero encountered in double_scalars\n",
      "  width = xmax - xmin\n",
      "C:\\Users\\Tavish Aggarwal\\anaconda3\\lib\\site-packages\\matplotlib\\text.py:361: RuntimeWarning: divide by zero encountered in double_scalars\n",
      "  height = ymax - ymin\n",
      "C:\\Users\\Tavish Aggarwal\\anaconda3\\lib\\site-packages\\matplotlib\\text.py:373: RuntimeWarning: divide by zero encountered in double_scalars\n",
      "  offsetx = (xmin + xmax) / 2\n",
      "C:\\Users\\Tavish Aggarwal\\anaconda3\\lib\\site-packages\\matplotlib\\text.py:413: RuntimeWarning: divide by zero encountered in double_scalars\n",
      "  xmin -= offsetx\n",
      "C:\\Users\\Tavish Aggarwal\\anaconda3\\lib\\site-packages\\matplotlib\\text.py:414: RuntimeWarning: divide by zero encountered in double_scalars\n",
      "  ymin -= offsety\n",
      "C:\\Users\\Tavish Aggarwal\\anaconda3\\lib\\site-packages\\matplotlib\\text.py:419: RuntimeWarning: divide by zero encountered in subtract\n",
      "  xys = M.transform(offset_layout) - (offsetx, offsety)\n",
      "C:\\Users\\Tavish Aggarwal\\anaconda3\\lib\\site-packages\\matplotlib\\transforms.py:2587: RuntimeWarning: divide by zero encountered in double_scalars\n",
      "  x_scale = 1.0 / inw\n",
      "C:\\Users\\Tavish Aggarwal\\anaconda3\\lib\\site-packages\\matplotlib\\transforms.py:2588: RuntimeWarning: divide by zero encountered in double_scalars\n",
      "  y_scale = 1.0 / inh\n",
      "C:\\Users\\Tavish Aggarwal\\anaconda3\\lib\\site-packages\\matplotlib\\transforms.py:2589: RuntimeWarning: divide by zero encountered in double_scalars\n",
      "  self._mtx = np.array([[x_scale, 0.0    , (-inl*x_scale)],\n",
      "C:\\Users\\Tavish Aggarwal\\anaconda3\\lib\\site-packages\\matplotlib\\transforms.py:2590: RuntimeWarning: divide by zero encountered in double_scalars\n",
      "  [0.0    , y_scale, (-inb*y_scale)],\n",
      "C:\\Users\\Tavish Aggarwal\\anaconda3\\lib\\site-packages\\matplotlib\\transforms.py:635: RuntimeWarning: divide by zero encountered in add\n",
      "  return Bbox(self._points + (tx, ty))\n",
      "C:\\Users\\Tavish Aggarwal\\anaconda3\\lib\\site-packages\\matplotlib\\text.py:689: RuntimeWarning: divide by zero encountered in isfinite\n",
      "  if not np.isfinite(posx) or not np.isfinite(posy):\n",
      "C:\\Users\\Tavish Aggarwal\\anaconda3\\lib\\site-packages\\matplotlib\\text.py:709: RuntimeWarning: divide by zero encountered in double_scalars\n",
      "  x = x + posx\n",
      "C:\\Users\\Tavish Aggarwal\\anaconda3\\lib\\site-packages\\matplotlib\\text.py:710: RuntimeWarning: divide by zero encountered in double_scalars\n",
      "  y = y + posy\n",
      "C:\\Users\\Tavish Aggarwal\\anaconda3\\lib\\site-packages\\matplotlib\\text.py:712: RuntimeWarning: divide by zero encountered in double_scalars\n",
      "  y = canvash - y\n",
      "C:\\Users\\Tavish Aggarwal\\anaconda3\\lib\\site-packages\\matplotlib\\axis.py:2076: RuntimeWarning: divide by zero encountered in double_scalars\n",
      "  (x, bottom - self.labelpad * self.figure.dpi / 72)\n",
      "C:\\Users\\Tavish Aggarwal\\anaconda3\\lib\\site-packages\\matplotlib\\axis.py:2108: RuntimeWarning: divide by zero encountered in double_scalars\n",
      "  y = bottom - self.OFFSETTEXTPAD * self.figure.dpi / 72\n",
      "C:\\Users\\Tavish Aggarwal\\anaconda3\\lib\\site-packages\\matplotlib\\text.py:386: RuntimeWarning: divide by zero encountered in double_scalars\n",
      "  offsety = ymin + height - baseline / 2.0\n",
      "C:\\Users\\Tavish Aggarwal\\anaconda3\\lib\\site-packages\\matplotlib\\axis.py:2367: RuntimeWarning: divide by zero encountered in double_scalars\n",
      "  (left - self.labelpad * self.figure.dpi / 72, y)\n",
      "C:\\Users\\Tavish Aggarwal\\anaconda3\\lib\\site-packages\\matplotlib\\text.py:394: RuntimeWarning: divide by zero encountered in double_scalars\n",
      "  offsetx = (xmin1 + xmax1) / 2.0\n",
      "C:\\Users\\Tavish Aggarwal\\anaconda3\\lib\\site-packages\\matplotlib\\axis.py:2393: RuntimeWarning: divide by zero encountered in double_scalars\n",
      "  (x, top + self.OFFSETTEXTPAD * self.figure.dpi / 72)\n",
      "C:\\Users\\Tavish Aggarwal\\anaconda3\\lib\\site-packages\\matplotlib\\transforms.py:678: RuntimeWarning: divide by zero encountered in maximum\n",
      "  x0 = np.maximum(bbox1.xmin, bbox2.xmin)\n",
      "C:\\Users\\Tavish Aggarwal\\anaconda3\\lib\\site-packages\\matplotlib\\transforms.py:679: RuntimeWarning: divide by zero encountered in minimum\n",
      "  x1 = np.minimum(bbox1.xmax, bbox2.xmax)\n",
      "C:\\Users\\Tavish Aggarwal\\anaconda3\\lib\\site-packages\\matplotlib\\transforms.py:680: RuntimeWarning: divide by zero encountered in maximum\n",
      "  y0 = np.maximum(bbox1.ymin, bbox2.ymin)\n",
      "C:\\Users\\Tavish Aggarwal\\anaconda3\\lib\\site-packages\\matplotlib\\transforms.py:681: RuntimeWarning: divide by zero encountered in minimum\n",
      "  y1 = np.minimum(bbox1.ymax, bbox2.ymax)\n",
      "C:\\Users\\Tavish Aggarwal\\anaconda3\\lib\\site-packages\\matplotlib\\axes\\_base.py:4196: RuntimeWarning: divide by zero encountered in equal\n",
      "  if np.all(clip_extent.extents == axbbox.extents):\n",
      "C:\\Users\\Tavish Aggarwal\\anaconda3\\lib\\site-packages\\matplotlib\\spines.py:195: RuntimeWarning: divide by zero encountered in double_scalars\n",
      "  bb0.x0 = bb0.x0 - padout\n",
      "C:\\Users\\Tavish Aggarwal\\anaconda3\\lib\\site-packages\\matplotlib\\spines.py:196: RuntimeWarning: divide by zero encountered in double_scalars\n",
      "  bb0.x1 = bb0.x1 + padin\n",
      "C:\\Users\\Tavish Aggarwal\\anaconda3\\lib\\site-packages\\matplotlib\\spines.py:198: RuntimeWarning: divide by zero encountered in double_scalars\n",
      "  bb0.y0 = bb0.y0 - padout\n",
      "C:\\Users\\Tavish Aggarwal\\anaconda3\\lib\\site-packages\\matplotlib\\spines.py:199: RuntimeWarning: divide by zero encountered in double_scalars\n",
      "  bb0.y1 = bb0.y1 + padin\n",
      "C:\\Users\\Tavish Aggarwal\\anaconda3\\lib\\site-packages\\matplotlib\\path.py:594: RuntimeWarning: divide by zero encountered in not_equal\n",
      "  xys = self.vertices[self.codes != Path.CLOSEPOLY]\n",
      "C:\\Users\\Tavish Aggarwal\\anaconda3\\lib\\site-packages\\matplotlib\\figure.py:2521: RuntimeWarning: divide by zero encountered in isfinite\n",
      "  if (np.isfinite(b.width) and np.isfinite(b.height)\n",
      "C:\\Users\\Tavish Aggarwal\\anaconda3\\lib\\site-packages\\matplotlib\\transforms.py:631: RuntimeWarning: divide by zero encountered in add\n",
      "  return Bbox(points + [[-p, -p], [p, p]])\n",
      "C:\\Users\\Tavish Aggarwal\\anaconda3\\lib\\site-packages\\matplotlib\\tight_bbox.py:65: RuntimeWarning: divide by zero encountered in double_scalars\n",
      "  w1, h1 = fig.bbox.width * dpi_scale, fig.bbox.height * dpi_scale\n",
      "C:\\Users\\Tavish Aggarwal\\anaconda3\\lib\\site-packages\\matplotlib\\tight_bbox.py:71: RuntimeWarning: divide by zero encountered in double_scalars\n",
      "  fig.patch.set_bounds(x0 / w1, y0 / h1,\n",
      "C:\\Users\\Tavish Aggarwal\\anaconda3\\lib\\site-packages\\matplotlib\\tight_bbox.py:72: RuntimeWarning: divide by zero encountered in double_scalars\n",
      "  fig.bbox.width / w1, fig.bbox.height / h1)\n",
      "C:\\Users\\Tavish Aggarwal\\anaconda3\\lib\\site-packages\\matplotlib\\patches.py:778: RuntimeWarning: divide by zero encountered in double_scalars\n",
      "  self._x1 = self._x0 + self._width\n",
      "C:\\Users\\Tavish Aggarwal\\anaconda3\\lib\\site-packages\\matplotlib\\patches.py:781: RuntimeWarning: divide by zero encountered in double_scalars\n",
      "  self._y1 = self._y0 + self._height\n",
      "C:\\Users\\Tavish Aggarwal\\anaconda3\\lib\\site-packages\\matplotlib\\backends\\backend_agg.py:211: RuntimeWarning: divide by zero encountered in double_scalars\n",
      "  x = round(x + xo + xd)\n",
      "C:\\Users\\Tavish Aggarwal\\anaconda3\\lib\\site-packages\\matplotlib\\backends\\backend_agg.py:211: RuntimeWarning: divide by zero encountered in rint\n",
      "  x = round(x + xo + xd)\n",
      "C:\\Users\\Tavish Aggarwal\\anaconda3\\lib\\site-packages\\matplotlib\\backends\\backend_agg.py:212: RuntimeWarning: divide by zero encountered in double_scalars\n",
      "  y = round(y + yo + yd)\n",
      "C:\\Users\\Tavish Aggarwal\\anaconda3\\lib\\site-packages\\matplotlib\\backends\\backend_agg.py:212: RuntimeWarning: divide by zero encountered in rint\n",
      "  y = round(y + yo + yd)\n"
     ]
    },
    {
     "data": {
      "image/png": "[encoded data removed]",
      "text/plain": [
       "<Figure size 432x288 with 1 Axes>"
      ]
     },
     "metadata": {
      "needs_background": "light"
     },
     "output_type": "display_data"
    }
   ],
   "source": [
    "#Let's visualise to notice if any pattern exists\n",
    "sns.scatterplot(x ='X', y='Y',data=c)"
   ]
  },
  {
   "cell_type": "code",
   "execution_count": 23,
   "metadata": {},
   "outputs": [
    {
     "name": "stderr",
     "output_type": "stream",
     "text": [
      "C:\\Users\\Tavish Aggarwal\\anaconda3\\lib\\site-packages\\numpy\\core\\arrayprint.py:865: RuntimeWarning: divide by zero encountered in isfinite\n",
      "  finite_vals = data[isfinite(data)]\n",
      "C:\\Users\\Tavish Aggarwal\\anaconda3\\lib\\site-packages\\numpy\\core\\arrayprint.py:868: RuntimeWarning: divide by zero encountered in not_equal\n",
      "  abs_non_zero = absolute(finite_vals[finite_vals != 0])\n",
      "C:\\Users\\Tavish Aggarwal\\anaconda3\\lib\\site-packages\\numpy\\core\\arrayprint.py:868: RuntimeWarning: divide by zero encountered in absolute\n",
      "  abs_non_zero = absolute(finite_vals[finite_vals != 0])\n",
      "C:\\Users\\Tavish Aggarwal\\anaconda3\\lib\\site-packages\\numpy\\core\\arrayprint.py:874: RuntimeWarning: divide by zero encountered in double_scalars\n",
      "  (min_val < 0.0001 or max_val/min_val > 1000.)):\n",
      "C:\\Users\\Tavish Aggarwal\\anaconda3\\lib\\site-packages\\numpy\\core\\arrayprint.py:948: RuntimeWarning: divide by zero encountered in isfinite\n",
      "  if not np.isfinite(x):\n"
     ]
    },
    {
     "data": {
      "text/plain": [
       "array([[ 0.4472136 , -0.89442719],\n",
       "       [ 0.89442719,  0.4472136 ]])"
      ]
     },
     "execution_count": 23,
     "metadata": {},
     "output_type": "execute_result"
    }
   ],
   "source": [
    "# Let's represent the datapoint int he polar coordinate p\n",
    "p = np.array([[0.4472136,-0.89442719],[ 0.89442719,0.4472136]])\n",
    "p"
   ]
  },
  {
   "cell_type": "code",
   "execution_count": 24,
   "metadata": {},
   "outputs": [
    {
     "name": "stderr",
     "output_type": "stream",
     "text": [
      "C:\\Users\\Tavish Aggarwal\\anaconda3\\lib\\site-packages\\pandas\\core\\internals\\managers.py:246: RuntimeWarning: divide by zero encountered in equal\n",
      "  if (new_blknos == -1).any():\n",
      "C:\\Users\\Tavish Aggarwal\\anaconda3\\lib\\site-packages\\numpy\\core\\_methods.py:54: RuntimeWarning: divide by zero encountered in reduce\n",
      "  return umr_any(a, axis, dtype, out, keepdims)\n",
      "C:\\Users\\Tavish Aggarwal\\anaconda3\\lib\\site-packages\\pandas\\core\\dtypes\\missing.py:235: RuntimeWarning: divide by zero encountered in isnan\n",
      "  result = np.isnan(values)\n",
      "C:\\Users\\Tavish Aggarwal\\anaconda3\\lib\\site-packages\\pandas\\io\\formats\\format.py:1474: RuntimeWarning: divide by zero encountered in absolute\n",
      "  abs_vals = np.abs(self.values)\n",
      "C:\\Users\\Tavish Aggarwal\\anaconda3\\lib\\site-packages\\pandas\\io\\formats\\format.py:1478: RuntimeWarning: divide by zero encountered in greater\n",
      "  has_large_values = (abs_vals > 1e6).any()\n",
      "C:\\Users\\Tavish Aggarwal\\anaconda3\\lib\\site-packages\\pandas\\io\\formats\\format.py:1480: RuntimeWarning: divide by zero encountered in less\n",
      "  (abs_vals < 10 ** (-self.digits)) & (abs_vals > 0)\n",
      "C:\\Users\\Tavish Aggarwal\\anaconda3\\lib\\site-packages\\pandas\\io\\formats\\format.py:1480: RuntimeWarning: divide by zero encountered in greater\n",
      "  (abs_vals < 10 ** (-self.digits)) & (abs_vals > 0)\n",
      "C:\\Users\\Tavish Aggarwal\\anaconda3\\lib\\site-packages\\pandas\\io\\formats\\format.py:1480: RuntimeWarning: divide by zero encountered in bitwise_and\n",
      "  (abs_vals < 10 ** (-self.digits)) & (abs_vals > 0)\n",
      "C:\\Users\\Tavish Aggarwal\\anaconda3\\lib\\site-packages\\numpy\\core\\_methods.py:39: RuntimeWarning: divide by zero encountered in reduce\n",
      "  return umr_maximum(a, axis, None, out, keepdims, initial, where)\n",
      "C:\\Users\\Tavish Aggarwal\\anaconda3\\lib\\site-packages\\pandas\\io\\formats\\string.py:116: RuntimeWarning: divide by zero encountered in long_scalars\n",
      "  lwidth -= np.array([self.adj.len(x) for x in idx]).max() + adjoin_width\n",
      "C:\\Users\\Tavish Aggarwal\\anaconda3\\lib\\site-packages\\pandas\\io\\formats\\string.py:190: RuntimeWarning: divide by zero encountered in long_scalars\n",
      "  w_adjoined = w + adjoin_width\n",
      "C:\\Users\\Tavish Aggarwal\\anaconda3\\lib\\site-packages\\pandas\\io\\formats\\string.py:191: RuntimeWarning: divide by zero encountered in long_scalars\n",
      "  curr_width += w_adjoined\n",
      "C:\\Users\\Tavish Aggarwal\\anaconda3\\lib\\site-packages\\pandas\\io\\formats\\string.py:195: RuntimeWarning: divide by zero encountered in long_scalars\n",
      "  wrap = curr_width + 2 > line_width and i > 0\n",
      "C:\\Users\\Tavish Aggarwal\\anaconda3\\lib\\site-packages\\pandas\\io\\formats\\string.py:193: RuntimeWarning: divide by zero encountered in long_scalars\n",
      "  wrap = curr_width + 1 > line_width and i > 0\n",
      "C:\\Users\\Tavish Aggarwal\\anaconda3\\lib\\site-packages\\pandas\\core\\dtypes\\missing.py:235: RuntimeWarning: divide by zero encountered in isnan\n",
      "  result = np.isnan(values)\n",
      "C:\\Users\\Tavish Aggarwal\\anaconda3\\lib\\site-packages\\pandas\\io\\formats\\format.py:1474: RuntimeWarning: divide by zero encountered in absolute\n",
      "  abs_vals = np.abs(self.values)\n",
      "C:\\Users\\Tavish Aggarwal\\anaconda3\\lib\\site-packages\\pandas\\io\\formats\\format.py:1478: RuntimeWarning: divide by zero encountered in greater\n",
      "  has_large_values = (abs_vals > 1e6).any()\n",
      "C:\\Users\\Tavish Aggarwal\\anaconda3\\lib\\site-packages\\numpy\\core\\_methods.py:54: RuntimeWarning: divide by zero encountered in reduce\n",
      "  return umr_any(a, axis, dtype, out, keepdims)\n",
      "C:\\Users\\Tavish Aggarwal\\anaconda3\\lib\\site-packages\\pandas\\io\\formats\\format.py:1480: RuntimeWarning: divide by zero encountered in less\n",
      "  (abs_vals < 10 ** (-self.digits)) & (abs_vals > 0)\n",
      "C:\\Users\\Tavish Aggarwal\\anaconda3\\lib\\site-packages\\pandas\\io\\formats\\format.py:1480: RuntimeWarning: divide by zero encountered in greater\n",
      "  (abs_vals < 10 ** (-self.digits)) & (abs_vals > 0)\n",
      "C:\\Users\\Tavish Aggarwal\\anaconda3\\lib\\site-packages\\pandas\\io\\formats\\format.py:1480: RuntimeWarning: divide by zero encountered in bitwise_and\n",
      "  (abs_vals < 10 ** (-self.digits)) & (abs_vals > 0)\n"
     ]
    },
    {
     "data": {
      "text/html": [
       "<div>\n",
       "<style scoped>\n",
       "    .dataframe tbody tr th:only-of-type {\n",
       "        vertical-align: middle;\n",
       "    }\n",
       "\n",
       "    .dataframe tbody tr th {\n",
       "        vertical-align: top;\n",
       "    }\n",
       "\n",
       "    .dataframe thead th {\n",
       "        text-align: right;\n",
       "    }\n",
       "</style>\n",
       "<table border=\"1\" class=\"dataframe\">\n",
       "  <thead>\n",
       "    <tr style=\"text-align: right;\">\n",
       "      <th></th>\n",
       "      <th>0</th>\n",
       "      <th>1</th>\n",
       "    </tr>\n",
       "  </thead>\n",
       "  <tbody>\n",
       "    <tr>\n",
       "      <th>0</th>\n",
       "      <td>2.236068</td>\n",
       "      <td>1.000000e-08</td>\n",
       "    </tr>\n",
       "    <tr>\n",
       "      <th>1</th>\n",
       "      <td>4.472136</td>\n",
       "      <td>2.000000e-08</td>\n",
       "    </tr>\n",
       "    <tr>\n",
       "      <th>2</th>\n",
       "      <td>6.708204</td>\n",
       "      <td>3.000000e-08</td>\n",
       "    </tr>\n",
       "    <tr>\n",
       "      <th>3</th>\n",
       "      <td>8.944272</td>\n",
       "      <td>4.000000e-08</td>\n",
       "    </tr>\n",
       "    <tr>\n",
       "      <th>4</th>\n",
       "      <td>11.180340</td>\n",
       "      <td>5.000000e-08</td>\n",
       "    </tr>\n",
       "    <tr>\n",
       "      <th>5</th>\n",
       "      <td>13.416408</td>\n",
       "      <td>6.000000e-08</td>\n",
       "    </tr>\n",
       "    <tr>\n",
       "      <th>6</th>\n",
       "      <td>15.652476</td>\n",
       "      <td>7.000000e-08</td>\n",
       "    </tr>\n",
       "  </tbody>\n",
       "</table>\n",
       "</div>"
      ],
      "text/plain": [
       "           0             1\n",
       "0   2.236068  1.000000e-08\n",
       "1   4.472136  2.000000e-08\n",
       "2   6.708204  3.000000e-08\n",
       "3   8.944272  4.000000e-08\n",
       "4  11.180340  5.000000e-08\n",
       "5  13.416408  6.000000e-08\n",
       "6  15.652476  7.000000e-08"
      ]
     },
     "execution_count": 24,
     "metadata": {},
     "output_type": "execute_result"
    }
   ],
   "source": [
    "pI= np.linalg.inv(p)\n",
    "\n",
    "# Performing the basis transformation.\n",
    "C= pI @ c.T\n",
    "C.T"
   ]
  },
  {
   "cell_type": "code",
   "execution_count": 25,
   "metadata": {},
   "outputs": [
    {
     "name": "stderr",
     "output_type": "stream",
     "text": [
      "C:\\Users\\Tavish Aggarwal\\anaconda3\\lib\\site-packages\\pandas\\core\\internals\\managers.py:246: RuntimeWarning: divide by zero encountered in equal\n",
      "  if (new_blknos == -1).any():\n",
      "C:\\Users\\Tavish Aggarwal\\anaconda3\\lib\\site-packages\\pandas\\core\\series.py:2212: RuntimeWarning: divide by zero encountered in rint\n",
      "  result = self._values.round(decimals)\n",
      "C:\\Users\\Tavish Aggarwal\\anaconda3\\lib\\site-packages\\pandas\\core\\arraylike.py:358: RuntimeWarning: divide by zero encountered in absolute\n",
      "  result = getattr(ufunc, method)(*inputs, **kwargs)\n",
      "C:\\Users\\Tavish Aggarwal\\anaconda3\\lib\\site-packages\\numpy\\core\\_methods.py:54: RuntimeWarning: divide by zero encountered in reduce\n",
      "  return umr_any(a, axis, dtype, out, keepdims)\n",
      "C:\\Users\\Tavish Aggarwal\\anaconda3\\lib\\site-packages\\pandas\\core\\dtypes\\missing.py:235: RuntimeWarning: divide by zero encountered in isnan\n",
      "  result = np.isnan(values)\n",
      "C:\\Users\\Tavish Aggarwal\\anaconda3\\lib\\site-packages\\pandas\\io\\formats\\format.py:1474: RuntimeWarning: divide by zero encountered in absolute\n",
      "  abs_vals = np.abs(self.values)\n",
      "C:\\Users\\Tavish Aggarwal\\anaconda3\\lib\\site-packages\\pandas\\io\\formats\\format.py:1478: RuntimeWarning: divide by zero encountered in greater\n",
      "  has_large_values = (abs_vals > 1e6).any()\n",
      "C:\\Users\\Tavish Aggarwal\\anaconda3\\lib\\site-packages\\pandas\\io\\formats\\format.py:1480: RuntimeWarning: divide by zero encountered in less\n",
      "  (abs_vals < 10 ** (-self.digits)) & (abs_vals > 0)\n",
      "C:\\Users\\Tavish Aggarwal\\anaconda3\\lib\\site-packages\\pandas\\io\\formats\\format.py:1480: RuntimeWarning: divide by zero encountered in greater\n",
      "  (abs_vals < 10 ** (-self.digits)) & (abs_vals > 0)\n",
      "C:\\Users\\Tavish Aggarwal\\anaconda3\\lib\\site-packages\\pandas\\io\\formats\\format.py:1480: RuntimeWarning: divide by zero encountered in bitwise_and\n",
      "  (abs_vals < 10 ** (-self.digits)) & (abs_vals > 0)\n",
      "C:\\Users\\Tavish Aggarwal\\anaconda3\\lib\\site-packages\\numpy\\core\\_methods.py:39: RuntimeWarning: divide by zero encountered in reduce\n",
      "  return umr_maximum(a, axis, None, out, keepdims, initial, where)\n",
      "C:\\Users\\Tavish Aggarwal\\anaconda3\\lib\\site-packages\\pandas\\io\\formats\\string.py:116: RuntimeWarning: divide by zero encountered in long_scalars\n",
      "  lwidth -= np.array([self.adj.len(x) for x in idx]).max() + adjoin_width\n",
      "C:\\Users\\Tavish Aggarwal\\anaconda3\\lib\\site-packages\\pandas\\io\\formats\\string.py:190: RuntimeWarning: divide by zero encountered in long_scalars\n",
      "  w_adjoined = w + adjoin_width\n",
      "C:\\Users\\Tavish Aggarwal\\anaconda3\\lib\\site-packages\\pandas\\io\\formats\\string.py:191: RuntimeWarning: divide by zero encountered in long_scalars\n",
      "  curr_width += w_adjoined\n",
      "C:\\Users\\Tavish Aggarwal\\anaconda3\\lib\\site-packages\\pandas\\io\\formats\\string.py:195: RuntimeWarning: divide by zero encountered in long_scalars\n",
      "  wrap = curr_width + 2 > line_width and i > 0\n",
      "C:\\Users\\Tavish Aggarwal\\anaconda3\\lib\\site-packages\\pandas\\io\\formats\\string.py:193: RuntimeWarning: divide by zero encountered in long_scalars\n",
      "  wrap = curr_width + 1 > line_width and i > 0\n",
      "C:\\Users\\Tavish Aggarwal\\anaconda3\\lib\\site-packages\\numpy\\core\\_methods.py:54: RuntimeWarning: divide by zero encountered in reduce\n",
      "  return umr_any(a, axis, dtype, out, keepdims)\n",
      "C:\\Users\\Tavish Aggarwal\\anaconda3\\lib\\site-packages\\pandas\\core\\dtypes\\missing.py:235: RuntimeWarning: divide by zero encountered in isnan\n",
      "  result = np.isnan(values)\n",
      "C:\\Users\\Tavish Aggarwal\\anaconda3\\lib\\site-packages\\pandas\\io\\formats\\format.py:1474: RuntimeWarning: divide by zero encountered in absolute\n",
      "  abs_vals = np.abs(self.values)\n",
      "C:\\Users\\Tavish Aggarwal\\anaconda3\\lib\\site-packages\\pandas\\io\\formats\\format.py:1478: RuntimeWarning: divide by zero encountered in greater\n",
      "  has_large_values = (abs_vals > 1e6).any()\n",
      "C:\\Users\\Tavish Aggarwal\\anaconda3\\lib\\site-packages\\pandas\\io\\formats\\format.py:1480: RuntimeWarning: divide by zero encountered in less\n",
      "  (abs_vals < 10 ** (-self.digits)) & (abs_vals > 0)\n",
      "C:\\Users\\Tavish Aggarwal\\anaconda3\\lib\\site-packages\\pandas\\io\\formats\\format.py:1480: RuntimeWarning: divide by zero encountered in greater\n",
      "  (abs_vals < 10 ** (-self.digits)) & (abs_vals > 0)\n",
      "C:\\Users\\Tavish Aggarwal\\anaconda3\\lib\\site-packages\\pandas\\io\\formats\\format.py:1480: RuntimeWarning: divide by zero encountered in bitwise_and\n",
      "  (abs_vals < 10 ** (-self.digits)) & (abs_vals > 0)\n"
     ]
    },
    {
     "data": {
      "text/html": [
       "<div>\n",
       "<style scoped>\n",
       "    .dataframe tbody tr th:only-of-type {\n",
       "        vertical-align: middle;\n",
       "    }\n",
       "\n",
       "    .dataframe tbody tr th {\n",
       "        vertical-align: top;\n",
       "    }\n",
       "\n",
       "    .dataframe thead th {\n",
       "        text-align: right;\n",
       "    }\n",
       "</style>\n",
       "<table border=\"1\" class=\"dataframe\">\n",
       "  <thead>\n",
       "    <tr style=\"text-align: right;\">\n",
       "      <th></th>\n",
       "      <th>X</th>\n",
       "      <th>Y</th>\n",
       "    </tr>\n",
       "  </thead>\n",
       "  <tbody>\n",
       "    <tr>\n",
       "      <th>0</th>\n",
       "      <td>2.236068</td>\n",
       "      <td>0.0</td>\n",
       "    </tr>\n",
       "    <tr>\n",
       "      <th>1</th>\n",
       "      <td>4.472136</td>\n",
       "      <td>0.0</td>\n",
       "    </tr>\n",
       "    <tr>\n",
       "      <th>2</th>\n",
       "      <td>6.708204</td>\n",
       "      <td>0.0</td>\n",
       "    </tr>\n",
       "    <tr>\n",
       "      <th>3</th>\n",
       "      <td>8.944272</td>\n",
       "      <td>0.0</td>\n",
       "    </tr>\n",
       "    <tr>\n",
       "      <th>4</th>\n",
       "      <td>11.180340</td>\n",
       "      <td>0.0</td>\n",
       "    </tr>\n",
       "    <tr>\n",
       "      <th>5</th>\n",
       "      <td>13.416408</td>\n",
       "      <td>0.0</td>\n",
       "    </tr>\n",
       "    <tr>\n",
       "      <th>6</th>\n",
       "      <td>15.652476</td>\n",
       "      <td>0.0</td>\n",
       "    </tr>\n",
       "  </tbody>\n",
       "</table>\n",
       "</div>"
      ],
      "text/plain": [
       "           X    Y\n",
       "0   2.236068  0.0\n",
       "1   4.472136  0.0\n",
       "2   6.708204  0.0\n",
       "3   8.944272  0.0\n",
       "4  11.180340  0.0\n",
       "5  13.416408  0.0\n",
       "6  15.652476  0.0"
      ]
     },
     "execution_count": 25,
     "metadata": {},
     "output_type": "execute_result"
    }
   ],
   "source": [
    "D = C.T\n",
    "D.columns = ['X', 'Y']\n",
    "D['Y']=abs(round(D['Y']))\n",
    "D"
   ]
  },
  {
   "cell_type": "code",
   "execution_count": 26,
   "metadata": {},
   "outputs": [
    {
     "name": "stderr",
     "output_type": "stream",
     "text": [
      "C:\\Users\\Tavish Aggarwal\\anaconda3\\lib\\site-packages\\seaborn\\relational.py:584: RuntimeWarning: divide by zero encountered in square\n",
      "  np.r_[.5, 2] * np.square(mpl.rcParams[\"lines.markersize\"])\n",
      "C:\\Users\\Tavish Aggarwal\\anaconda3\\lib\\site-packages\\seaborn\\relational.py:584: RuntimeWarning: divide by zero encountered in multiply\n",
      "  np.r_[.5, 2] * np.square(mpl.rcParams[\"lines.markersize\"])\n",
      "C:\\Users\\Tavish Aggarwal\\anaconda3\\lib\\site-packages\\pandas\\core\\indexes\\base.py:6120: RuntimeWarning: divide by zero encountered in equal\n",
      "  if (res == data).all():\n",
      "C:\\Users\\Tavish Aggarwal\\anaconda3\\lib\\site-packages\\numpy\\core\\_methods.py:57: RuntimeWarning: divide by zero encountered in reduce\n",
      "  return umr_all(a, axis, dtype, out, keepdims)\n",
      "C:\\Users\\Tavish Aggarwal\\anaconda3\\lib\\site-packages\\numpy\\core\\numeric.py:2378: RuntimeWarning: divide by zero encountered in equal\n",
      "  return bool(asarray(a1 == a2).all())\n",
      "C:\\Users\\Tavish Aggarwal\\anaconda3\\lib\\site-packages\\pandas\\core\\internals\\managers.py:246: RuntimeWarning: divide by zero encountered in equal\n",
      "  if (new_blknos == -1).any():\n",
      "C:\\Users\\Tavish Aggarwal\\anaconda3\\lib\\site-packages\\numpy\\lib\\arraysetops.py:580: RuntimeWarning: divide by zero encountered in equal\n",
      "  mask |= (ar1 == a)\n",
      "C:\\Users\\Tavish Aggarwal\\anaconda3\\lib\\site-packages\\numpy\\lib\\arraysetops.py:580: RuntimeWarning: divide by zero encountered in bitwise_or\n",
      "  mask |= (ar1 == a)\n",
      "C:\\Users\\Tavish Aggarwal\\anaconda3\\lib\\site-packages\\numpy\\core\\_methods.py:57: RuntimeWarning: divide by zero encountered in reduce\n",
      "  return umr_all(a, axis, dtype, out, keepdims)\n",
      "C:\\Users\\Tavish Aggarwal\\anaconda3\\lib\\site-packages\\pandas\\core\\dtypes\\missing.py:235: RuntimeWarning: divide by zero encountered in isnan\n",
      "  result = np.isnan(values)\n",
      "C:\\Users\\Tavish Aggarwal\\anaconda3\\lib\\site-packages\\numpy\\lib\\arraysetops.py:580: RuntimeWarning: divide by zero encountered in equal\n",
      "  mask |= (ar1 == a)\n",
      "C:\\Users\\Tavish Aggarwal\\anaconda3\\lib\\site-packages\\numpy\\lib\\arraysetops.py:580: RuntimeWarning: divide by zero encountered in bitwise_or\n",
      "  mask |= (ar1 == a)\n",
      "C:\\Users\\Tavish Aggarwal\\anaconda3\\lib\\site-packages\\numpy\\core\\_methods.py:57: RuntimeWarning: divide by zero encountered in reduce\n",
      "  return umr_all(a, axis, dtype, out, keepdims)\n",
      "C:\\Users\\Tavish Aggarwal\\anaconda3\\lib\\site-packages\\pandas\\core\\dtypes\\missing.py:235: RuntimeWarning: divide by zero encountered in isnan\n",
      "  result = np.isnan(values)\n",
      "C:\\Users\\Tavish Aggarwal\\anaconda3\\lib\\site-packages\\matplotlib\\figure.py:321: RuntimeWarning: divide by zero encountered in isfinite\n",
      "  if not np.isfinite(figsize).all() or (np.array(figsize) < 0).any():\n",
      "C:\\Users\\Tavish Aggarwal\\anaconda3\\lib\\site-packages\\numpy\\core\\_methods.py:57: RuntimeWarning: divide by zero encountered in reduce\n",
      "  return umr_all(a, axis, dtype, out, keepdims)\n",
      "C:\\Users\\Tavish Aggarwal\\anaconda3\\lib\\site-packages\\matplotlib\\figure.py:321: RuntimeWarning: divide by zero encountered in less\n",
      "  if not np.isfinite(figsize).all() or (np.array(figsize) < 0).any():\n",
      "C:\\Users\\Tavish Aggarwal\\anaconda3\\lib\\site-packages\\numpy\\core\\_methods.py:54: RuntimeWarning: divide by zero encountered in reduce\n",
      "  return umr_any(a, axis, dtype, out, keepdims)\n",
      "C:\\Users\\Tavish Aggarwal\\anaconda3\\lib\\site-packages\\matplotlib\\transforms.py:1996: RuntimeWarning: divide by zero encountered in double_scalars\n",
      "  self._mtx[0, 0] *= sx\n",
      "C:\\Users\\Tavish Aggarwal\\anaconda3\\lib\\site-packages\\matplotlib\\transforms.py:1997: RuntimeWarning: divide by zero encountered in double_scalars\n",
      "  self._mtx[0, 1] *= sx\n",
      "C:\\Users\\Tavish Aggarwal\\anaconda3\\lib\\site-packages\\matplotlib\\transforms.py:1998: RuntimeWarning: divide by zero encountered in double_scalars\n",
      "  self._mtx[0, 2] *= sx\n",
      "C:\\Users\\Tavish Aggarwal\\anaconda3\\lib\\site-packages\\matplotlib\\transforms.py:1999: RuntimeWarning: divide by zero encountered in double_scalars\n",
      "  self._mtx[1, 0] *= sy\n",
      "C:\\Users\\Tavish Aggarwal\\anaconda3\\lib\\site-packages\\matplotlib\\transforms.py:2000: RuntimeWarning: divide by zero encountered in double_scalars\n",
      "  self._mtx[1, 1] *= sy\n",
      "C:\\Users\\Tavish Aggarwal\\anaconda3\\lib\\site-packages\\matplotlib\\transforms.py:2001: RuntimeWarning: divide by zero encountered in double_scalars\n",
      "  self._mtx[1, 2] *= sy\n",
      "C:\\Users\\Tavish Aggarwal\\anaconda3\\lib\\site-packages\\matplotlib\\gridspec.py:203: RuntimeWarning: divide by zero encountered in subtract\n",
      "  fig_tops, fig_bottoms = (top - cell_hs).reshape((-1, 2)).T\n",
      "C:\\Users\\Tavish Aggarwal\\anaconda3\\lib\\site-packages\\matplotlib\\gridspec.py:204: RuntimeWarning: divide by zero encountered in add\n",
      "  fig_lefts, fig_rights = (left + cell_ws).reshape((-1, 2)).T\n",
      "C:\\Users\\Tavish Aggarwal\\anaconda3\\lib\\site-packages\\numpy\\core\\_methods.py:43: RuntimeWarning: divide by zero encountered in reduce\n",
      "  return umr_minimum(a, axis, None, out, keepdims, initial, where)\n",
      "C:\\Users\\Tavish Aggarwal\\anaconda3\\lib\\site-packages\\numpy\\core\\_methods.py:39: RuntimeWarning: divide by zero encountered in reduce\n",
      "  return umr_maximum(a, axis, None, out, keepdims, initial, where)\n",
      "C:\\Users\\Tavish Aggarwal\\anaconda3\\lib\\site-packages\\matplotlib\\transforms.py:361: RuntimeWarning: divide by zero encountered in double_scalars\n",
      "  return points[1, 0] - points[0, 0]\n",
      "C:\\Users\\Tavish Aggarwal\\anaconda3\\lib\\site-packages\\matplotlib\\transforms.py:367: RuntimeWarning: divide by zero encountered in double_scalars\n",
      "  return points[1, 1] - points[0, 1]\n",
      "C:\\Users\\Tavish Aggarwal\\anaconda3\\lib\\site-packages\\numpy\\lib\\function_base.py:1280: RuntimeWarning: divide by zero encountered in subtract\n",
      "  a = op(a[slice1], a[slice2])\n",
      "C:\\Users\\Tavish Aggarwal\\anaconda3\\lib\\site-packages\\matplotlib\\ticker.py:2165: RuntimeWarning: divide by zero encountered in less_equal\n",
      "  if np.any(np.diff(steps) <= 0) or steps[-1] > 10 or steps[0] < 1:\n",
      "C:\\Users\\Tavish Aggarwal\\anaconda3\\lib\\site-packages\\numpy\\core\\fromnumeric.py:87: RuntimeWarning: divide by zero encountered in reduce\n",
      "  return ufunc.reduce(obj, axis, dtype, out, **passkwargs)\n",
      "C:\\Users\\Tavish Aggarwal\\anaconda3\\lib\\site-packages\\matplotlib\\ticker.py:2179: RuntimeWarning: divide by zero encountered in multiply\n",
      "  flights = (0.1 * steps[:-1], steps, 10 * steps[1])\n",
      "C:\\Users\\Tavish Aggarwal\\anaconda3\\lib\\site-packages\\matplotlib\\ticker.py:2179: RuntimeWarning: divide by zero encountered in double_scalars\n",
      "  flights = (0.1 * steps[:-1], steps, 10 * steps[1])\n",
      "C:\\Users\\Tavish Aggarwal\\anaconda3\\lib\\site-packages\\matplotlib\\axes\\_base.py:3210: RuntimeWarning: divide by zero encountered in isfinite\n",
      "  and not np.isfinite(converted_limit)):\n",
      "C:\\Users\\Tavish Aggarwal\\anaconda3\\lib\\site-packages\\matplotlib\\transforms.py:2792: RuntimeWarning: divide by zero encountered in isfinite\n",
      "  if (not np.isfinite(vmin)) or (not np.isfinite(vmax)):\n",
      "C:\\Users\\Tavish Aggarwal\\anaconda3\\lib\\site-packages\\matplotlib\\transforms.py:2805: RuntimeWarning: divide by zero encountered in double_scalars\n",
      "  if maxabsvalue < (1e6 / tiny) * np.finfo(float).tiny:\n",
      "C:\\Users\\Tavish Aggarwal\\anaconda3\\lib\\site-packages\\matplotlib\\transforms.py:1977: RuntimeWarning: divide by zero encountered in double_scalars\n",
      "  self._mtx[0, 2] += tx\n",
      "C:\\Users\\Tavish Aggarwal\\anaconda3\\lib\\site-packages\\matplotlib\\transforms.py:1978: RuntimeWarning: divide by zero encountered in double_scalars\n",
      "  self._mtx[1, 2] += ty\n",
      "C:\\Users\\Tavish Aggarwal\\anaconda3\\lib\\site-packages\\numpy\\ma\\core.py:2366: RuntimeWarning: divide by zero encountered in isfinite\n",
      "  condition = ~(np.isfinite(getdata(a)))\n",
      "C:\\Users\\Tavish Aggarwal\\anaconda3\\lib\\site-packages\\numpy\\ma\\core.py:2366: RuntimeWarning: divide by zero encountered in invert\n",
      "  condition = ~(np.isfinite(getdata(a)))\n",
      "C:\\Users\\Tavish Aggarwal\\anaconda3\\lib\\site-packages\\matplotlib\\colors.py:306: RuntimeWarning: divide by zero encountered in less\n",
      "  if np.any((result < 0) | (result > 1)):\n",
      "C:\\Users\\Tavish Aggarwal\\anaconda3\\lib\\site-packages\\matplotlib\\colors.py:306: RuntimeWarning: divide by zero encountered in greater\n",
      "  if np.any((result < 0) | (result > 1)):\n",
      "C:\\Users\\Tavish Aggarwal\\anaconda3\\lib\\site-packages\\matplotlib\\colors.py:306: RuntimeWarning: divide by zero encountered in bitwise_or\n",
      "  if np.any((result < 0) | (result > 1)):\n",
      "C:\\Users\\Tavish Aggarwal\\anaconda3\\lib\\site-packages\\matplotlib\\lines.py:70: RuntimeWarning: divide by zero encountered in double_scalars\n",
      "  scaled_offset = offset * lw\n",
      "C:\\Users\\Tavish Aggarwal\\anaconda3\\lib\\site-packages\\matplotlib\\collections.py:922: RuntimeWarning: divide by zero encountered in sqrt\n",
      "  scale = np.sqrt(self._sizes) * dpi / 72.0 * self._factor\n",
      "C:\\Users\\Tavish Aggarwal\\anaconda3\\lib\\site-packages\\matplotlib\\collections.py:922: RuntimeWarning: divide by zero encountered in multiply\n",
      "  scale = np.sqrt(self._sizes) * dpi / 72.0 * self._factor\n",
      "C:\\Users\\Tavish Aggarwal\\anaconda3\\lib\\site-packages\\matplotlib\\collections.py:922: RuntimeWarning: divide by zero encountered in true_divide\n",
      "  scale = np.sqrt(self._sizes) * dpi / 72.0 * self._factor\n",
      "C:\\Users\\Tavish Aggarwal\\anaconda3\\lib\\site-packages\\matplotlib\\transforms.py:1712: RuntimeWarning: divide by zero encountered in equal\n",
      "  return np.all(self.get_matrix() == other.get_matrix())\n",
      "C:\\Users\\Tavish Aggarwal\\anaconda3\\lib\\site-packages\\matplotlib\\axes\\_base.py:2142: RuntimeWarning: divide by zero encountered in isfinite\n",
      "  if not np.any(np.isfinite(xys)):\n",
      "C:\\Users\\Tavish Aggarwal\\anaconda3\\lib\\site-packages\\pandas\\core\\indexing.py:1302: RuntimeWarning: divide by zero encountered in less\n",
      "  missing_mask = indexer < 0\n",
      "C:\\Users\\Tavish Aggarwal\\anaconda3\\lib\\site-packages\\numpy\\core\\_methods.py:47: RuntimeWarning: divide by zero encountered in reduce\n",
      "  return umr_sum(a, axis, dtype, out, keepdims, initial, where)\n",
      "C:\\Users\\Tavish Aggarwal\\anaconda3\\lib\\site-packages\\pandas\\core\\indexers.py:258: RuntimeWarning: divide by zero encountered in less\n",
      "  mask = indices < 0\n",
      "C:\\Users\\Tavish Aggarwal\\anaconda3\\lib\\site-packages\\pandas\\core\\indexers.py:263: RuntimeWarning: divide by zero encountered in greater_equal\n",
      "  mask = (indices >= n) | (indices < 0)\n",
      "C:\\Users\\Tavish Aggarwal\\anaconda3\\lib\\site-packages\\pandas\\core\\indexers.py:263: RuntimeWarning: divide by zero encountered in less\n",
      "  mask = (indices >= n) | (indices < 0)\n",
      "C:\\Users\\Tavish Aggarwal\\anaconda3\\lib\\site-packages\\pandas\\core\\indexers.py:263: RuntimeWarning: divide by zero encountered in bitwise_or\n",
      "  mask = (indices >= n) | (indices < 0)\n",
      "C:\\Users\\Tavish Aggarwal\\anaconda3\\lib\\site-packages\\pandas\\core\\internals\\managers.py:1470: RuntimeWarning: divide by zero encountered in equal\n",
      "  if ((indexer == -1) | (indexer >= n)).any():\n",
      "C:\\Users\\Tavish Aggarwal\\anaconda3\\lib\\site-packages\\pandas\\core\\internals\\managers.py:1470: RuntimeWarning: divide by zero encountered in greater_equal\n",
      "  if ((indexer == -1) | (indexer >= n)).any():\n",
      "C:\\Users\\Tavish Aggarwal\\anaconda3\\lib\\site-packages\\pandas\\core\\internals\\managers.py:1470: RuntimeWarning: divide by zero encountered in bitwise_or\n",
      "  if ((indexer == -1) | (indexer >= n)).any():\n",
      "C:\\Users\\Tavish Aggarwal\\anaconda3\\lib\\site-packages\\pandas\\core\\internals\\managers.py:1423: RuntimeWarning: divide by zero encountered in int_scalars\n",
      "  max_len = max(len(mgr_locs), taker.max() + 1)\n",
      "C:\\Users\\Tavish Aggarwal\\anaconda3\\lib\\site-packages\\pandas\\core\\internals\\managers.py:246: RuntimeWarning: divide by zero encountered in equal\n",
      "  if (new_blknos == -1).any():\n",
      "C:\\Users\\Tavish Aggarwal\\anaconda3\\lib\\site-packages\\pandas\\core\\indexers.py:258: RuntimeWarning: divide by zero encountered in less\n",
      "  mask = indices < 0\n",
      "C:\\Users\\Tavish Aggarwal\\anaconda3\\lib\\site-packages\\numpy\\core\\_methods.py:54: RuntimeWarning: divide by zero encountered in reduce\n",
      "  return umr_any(a, axis, dtype, out, keepdims)\n",
      "C:\\Users\\Tavish Aggarwal\\anaconda3\\lib\\site-packages\\pandas\\core\\indexers.py:263: RuntimeWarning: divide by zero encountered in greater_equal\n",
      "  mask = (indices >= n) | (indices < 0)\n",
      "C:\\Users\\Tavish Aggarwal\\anaconda3\\lib\\site-packages\\pandas\\core\\indexers.py:263: RuntimeWarning: divide by zero encountered in less\n",
      "  mask = (indices >= n) | (indices < 0)\n",
      "C:\\Users\\Tavish Aggarwal\\anaconda3\\lib\\site-packages\\pandas\\core\\indexers.py:263: RuntimeWarning: divide by zero encountered in bitwise_or\n",
      "  mask = (indices >= n) | (indices < 0)\n",
      "C:\\Users\\Tavish Aggarwal\\anaconda3\\lib\\site-packages\\pandas\\core\\internals\\managers.py:1470: RuntimeWarning: divide by zero encountered in equal\n",
      "  if ((indexer == -1) | (indexer >= n)).any():\n",
      "C:\\Users\\Tavish Aggarwal\\anaconda3\\lib\\site-packages\\pandas\\core\\internals\\managers.py:1470: RuntimeWarning: divide by zero encountered in greater_equal\n",
      "  if ((indexer == -1) | (indexer >= n)).any():\n",
      "C:\\Users\\Tavish Aggarwal\\anaconda3\\lib\\site-packages\\pandas\\core\\internals\\managers.py:1470: RuntimeWarning: divide by zero encountered in bitwise_or\n",
      "  if ((indexer == -1) | (indexer >= n)).any():\n",
      "C:\\Users\\Tavish Aggarwal\\anaconda3\\lib\\site-packages\\numpy\\core\\numeric.py:2378: RuntimeWarning: divide by zero encountered in equal\n",
      "  return bool(asarray(a1 == a2).all())\n",
      "C:\\Users\\Tavish Aggarwal\\anaconda3\\lib\\site-packages\\numpy\\core\\_methods.py:57: RuntimeWarning: divide by zero encountered in reduce\n",
      "  return umr_all(a, axis, dtype, out, keepdims)\n",
      "C:\\Users\\Tavish Aggarwal\\anaconda3\\lib\\site-packages\\numpy\\core\\fromnumeric.py:87: RuntimeWarning: divide by zero encountered in reduce\n",
      "  return ufunc.reduce(obj, axis, dtype, out, **passkwargs)\n",
      "C:\\Users\\Tavish Aggarwal\\anaconda3\\lib\\site-packages\\pandas\\core\\internals\\managers.py:246: RuntimeWarning: divide by zero encountered in equal\n",
      "  if (new_blknos == -1).any():\n",
      "C:\\Users\\Tavish Aggarwal\\anaconda3\\lib\\site-packages\\numpy\\lib\\function_base.py:3728: RuntimeWarning: divide by zero encountered in true_divide\n",
      "  q = np.true_divide(q, 100)\n",
      "C:\\Users\\Tavish Aggarwal\\anaconda3\\lib\\site-packages\\numpy\\lib\\function_base.py:3868: RuntimeWarning: divide by zero encountered in less\n",
      "  if np.count_nonzero(q < 0.0) or np.count_nonzero(q > 1.0):\n",
      "C:\\Users\\Tavish Aggarwal\\anaconda3\\lib\\site-packages\\numpy\\lib\\function_base.py:3868: RuntimeWarning: divide by zero encountered in greater\n",
      "  if np.count_nonzero(q < 0.0) or np.count_nonzero(q > 1.0):\n",
      "C:\\Users\\Tavish Aggarwal\\anaconda3\\lib\\site-packages\\numpy\\lib\\function_base.py:3899: RuntimeWarning: divide by zero encountered in multiply\n",
      "  indices = q * (Nx - 1)\n",
      "C:\\Users\\Tavish Aggarwal\\anaconda3\\lib\\site-packages\\numpy\\lib\\function_base.py:3938: RuntimeWarning: divide by zero encountered in floor\n",
      "  indices_below = floor(indices).astype(intp)\n",
      "C:\\Users\\Tavish Aggarwal\\anaconda3\\lib\\site-packages\\numpy\\lib\\function_base.py:3939: RuntimeWarning: divide by zero encountered in add\n",
      "  indices_above = indices_below + 1\n",
      "C:\\Users\\Tavish Aggarwal\\anaconda3\\lib\\site-packages\\numpy\\lib\\function_base.py:3940: RuntimeWarning: divide by zero encountered in greater\n",
      "  indices_above[indices_above > Nx - 1] = Nx - 1\n",
      "C:\\Users\\Tavish Aggarwal\\anaconda3\\lib\\site-packages\\numpy\\lib\\function_base.py:3946: RuntimeWarning: divide by zero encountered in subtract\n",
      "  weights_above = indices - indices_below\n",
      "C:\\Users\\Tavish Aggarwal\\anaconda3\\lib\\site-packages\\numpy\\lib\\function_base.py:3947: RuntimeWarning: divide by zero encountered in subtract\n",
      "  weights_below = 1 - weights_above\n",
      "C:\\Users\\Tavish Aggarwal\\anaconda3\\lib\\site-packages\\numpy\\lib\\function_base.py:3965: RuntimeWarning: divide by zero encountered in isnan\n",
      "  n = np.isnan(ap[-1:, ...])\n",
      "C:\\Users\\Tavish Aggarwal\\anaconda3\\lib\\site-packages\\numpy\\lib\\function_base.py:3967: RuntimeWarning: divide by zero encountered in multiply\n",
      "  x1 = take(ap, indices_below, axis=axis) * weights_below\n",
      "C:\\Users\\Tavish Aggarwal\\anaconda3\\lib\\site-packages\\numpy\\lib\\function_base.py:3968: RuntimeWarning: divide by zero encountered in multiply\n",
      "  x2 = take(ap, indices_above, axis=axis) * weights_above\n",
      "C:\\Users\\Tavish Aggarwal\\anaconda3\\lib\\site-packages\\numpy\\lib\\function_base.py:3981: RuntimeWarning: divide by zero encountered in add\n",
      "  r = add(x1, x2)\n",
      "C:\\Users\\Tavish Aggarwal\\anaconda3\\lib\\site-packages\\seaborn\\relational.py:634: RuntimeWarning: divide by zero encountered in sqrt\n",
      "  kws.setdefault(\"linewidth\", .08 * np.sqrt(np.percentile(s, 10)))\n",
      "C:\\Users\\Tavish Aggarwal\\anaconda3\\lib\\site-packages\\seaborn\\relational.py:634: RuntimeWarning: divide by zero encountered in double_scalars\n",
      "  kws.setdefault(\"linewidth\", .08 * np.sqrt(np.percentile(s, 10)))\n",
      "C:\\Users\\Tavish Aggarwal\\anaconda3\\lib\\site-packages\\matplotlib\\colors.py:306: RuntimeWarning: divide by zero encountered in less\n",
      "  if np.any((result < 0) | (result > 1)):\n",
      "C:\\Users\\Tavish Aggarwal\\anaconda3\\lib\\site-packages\\matplotlib\\colors.py:306: RuntimeWarning: divide by zero encountered in greater\n",
      "  if np.any((result < 0) | (result > 1)):\n",
      "C:\\Users\\Tavish Aggarwal\\anaconda3\\lib\\site-packages\\matplotlib\\colors.py:306: RuntimeWarning: divide by zero encountered in bitwise_or\n",
      "  if np.any((result < 0) | (result > 1)):\n",
      "C:\\Users\\Tavish Aggarwal\\anaconda3\\lib\\site-packages\\numpy\\ma\\core.py:2366: RuntimeWarning: divide by zero encountered in isfinite\n",
      "  condition = ~(np.isfinite(getdata(a)))\n",
      "C:\\Users\\Tavish Aggarwal\\anaconda3\\lib\\site-packages\\numpy\\ma\\core.py:2366: RuntimeWarning: divide by zero encountered in invert\n",
      "  condition = ~(np.isfinite(getdata(a)))\n",
      "C:\\Users\\Tavish Aggarwal\\anaconda3\\lib\\site-packages\\matplotlib\\transforms.py:1996: RuntimeWarning: divide by zero encountered in double_scalars\n",
      "  self._mtx[0, 0] *= sx\n",
      "C:\\Users\\Tavish Aggarwal\\anaconda3\\lib\\site-packages\\matplotlib\\transforms.py:1997: RuntimeWarning: divide by zero encountered in double_scalars\n",
      "  self._mtx[0, 1] *= sx\n",
      "C:\\Users\\Tavish Aggarwal\\anaconda3\\lib\\site-packages\\matplotlib\\transforms.py:1998: RuntimeWarning: divide by zero encountered in double_scalars\n",
      "  self._mtx[0, 2] *= sx\n",
      "C:\\Users\\Tavish Aggarwal\\anaconda3\\lib\\site-packages\\matplotlib\\transforms.py:1999: RuntimeWarning: divide by zero encountered in double_scalars\n",
      "  self._mtx[1, 0] *= sy\n",
      "C:\\Users\\Tavish Aggarwal\\anaconda3\\lib\\site-packages\\matplotlib\\transforms.py:2000: RuntimeWarning: divide by zero encountered in double_scalars\n",
      "  self._mtx[1, 1] *= sy\n",
      "C:\\Users\\Tavish Aggarwal\\anaconda3\\lib\\site-packages\\matplotlib\\transforms.py:2001: RuntimeWarning: divide by zero encountered in double_scalars\n",
      "  self._mtx[1, 2] *= sy\n",
      "C:\\Users\\Tavish Aggarwal\\anaconda3\\lib\\site-packages\\matplotlib\\lines.py:70: RuntimeWarning: divide by zero encountered in double_scalars\n",
      "  scaled_offset = offset * lw\n",
      "C:\\Users\\Tavish Aggarwal\\anaconda3\\lib\\site-packages\\matplotlib\\collections.py:922: RuntimeWarning: divide by zero encountered in sqrt\n",
      "  scale = np.sqrt(self._sizes) * dpi / 72.0 * self._factor\n",
      "C:\\Users\\Tavish Aggarwal\\anaconda3\\lib\\site-packages\\matplotlib\\collections.py:922: RuntimeWarning: divide by zero encountered in multiply\n",
      "  scale = np.sqrt(self._sizes) * dpi / 72.0 * self._factor\n",
      "C:\\Users\\Tavish Aggarwal\\anaconda3\\lib\\site-packages\\matplotlib\\collections.py:922: RuntimeWarning: divide by zero encountered in true_divide\n",
      "  scale = np.sqrt(self._sizes) * dpi / 72.0 * self._factor\n",
      "C:\\Users\\Tavish Aggarwal\\anaconda3\\lib\\site-packages\\matplotlib\\transforms.py:1977: RuntimeWarning: divide by zero encountered in double_scalars\n",
      "  self._mtx[0, 2] += tx\n",
      "C:\\Users\\Tavish Aggarwal\\anaconda3\\lib\\site-packages\\matplotlib\\transforms.py:1978: RuntimeWarning: divide by zero encountered in double_scalars\n",
      "  self._mtx[1, 2] += ty\n",
      "C:\\Users\\Tavish Aggarwal\\anaconda3\\lib\\site-packages\\matplotlib\\axes\\_base.py:2521: RuntimeWarning: divide by zero encountered in isfinite\n",
      "  finite_dl = [d for d in dl if np.isfinite(d).all()]\n",
      "C:\\Users\\Tavish Aggarwal\\anaconda3\\lib\\site-packages\\matplotlib\\transforms.py:2792: RuntimeWarning: divide by zero encountered in isfinite\n",
      "  if (not np.isfinite(vmin)) or (not np.isfinite(vmax)):\n",
      "C:\\Users\\Tavish Aggarwal\\anaconda3\\lib\\site-packages\\matplotlib\\axes\\_base.py:2550: RuntimeWarning: divide by zero encountered in int_scalars\n",
      "  i0 = stickies.searchsorted(x0 + tol) - 1\n",
      "C:\\Users\\Tavish Aggarwal\\anaconda3\\lib\\site-packages\\matplotlib\\axes\\_base.py:2563: RuntimeWarning: divide by zero encountered in double_scalars\n",
      "  delta = (x1t - x0t) * margin\n",
      "C:\\Users\\Tavish Aggarwal\\anaconda3\\lib\\site-packages\\matplotlib\\axes\\_base.py:2564: RuntimeWarning: divide by zero encountered in isfinite\n",
      "  if not np.isfinite(delta):\n"
     ]
    },
    {
     "name": "stderr",
     "output_type": "stream",
     "text": [
      "C:\\Users\\Tavish Aggarwal\\anaconda3\\lib\\site-packages\\matplotlib\\axes\\_base.py:2566: RuntimeWarning: divide by zero encountered in double_scalars\n",
      "  x0, x1 = inverse_trans.transform([x0t - delta, x1t + delta])\n",
      "C:\\Users\\Tavish Aggarwal\\anaconda3\\lib\\site-packages\\matplotlib\\transforms.py:2805: RuntimeWarning: divide by zero encountered in double_scalars\n",
      "  if maxabsvalue < (1e6 / tiny) * np.finfo(float).tiny:\n",
      "C:\\Users\\Tavish Aggarwal\\anaconda3\\lib\\site-packages\\matplotlib\\axes\\_base.py:3210: RuntimeWarning: divide by zero encountered in isfinite\n",
      "  and not np.isfinite(converted_limit)):\n",
      "C:\\Users\\Tavish Aggarwal\\anaconda3\\lib\\site-packages\\matplotlib\\transforms.py:1712: RuntimeWarning: divide by zero encountered in equal\n",
      "  return np.all(self.get_matrix() == other.get_matrix())\n",
      "C:\\Users\\Tavish Aggarwal\\anaconda3\\lib\\site-packages\\numpy\\ma\\core.py:2371: RuntimeWarning: divide by zero encountered in isfinite\n",
      "  condition = ~(np.isfinite(a))\n",
      "C:\\Users\\Tavish Aggarwal\\anaconda3\\lib\\site-packages\\numpy\\ma\\core.py:2371: RuntimeWarning: divide by zero encountered in invert\n",
      "  condition = ~(np.isfinite(a))\n",
      "C:\\Users\\Tavish Aggarwal\\anaconda3\\lib\\site-packages\\numpy\\core\\_methods.py:43: RuntimeWarning: divide by zero encountered in reduce\n",
      "  return umr_minimum(a, axis, None, out, keepdims, initial, where)\n",
      "C:\\Users\\Tavish Aggarwal\\anaconda3\\lib\\site-packages\\numpy\\core\\_methods.py:39: RuntimeWarning: divide by zero encountered in reduce\n",
      "  return umr_maximum(a, axis, None, out, keepdims, initial, where)\n",
      "C:\\Users\\Tavish Aggarwal\\anaconda3\\lib\\site-packages\\matplotlib\\axes\\_base.py:2142: RuntimeWarning: divide by zero encountered in isfinite\n",
      "  if not np.any(np.isfinite(xys)):\n",
      "C:\\Users\\Tavish Aggarwal\\anaconda3\\lib\\site-packages\\matplotlib\\axes\\_base.py:2526: RuntimeWarning: divide by zero encountered in isfinite\n",
      "  if (np.isfinite(d.intervalx).all() and\n",
      "C:\\Users\\Tavish Aggarwal\\anaconda3\\lib\\site-packages\\matplotlib\\axes\\_base.py:2529: RuntimeWarning: divide by zero encountered in isfinite\n",
      "  if (np.isfinite(d.intervaly).all() and\n",
      "C:\\Users\\Tavish Aggarwal\\anaconda3\\lib\\site-packages\\matplotlib\\transforms.py:379: RuntimeWarning: divide by zero encountered in double_scalars\n",
      "  return (x0, y0, x1 - x0, y1 - y0)\n",
      "C:\\Users\\Tavish Aggarwal\\anaconda3\\lib\\site-packages\\matplotlib\\axis.py:2246: RuntimeWarning: divide by zero encountered in double_scalars\n",
      "  length = ((ends[1][0] - ends[0][0]) / self.axes.figure.dpi) * 72\n",
      "C:\\Users\\Tavish Aggarwal\\anaconda3\\lib\\site-packages\\matplotlib\\axis.py:2251: RuntimeWarning: divide by zero encountered in double_scalars\n",
      "  return int(np.floor(length / size))\n",
      "C:\\Users\\Tavish Aggarwal\\anaconda3\\lib\\site-packages\\matplotlib\\axis.py:2251: RuntimeWarning: divide by zero encountered in floor\n",
      "  return int(np.floor(length / size))\n",
      "C:\\Users\\Tavish Aggarwal\\anaconda3\\lib\\site-packages\\numpy\\core\\_methods.py:78: RuntimeWarning: divide by zero encountered in isnan\n",
      "  return um.isnan(a)\n",
      "C:\\Users\\Tavish Aggarwal\\anaconda3\\lib\\site-packages\\numpy\\core\\_methods.py:94: RuntimeWarning: divide by zero encountered in clip\n",
      "  return ufunc(*args, out=out, **kwargs)\n",
      "C:\\Users\\Tavish Aggarwal\\anaconda3\\lib\\site-packages\\matplotlib\\ticker.py:2050: RuntimeWarning: divide by zero encountered in true_divide\n",
      "  scale = 10 ** (math.log10(dv / n) // 1)\n",
      "C:\\Users\\Tavish Aggarwal\\anaconda3\\lib\\site-packages\\matplotlib\\ticker.py:2246: RuntimeWarning: divide by zero encountered in true_divide\n",
      "  raw_step = (_vmax - _vmin) / nbins\n",
      "C:\\Users\\Tavish Aggarwal\\anaconda3\\lib\\site-packages\\matplotlib\\ticker.py:2247: RuntimeWarning: divide by zero encountered in multiply\n",
      "  steps = self._extended_steps * scale\n",
      "C:\\Users\\Tavish Aggarwal\\anaconda3\\lib\\site-packages\\matplotlib\\ticker.py:2253: RuntimeWarning: divide by zero encountered in greater_equal\n",
      "  istep = np.nonzero(steps >= raw_step)[0][0]\n",
      "C:\\Users\\Tavish Aggarwal\\anaconda3\\lib\\site-packages\\matplotlib\\ticker.py:2265: RuntimeWarning: divide by zero encountered in int_scalars\n",
      "  for istep in reversed(range(istep + 1)):\n",
      "C:\\Users\\Tavish Aggarwal\\anaconda3\\lib\\site-packages\\matplotlib\\ticker.py:2271: RuntimeWarning: divide by zero encountered in double_scalars\n",
      "  best_vmin = (_vmin // step) * step\n",
      "C:\\Users\\Tavish Aggarwal\\anaconda3\\lib\\site-packages\\matplotlib\\ticker.py:2278: RuntimeWarning: divide by zero encountered in double_scalars\n",
      "  low = edge.le(_vmin - best_vmin)\n",
      "C:\\Users\\Tavish Aggarwal\\anaconda3\\lib\\site-packages\\matplotlib\\ticker.py:2084: RuntimeWarning: divide by zero encountered in double_scalars\n",
      "  d, m = divmod(x, self.step)\n",
      "C:\\Users\\Tavish Aggarwal\\anaconda3\\lib\\site-packages\\matplotlib\\ticker.py:2085: RuntimeWarning: divide by zero encountered in double_scalars\n",
      "  if self.closeto(m / self.step, 1):\n",
      "C:\\Users\\Tavish Aggarwal\\anaconda3\\lib\\site-packages\\matplotlib\\ticker.py:2080: RuntimeWarning: divide by zero encountered in double_scalars\n",
      "  return abs(ms - edge) < tol\n",
      "C:\\Users\\Tavish Aggarwal\\anaconda3\\lib\\site-packages\\matplotlib\\ticker.py:2279: RuntimeWarning: divide by zero encountered in double_scalars\n",
      "  high = edge.ge(_vmax - best_vmin)\n",
      "C:\\Users\\Tavish Aggarwal\\anaconda3\\lib\\site-packages\\matplotlib\\ticker.py:2091: RuntimeWarning: divide by zero encountered in double_scalars\n",
      "  d, m = divmod(x, self.step)\n",
      "C:\\Users\\Tavish Aggarwal\\anaconda3\\lib\\site-packages\\matplotlib\\ticker.py:2092: RuntimeWarning: divide by zero encountered in double_scalars\n",
      "  if self.closeto(m / self.step, 0):\n",
      "C:\\Users\\Tavish Aggarwal\\anaconda3\\lib\\site-packages\\matplotlib\\ticker.py:2094: RuntimeWarning: divide by zero encountered in double_scalars\n",
      "  return d + 1\n",
      "C:\\Users\\Tavish Aggarwal\\anaconda3\\lib\\site-packages\\matplotlib\\ticker.py:2280: RuntimeWarning: divide by zero encountered in double_scalars\n",
      "  ticks = np.arange(low, high + 1) * step + best_vmin\n",
      "C:\\Users\\Tavish Aggarwal\\anaconda3\\lib\\site-packages\\matplotlib\\ticker.py:2280: RuntimeWarning: divide by zero encountered in multiply\n",
      "  ticks = np.arange(low, high + 1) * step + best_vmin\n",
      "C:\\Users\\Tavish Aggarwal\\anaconda3\\lib\\site-packages\\matplotlib\\ticker.py:2280: RuntimeWarning: divide by zero encountered in add\n",
      "  ticks = np.arange(low, high + 1) * step + best_vmin\n",
      "C:\\Users\\Tavish Aggarwal\\anaconda3\\lib\\site-packages\\matplotlib\\ticker.py:2282: RuntimeWarning: divide by zero encountered in less_equal\n",
      "  nticks = ((ticks <= _vmax) & (ticks >= _vmin)).sum()\n",
      "C:\\Users\\Tavish Aggarwal\\anaconda3\\lib\\site-packages\\matplotlib\\ticker.py:2282: RuntimeWarning: divide by zero encountered in greater_equal\n",
      "  nticks = ((ticks <= _vmax) & (ticks >= _vmin)).sum()\n",
      "C:\\Users\\Tavish Aggarwal\\anaconda3\\lib\\site-packages\\matplotlib\\ticker.py:2282: RuntimeWarning: divide by zero encountered in bitwise_and\n",
      "  nticks = ((ticks <= _vmax) & (ticks >= _vmin)).sum()\n",
      "C:\\Users\\Tavish Aggarwal\\anaconda3\\lib\\site-packages\\numpy\\core\\_methods.py:47: RuntimeWarning: divide by zero encountered in reduce\n",
      "  return umr_sum(a, axis, dtype, out, keepdims, initial, where)\n",
      "C:\\Users\\Tavish Aggarwal\\anaconda3\\lib\\site-packages\\matplotlib\\ticker.py:2285: RuntimeWarning: divide by zero encountered in add\n",
      "  return ticks + offset\n",
      "C:\\Users\\Tavish Aggarwal\\anaconda3\\lib\\site-packages\\matplotlib\\axis.py:2531: RuntimeWarning: divide by zero encountered in double_scalars\n",
      "  length = ((ends[1][1] - ends[0][1]) / self.axes.figure.dpi) * 72\n",
      "C:\\Users\\Tavish Aggarwal\\anaconda3\\lib\\site-packages\\matplotlib\\axis.py:2535: RuntimeWarning: divide by zero encountered in double_scalars\n",
      "  return int(np.floor(length / size))\n",
      "C:\\Users\\Tavish Aggarwal\\anaconda3\\lib\\site-packages\\matplotlib\\axis.py:2535: RuntimeWarning: divide by zero encountered in floor\n",
      "  return int(np.floor(length / size))\n"
     ]
    },
    {
     "data": {
      "text/plain": [
       "<AxesSubplot:xlabel='X', ylabel='Y'>"
      ]
     },
     "execution_count": 26,
     "metadata": {},
     "output_type": "execute_result"
    },
    {
     "name": "stderr",
     "output_type": "stream",
     "text": [
      "C:\\Users\\Tavish Aggarwal\\anaconda3\\lib\\site-packages\\ipykernel\\pylab\\backend_inline.py:195: RuntimeWarning: divide by zero encountered in greater\n",
      "  return rgbaArr[:,:3].dot((.299, .587, .114)) > .5\n",
      "C:\\Users\\Tavish Aggarwal\\anaconda3\\lib\\site-packages\\ipykernel\\pylab\\backend_inline.py:184: RuntimeWarning: divide by zero encountered in equal\n",
      "  if ticksLight.size and (ticksLight == ticksLight[0]).all():\n",
      "C:\\Users\\Tavish Aggarwal\\anaconda3\\lib\\site-packages\\matplotlib\\transforms.py:373: RuntimeWarning: divide by zero encountered in subtract\n",
      "  return points[1] - points[0]\n",
      "C:\\Users\\Tavish Aggarwal\\anaconda3\\lib\\site-packages\\matplotlib\\transforms.py:813: RuntimeWarning: divide by zero encountered in double_scalars\n",
      "  return Bbox.from_extents(x0, y0, x0 + width, y0 + height)\n",
      "C:\\Users\\Tavish Aggarwal\\anaconda3\\lib\\site-packages\\matplotlib\\transforms.py:993: RuntimeWarning: divide by zero encountered in not_equal\n",
      "  if np.any(self._points != other.get_points()):\n",
      "C:\\Users\\Tavish Aggarwal\\anaconda3\\lib\\site-packages\\numpy\\lib\\arraysetops.py:326: RuntimeWarning: divide by zero encountered in not_equal\n",
      "  mask[1:] = aux[1:] != aux[:-1]\n",
      "C:\\Users\\Tavish Aggarwal\\anaconda3\\lib\\site-packages\\numpy\\lib\\arraysetops.py:429: RuntimeWarning: divide by zero encountered in equal\n",
      "  mask = aux[1:] == aux[:-1]\n",
      "C:\\Users\\Tavish Aggarwal\\anaconda3\\lib\\site-packages\\matplotlib\\bezier.py:199: RuntimeWarning: divide by zero encountered in multiply\n",
      "  self._px = (self._cpoints.T * coeff).T\n",
      "C:\\Users\\Tavish Aggarwal\\anaconda3\\lib\\site-packages\\matplotlib\\bezier.py:216: RuntimeWarning: divide by zero encountered in subtract\n",
      "  return (np.power.outer(1 - t, self._orders[::-1])\n",
      "C:\\Users\\Tavish Aggarwal\\anaconda3\\lib\\site-packages\\matplotlib\\bezier.py:216: RuntimeWarning: divide by zero encountered in power\n",
      "  return (np.power.outer(1 - t, self._orders[::-1])\n",
      "C:\\Users\\Tavish Aggarwal\\anaconda3\\lib\\site-packages\\matplotlib\\bezier.py:217: RuntimeWarning: divide by zero encountered in power\n",
      "  * np.power.outer(t, self._orders)) @ self._px\n",
      "C:\\Users\\Tavish Aggarwal\\anaconda3\\lib\\site-packages\\matplotlib\\bezier.py:216: RuntimeWarning: divide by zero encountered in multiply\n",
      "  return (np.power.outer(1 - t, self._orders[::-1])\n",
      "C:\\Users\\Tavish Aggarwal\\anaconda3\\lib\\site-packages\\matplotlib\\bezier.py:216: RuntimeWarning: divide by zero encountered in matmul\n",
      "  return (np.power.outer(1 - t, self._orders[::-1])\n",
      "C:\\Users\\Tavish Aggarwal\\anaconda3\\lib\\site-packages\\matplotlib\\bezier.py:271: RuntimeWarning: divide by zero encountered in add\n",
      "  prefactor = (-1)**(i + j) * _comb(j, i)  # j on axis 0, i on axis 1\n",
      "C:\\Users\\Tavish Aggarwal\\anaconda3\\lib\\site-packages\\matplotlib\\bezier.py:271: RuntimeWarning: divide by zero encountered in power\n",
      "  prefactor = (-1)**(i + j) * _comb(j, i)  # j on axis 0, i on axis 1\n",
      "C:\\Users\\Tavish Aggarwal\\anaconda3\\lib\\site-packages\\numpy\\lib\\function_base.py:2192: RuntimeWarning: divide by zero encountered in ? (vectorized)\n",
      "  outputs = ufunc(*inputs)\n",
      "C:\\Users\\Tavish Aggarwal\\anaconda3\\lib\\site-packages\\matplotlib\\bezier.py:271: RuntimeWarning: divide by zero encountered in multiply\n",
      "  prefactor = (-1)**(i + j) * _comb(j, i)  # j on axis 0, i on axis 1\n",
      "C:\\Users\\Tavish Aggarwal\\anaconda3\\lib\\site-packages\\matplotlib\\bezier.py:272: RuntimeWarning: divide by zero encountered in multiply\n",
      "  return _comb(n, j) * prefactor @ P  # j on axis 0, self.dimension on 1\n",
      "C:\\Users\\Tavish Aggarwal\\anaconda3\\lib\\site-packages\\matplotlib\\bezier.py:272: RuntimeWarning: divide by zero encountered in matmul\n",
      "  return _comb(n, j) * prefactor @ P  # j on axis 0, self.dimension on 1\n",
      "C:\\Users\\Tavish Aggarwal\\anaconda3\\lib\\site-packages\\matplotlib\\bezier.py:294: RuntimeWarning: divide by zero encountered in multiply\n",
      "  dCj = np.arange(1, n+1)[:, None] * Cj[1:]\n",
      "C:\\Users\\Tavish Aggarwal\\anaconda3\\lib\\site-packages\\numpy\\lib\\polynomial.py:229: RuntimeWarning: divide by zero encountered in int_scalars\n",
      "  trailing_zeros = len(p) - non_zero[-1] - 1\n",
      "C:\\Users\\Tavish Aggarwal\\anaconda3\\lib\\site-packages\\numpy\\lib\\polynomial.py:242: RuntimeWarning: divide by zero encountered in negative\n",
      "  A[0,:] = -p[1:] / p[0]\n",
      "C:\\Users\\Tavish Aggarwal\\anaconda3\\lib\\site-packages\\numpy\\lib\\polynomial.py:242: RuntimeWarning: divide by zero encountered in true_divide\n",
      "  A[0,:] = -p[1:] / p[0]\n",
      "C:\\Users\\Tavish Aggarwal\\anaconda3\\lib\\site-packages\\numpy\\linalg\\linalg.py:208: RuntimeWarning: divide by zero encountered in isfinite\n",
      "  if not isfinite(a).all():\n",
      "C:\\Users\\Tavish Aggarwal\\anaconda3\\lib\\site-packages\\numpy\\linalg\\linalg.py:1072: RuntimeWarning: divide by zero encountered in equal\n",
      "  if all(w.imag == 0):\n",
      "C:\\Users\\Tavish Aggarwal\\anaconda3\\lib\\site-packages\\numpy\\lib\\type_check.py:276: RuntimeWarning: divide by zero encountered in equal\n",
      "  return imag(x) == 0\n",
      "C:\\Users\\Tavish Aggarwal\\anaconda3\\lib\\site-packages\\matplotlib\\bezier.py:303: RuntimeWarning: divide by zero encountered in greater_equal\n",
      "  in_range = np.isreal(roots) & (roots >= 0) & (roots <= 1)\n",
      "C:\\Users\\Tavish Aggarwal\\anaconda3\\lib\\site-packages\\matplotlib\\bezier.py:303: RuntimeWarning: divide by zero encountered in bitwise_and\n",
      "  in_range = np.isreal(roots) & (roots >= 0) & (roots <= 1)\n",
      "C:\\Users\\Tavish Aggarwal\\anaconda3\\lib\\site-packages\\matplotlib\\bezier.py:303: RuntimeWarning: divide by zero encountered in less_equal\n",
      "  in_range = np.isreal(roots) & (roots >= 0) & (roots <= 1)\n",
      "C:\\Users\\Tavish Aggarwal\\anaconda3\\lib\\site-packages\\matplotlib\\transforms.py:361: RuntimeWarning: divide by zero encountered in double_scalars\n",
      "  return points[1, 0] - points[0, 0]\n",
      "C:\\Users\\Tavish Aggarwal\\anaconda3\\lib\\site-packages\\matplotlib\\transforms.py:367: RuntimeWarning: divide by zero encountered in double_scalars\n",
      "  return points[1, 1] - points[0, 1]\n",
      "C:\\Users\\Tavish Aggarwal\\anaconda3\\lib\\site-packages\\matplotlib\\ticker.py:802: RuntimeWarning: divide by zero encountered in less_equal\n",
      "  locs = locs[(vmin <= locs) & (locs <= vmax)]\n",
      "C:\\Users\\Tavish Aggarwal\\anaconda3\\lib\\site-packages\\matplotlib\\ticker.py:802: RuntimeWarning: divide by zero encountered in bitwise_and\n",
      "  locs = locs[(vmin <= locs) & (locs <= vmax)]\n",
      "C:\\Users\\Tavish Aggarwal\\anaconda3\\lib\\site-packages\\matplotlib\\ticker.py:820: RuntimeWarning: divide by zero encountered in ceil\n",
      "  oom_max = np.ceil(math.log10(abs_max))\n",
      "C:\\Users\\Tavish Aggarwal\\anaconda3\\lib\\site-packages\\matplotlib\\ticker.py:821: RuntimeWarning: divide by zero encountered in double_scalars\n",
      "  oom = 1 + next(oom for oom in itertools.count(oom_max, -1)\n",
      "C:\\Users\\Tavish Aggarwal\\anaconda3\\lib\\site-packages\\matplotlib\\ticker.py:822: RuntimeWarning: divide by zero encountered in double_scalars\n",
      "  if abs_min // 10 ** oom != abs_max // 10 ** oom)\n",
      "C:\\Users\\Tavish Aggarwal\\anaconda3\\lib\\site-packages\\matplotlib\\ticker.py:823: RuntimeWarning: divide by zero encountered in double_scalars\n",
      "  if (abs_max - abs_min) / 10 ** oom <= 1e-2:\n",
      "C:\\Users\\Tavish Aggarwal\\anaconda3\\lib\\site-packages\\matplotlib\\ticker.py:833: RuntimeWarning: divide by zero encountered in double_scalars\n",
      "  if abs_max // 10 ** oom >= 10**n\n",
      "C:\\Users\\Tavish Aggarwal\\anaconda3\\lib\\site-packages\\matplotlib\\ticker.py:850: RuntimeWarning: divide by zero encountered in less_equal\n",
      "  locs = locs[(vmin <= locs) & (locs <= vmax)]\n",
      "C:\\Users\\Tavish Aggarwal\\anaconda3\\lib\\site-packages\\matplotlib\\ticker.py:850: RuntimeWarning: divide by zero encountered in bitwise_and\n",
      "  locs = locs[(vmin <= locs) & (locs <= vmax)]\n",
      "C:\\Users\\Tavish Aggarwal\\anaconda3\\lib\\site-packages\\matplotlib\\ticker.py:851: RuntimeWarning: divide by zero encountered in absolute\n",
      "  locs = np.abs(locs)\n",
      "C:\\Users\\Tavish Aggarwal\\anaconda3\\lib\\site-packages\\matplotlib\\ticker.py:880: RuntimeWarning: divide by zero encountered in subtract\n",
      "  locs = (np.asarray(_locs) - self.offset) / 10. ** self.orderOfMagnitude\n",
      "C:\\Users\\Tavish Aggarwal\\anaconda3\\lib\\site-packages\\matplotlib\\ticker.py:880: RuntimeWarning: divide by zero encountered in true_divide\n",
      "  locs = (np.asarray(_locs) - self.offset) / 10. ** self.orderOfMagnitude\n",
      "C:\\Users\\Tavish Aggarwal\\anaconda3\\lib\\site-packages\\numpy\\core\\_methods.py:247: RuntimeWarning: divide by zero encountered in reduce\n",
      "  umr_maximum(a, axis, None, out, keepdims),\n",
      "C:\\Users\\Tavish Aggarwal\\anaconda3\\lib\\site-packages\\numpy\\core\\_methods.py:248: RuntimeWarning: divide by zero encountered in reduce\n",
      "  umr_minimum(a, axis, None, None, keepdims),\n",
      "C:\\Users\\Tavish Aggarwal\\anaconda3\\lib\\site-packages\\numpy\\core\\_methods.py:246: RuntimeWarning: divide by zero encountered in subtract\n",
      "  return um.subtract(\n",
      "C:\\Users\\Tavish Aggarwal\\anaconda3\\lib\\site-packages\\numpy\\core\\fromnumeric.py:58: RuntimeWarning: divide by zero encountered in multiply\n",
      "  return bound(*args, **kwds)\n",
      "C:\\Users\\Tavish Aggarwal\\anaconda3\\lib\\site-packages\\numpy\\core\\fromnumeric.py:58: RuntimeWarning: divide by zero encountered in rint\n",
      "  return bound(*args, **kwds)\n",
      "C:\\Users\\Tavish Aggarwal\\anaconda3\\lib\\site-packages\\numpy\\core\\fromnumeric.py:58: RuntimeWarning: divide by zero encountered in true_divide\n",
      "  return bound(*args, **kwds)\n",
      "C:\\Users\\Tavish Aggarwal\\anaconda3\\lib\\site-packages\\matplotlib\\ticker.py:897: RuntimeWarning: divide by zero encountered in subtract\n",
      "  if np.abs(locs - np.round(locs, decimals=sigfigs)).max() < thresh:\n",
      "C:\\Users\\Tavish Aggarwal\\anaconda3\\lib\\site-packages\\matplotlib\\ticker.py:897: RuntimeWarning: divide by zero encountered in absolute\n",
      "  if np.abs(locs - np.round(locs, decimals=sigfigs)).max() < thresh:\n",
      "C:\\Users\\Tavish Aggarwal\\anaconda3\\lib\\site-packages\\matplotlib\\ticker.py:659: RuntimeWarning: divide by zero encountered in double_scalars\n",
      "  xp = (x - self.offset) / (10. ** self.orderOfMagnitude)\n",
      "C:\\Users\\Tavish Aggarwal\\anaconda3\\lib\\site-packages\\matplotlib\\axis.py:1296: RuntimeWarning: divide by zero encountered in double_scalars\n",
      "  tol = (hi - lo) * 1e-5\n",
      "C:\\Users\\Tavish Aggarwal\\anaconda3\\lib\\site-packages\\matplotlib\\transforms.py:2869: RuntimeWarning: divide by zero encountered in double_scalars\n",
      "  rtol = (b - a) * rtol\n",
      "C:\\Users\\Tavish Aggarwal\\anaconda3\\lib\\site-packages\\matplotlib\\transforms.py:2870: RuntimeWarning: divide by zero encountered in double_scalars\n",
      "  return a - rtol <= val <= b + rtol\n",
      "C:\\Users\\Tavish Aggarwal\\anaconda3\\lib\\site-packages\\matplotlib\\transforms.py:2870: RuntimeWarning: divide by zero encountered in less_equal\n",
      "  return a - rtol <= val <= b + rtol\n",
      "C:\\Users\\Tavish Aggarwal\\anaconda3\\lib\\site-packages\\matplotlib\\text.py:360: RuntimeWarning: divide by zero encountered in double_scalars\n",
      "  width = xmax - xmin\n"
     ]
    },
    {
     "name": "stderr",
     "output_type": "stream",
     "text": [
      "C:\\Users\\Tavish Aggarwal\\anaconda3\\lib\\site-packages\\matplotlib\\text.py:361: RuntimeWarning: divide by zero encountered in double_scalars\n",
      "  height = ymax - ymin\n",
      "C:\\Users\\Tavish Aggarwal\\anaconda3\\lib\\site-packages\\matplotlib\\text.py:373: RuntimeWarning: divide by zero encountered in double_scalars\n",
      "  offsetx = (xmin + xmax) / 2\n",
      "C:\\Users\\Tavish Aggarwal\\anaconda3\\lib\\site-packages\\matplotlib\\text.py:413: RuntimeWarning: divide by zero encountered in double_scalars\n",
      "  xmin -= offsetx\n",
      "C:\\Users\\Tavish Aggarwal\\anaconda3\\lib\\site-packages\\matplotlib\\text.py:414: RuntimeWarning: divide by zero encountered in double_scalars\n",
      "  ymin -= offsety\n",
      "C:\\Users\\Tavish Aggarwal\\anaconda3\\lib\\site-packages\\matplotlib\\text.py:419: RuntimeWarning: divide by zero encountered in subtract\n",
      "  xys = M.transform(offset_layout) - (offsetx, offsety)\n",
      "C:\\Users\\Tavish Aggarwal\\anaconda3\\lib\\site-packages\\matplotlib\\transforms.py:2587: RuntimeWarning: divide by zero encountered in double_scalars\n",
      "  x_scale = 1.0 / inw\n",
      "C:\\Users\\Tavish Aggarwal\\anaconda3\\lib\\site-packages\\matplotlib\\transforms.py:2588: RuntimeWarning: divide by zero encountered in double_scalars\n",
      "  y_scale = 1.0 / inh\n",
      "C:\\Users\\Tavish Aggarwal\\anaconda3\\lib\\site-packages\\matplotlib\\transforms.py:2589: RuntimeWarning: divide by zero encountered in double_scalars\n",
      "  self._mtx = np.array([[x_scale, 0.0    , (-inl*x_scale)],\n",
      "C:\\Users\\Tavish Aggarwal\\anaconda3\\lib\\site-packages\\matplotlib\\transforms.py:2590: RuntimeWarning: divide by zero encountered in double_scalars\n",
      "  [0.0    , y_scale, (-inb*y_scale)],\n",
      "C:\\Users\\Tavish Aggarwal\\anaconda3\\lib\\site-packages\\matplotlib\\transforms.py:635: RuntimeWarning: divide by zero encountered in add\n",
      "  return Bbox(self._points + (tx, ty))\n",
      "C:\\Users\\Tavish Aggarwal\\anaconda3\\lib\\site-packages\\matplotlib\\text.py:689: RuntimeWarning: divide by zero encountered in isfinite\n",
      "  if not np.isfinite(posx) or not np.isfinite(posy):\n",
      "C:\\Users\\Tavish Aggarwal\\anaconda3\\lib\\site-packages\\matplotlib\\text.py:709: RuntimeWarning: divide by zero encountered in double_scalars\n",
      "  x = x + posx\n",
      "C:\\Users\\Tavish Aggarwal\\anaconda3\\lib\\site-packages\\matplotlib\\text.py:710: RuntimeWarning: divide by zero encountered in double_scalars\n",
      "  y = y + posy\n",
      "C:\\Users\\Tavish Aggarwal\\anaconda3\\lib\\site-packages\\matplotlib\\text.py:712: RuntimeWarning: divide by zero encountered in double_scalars\n",
      "  y = canvash - y\n",
      "C:\\Users\\Tavish Aggarwal\\anaconda3\\lib\\site-packages\\matplotlib\\axis.py:2076: RuntimeWarning: divide by zero encountered in double_scalars\n",
      "  (x, bottom - self.labelpad * self.figure.dpi / 72)\n",
      "C:\\Users\\Tavish Aggarwal\\anaconda3\\lib\\site-packages\\matplotlib\\axis.py:2108: RuntimeWarning: divide by zero encountered in double_scalars\n",
      "  y = bottom - self.OFFSETTEXTPAD * self.figure.dpi / 72\n",
      "C:\\Users\\Tavish Aggarwal\\anaconda3\\lib\\site-packages\\matplotlib\\text.py:386: RuntimeWarning: divide by zero encountered in double_scalars\n",
      "  offsety = ymin + height - baseline / 2.0\n",
      "C:\\Users\\Tavish Aggarwal\\anaconda3\\lib\\site-packages\\matplotlib\\axis.py:2367: RuntimeWarning: divide by zero encountered in double_scalars\n",
      "  (left - self.labelpad * self.figure.dpi / 72, y)\n",
      "C:\\Users\\Tavish Aggarwal\\anaconda3\\lib\\site-packages\\matplotlib\\text.py:394: RuntimeWarning: divide by zero encountered in double_scalars\n",
      "  offsetx = (xmin1 + xmax1) / 2.0\n",
      "C:\\Users\\Tavish Aggarwal\\anaconda3\\lib\\site-packages\\matplotlib\\axis.py:2393: RuntimeWarning: divide by zero encountered in double_scalars\n",
      "  (x, top + self.OFFSETTEXTPAD * self.figure.dpi / 72)\n",
      "C:\\Users\\Tavish Aggarwal\\anaconda3\\lib\\site-packages\\matplotlib\\transforms.py:678: RuntimeWarning: divide by zero encountered in maximum\n",
      "  x0 = np.maximum(bbox1.xmin, bbox2.xmin)\n",
      "C:\\Users\\Tavish Aggarwal\\anaconda3\\lib\\site-packages\\matplotlib\\transforms.py:679: RuntimeWarning: divide by zero encountered in minimum\n",
      "  x1 = np.minimum(bbox1.xmax, bbox2.xmax)\n",
      "C:\\Users\\Tavish Aggarwal\\anaconda3\\lib\\site-packages\\matplotlib\\transforms.py:680: RuntimeWarning: divide by zero encountered in maximum\n",
      "  y0 = np.maximum(bbox1.ymin, bbox2.ymin)\n",
      "C:\\Users\\Tavish Aggarwal\\anaconda3\\lib\\site-packages\\matplotlib\\transforms.py:681: RuntimeWarning: divide by zero encountered in minimum\n",
      "  y1 = np.minimum(bbox1.ymax, bbox2.ymax)\n",
      "C:\\Users\\Tavish Aggarwal\\anaconda3\\lib\\site-packages\\matplotlib\\axes\\_base.py:4196: RuntimeWarning: divide by zero encountered in equal\n",
      "  if np.all(clip_extent.extents == axbbox.extents):\n",
      "C:\\Users\\Tavish Aggarwal\\anaconda3\\lib\\site-packages\\matplotlib\\spines.py:195: RuntimeWarning: divide by zero encountered in double_scalars\n",
      "  bb0.x0 = bb0.x0 - padout\n",
      "C:\\Users\\Tavish Aggarwal\\anaconda3\\lib\\site-packages\\matplotlib\\spines.py:196: RuntimeWarning: divide by zero encountered in double_scalars\n",
      "  bb0.x1 = bb0.x1 + padin\n",
      "C:\\Users\\Tavish Aggarwal\\anaconda3\\lib\\site-packages\\matplotlib\\spines.py:198: RuntimeWarning: divide by zero encountered in double_scalars\n",
      "  bb0.y0 = bb0.y0 - padout\n",
      "C:\\Users\\Tavish Aggarwal\\anaconda3\\lib\\site-packages\\matplotlib\\spines.py:199: RuntimeWarning: divide by zero encountered in double_scalars\n",
      "  bb0.y1 = bb0.y1 + padin\n",
      "C:\\Users\\Tavish Aggarwal\\anaconda3\\lib\\site-packages\\matplotlib\\path.py:594: RuntimeWarning: divide by zero encountered in not_equal\n",
      "  xys = self.vertices[self.codes != Path.CLOSEPOLY]\n",
      "C:\\Users\\Tavish Aggarwal\\anaconda3\\lib\\site-packages\\matplotlib\\figure.py:2521: RuntimeWarning: divide by zero encountered in isfinite\n",
      "  if (np.isfinite(b.width) and np.isfinite(b.height)\n",
      "C:\\Users\\Tavish Aggarwal\\anaconda3\\lib\\site-packages\\matplotlib\\transforms.py:631: RuntimeWarning: divide by zero encountered in add\n",
      "  return Bbox(points + [[-p, -p], [p, p]])\n",
      "C:\\Users\\Tavish Aggarwal\\anaconda3\\lib\\site-packages\\matplotlib\\tight_bbox.py:65: RuntimeWarning: divide by zero encountered in double_scalars\n",
      "  w1, h1 = fig.bbox.width * dpi_scale, fig.bbox.height * dpi_scale\n",
      "C:\\Users\\Tavish Aggarwal\\anaconda3\\lib\\site-packages\\matplotlib\\tight_bbox.py:71: RuntimeWarning: divide by zero encountered in double_scalars\n",
      "  fig.patch.set_bounds(x0 / w1, y0 / h1,\n",
      "C:\\Users\\Tavish Aggarwal\\anaconda3\\lib\\site-packages\\matplotlib\\tight_bbox.py:72: RuntimeWarning: divide by zero encountered in double_scalars\n",
      "  fig.bbox.width / w1, fig.bbox.height / h1)\n",
      "C:\\Users\\Tavish Aggarwal\\anaconda3\\lib\\site-packages\\matplotlib\\patches.py:778: RuntimeWarning: divide by zero encountered in double_scalars\n",
      "  self._x1 = self._x0 + self._width\n",
      "C:\\Users\\Tavish Aggarwal\\anaconda3\\lib\\site-packages\\matplotlib\\patches.py:781: RuntimeWarning: divide by zero encountered in double_scalars\n",
      "  self._y1 = self._y0 + self._height\n",
      "C:\\Users\\Tavish Aggarwal\\anaconda3\\lib\\site-packages\\matplotlib\\backends\\backend_agg.py:211: RuntimeWarning: divide by zero encountered in double_scalars\n",
      "  x = round(x + xo + xd)\n",
      "C:\\Users\\Tavish Aggarwal\\anaconda3\\lib\\site-packages\\matplotlib\\backends\\backend_agg.py:211: RuntimeWarning: divide by zero encountered in rint\n",
      "  x = round(x + xo + xd)\n",
      "C:\\Users\\Tavish Aggarwal\\anaconda3\\lib\\site-packages\\matplotlib\\backends\\backend_agg.py:212: RuntimeWarning: divide by zero encountered in double_scalars\n",
      "  y = round(y + yo + yd)\n",
      "C:\\Users\\Tavish Aggarwal\\anaconda3\\lib\\site-packages\\matplotlib\\backends\\backend_agg.py:212: RuntimeWarning: divide by zero encountered in rint\n",
      "  y = round(y + yo + yd)\n"
     ]
    },
    {
     "data": {
      "image/png": "[encoded data removed]",
      "text/plain": [
       "<Figure size 432x288 with 1 Axes>"
      ]
     },
     "metadata": {
      "needs_background": "light"
     },
     "output_type": "display_data"
    }
   ],
   "source": [
    "#Let's plot the scatterplot again.\n",
    "sns.scatterplot(x='X',y='Y',data =D)"
   ]
  },
  {
   "cell_type": "markdown",
   "metadata": {},
   "source": [
    "Now you can see that all the data points are aligned along the new X axis and have no values on the new Y axis. This is essentially what you achieve by doing basis transformation."
   ]
  },
  {
   "cell_type": "markdown",
   "metadata": {},
   "source": [
    "## Eigenvalues and Eigenvectors"
   ]
  },
  {
   "cell_type": "code",
   "execution_count": 27,
   "metadata": {},
   "outputs": [
    {
     "name": "stdout",
     "output_type": "stream",
     "text": [
      "Eigenvalues [3. 1.]\n",
      "Eigenvectors [[ 0.70710678 -0.70710678]\n",
      " [ 0.70710678  0.70710678]]\n",
      "Av [2.12132034 2.12132034]\n",
      "λv [2.12132034 2.12132034]\n"
     ]
    },
    {
     "name": "stderr",
     "output_type": "stream",
     "text": [
      "C:\\Users\\Tavish Aggarwal\\anaconda3\\lib\\site-packages\\numpy\\linalg\\linalg.py:1326: RuntimeWarning: divide by zero encountered in equal\n",
      "  if not isComplexType(t) and all(w.imag == 0.0):\n",
      "C:\\Users\\Tavish Aggarwal\\anaconda3\\lib\\site-packages\\numpy\\core\\arrayprint.py:865: RuntimeWarning: divide by zero encountered in isfinite\n",
      "  finite_vals = data[isfinite(data)]\n",
      "C:\\Users\\Tavish Aggarwal\\anaconda3\\lib\\site-packages\\numpy\\core\\arrayprint.py:868: RuntimeWarning: divide by zero encountered in not_equal\n",
      "  abs_non_zero = absolute(finite_vals[finite_vals != 0])\n",
      "C:\\Users\\Tavish Aggarwal\\anaconda3\\lib\\site-packages\\numpy\\core\\arrayprint.py:868: RuntimeWarning: divide by zero encountered in absolute\n",
      "  abs_non_zero = absolute(finite_vals[finite_vals != 0])\n",
      "C:\\Users\\Tavish Aggarwal\\anaconda3\\lib\\site-packages\\numpy\\core\\arrayprint.py:874: RuntimeWarning: divide by zero encountered in double_scalars\n",
      "  (min_val < 0.0001 or max_val/min_val > 1000.)):\n",
      "C:\\Users\\Tavish Aggarwal\\anaconda3\\lib\\site-packages\\numpy\\core\\arrayprint.py:948: RuntimeWarning: divide by zero encountered in isfinite\n",
      "  if not np.isfinite(x):\n",
      "<ipython-input-27-71097172f88f>:13: RuntimeWarning: divide by zero encountered in matmul\n",
      "  print('Av',A @ (K[1].T)[0])\n",
      "<ipython-input-27-71097172f88f>:16: RuntimeWarning: divide by zero encountered in multiply\n",
      "  print('λv',3*(K[1].T)[0])\n"
     ]
    }
   ],
   "source": [
    "A = np.array([[2,1],[1,2]])\n",
    "\n",
    "K = np.linalg.eig(A)\n",
    "\n",
    "#Eigenvalues\n",
    "print('Eigenvalues', K[0])\n",
    "\n",
    "#Eigenvectors\n",
    "print('Eigenvectors', K[1])\n",
    "\n",
    "# Verify the results\n",
    "# Let's verify them once again. First, let's calculate Av\n",
    "print('Av',A @ (K[1].T)[0])\n",
    "\n",
    "#Now let's calculate λv.\n",
    "print('λv',3*(K[1].T)[0])\n",
    "\n",
    "# Output:\n",
    "# As you can see Av = λv has been verified."
   ]
  },
  {
   "cell_type": "markdown",
   "metadata": {},
   "source": [
    "## Intresenting Calculation"
   ]
  },
  {
   "cell_type": "code",
   "execution_count": 28,
   "metadata": {},
   "outputs": [
    {
     "name": "stderr",
     "output_type": "stream",
     "text": [
      "<ipython-input-28-ebfc5ff3c4c6>:11: RuntimeWarning: divide by zero encountered in matmul\n",
      "  Q @ S @ P\n"
     ]
    },
    {
     "data": {
      "text/plain": [
       "array([[2., 1.],\n",
       "       [1., 2.]])"
      ]
     },
     "execution_count": 28,
     "metadata": {},
     "output_type": "execute_result"
    }
   ],
   "source": [
    "# Arrange the eigenvalues along the diagonal of a square matrix.\n",
    "S = np.array([[3,0], [0,1]])\n",
    "\n",
    "# Take eigenvector\n",
    "Q=K[1]\n",
    "\n",
    "# take the inverse of eigenvector\n",
    "P = np.linalg.inv(Q)\n",
    "\n",
    "# The product of the three matrices obtained in the following order.\n",
    "Q @ S @ P"
   ]
  },
  {
   "cell_type": "markdown",
   "metadata": {},
   "source": [
    "From eigenvectors and eigenvalue we can obtain the original matrix from where we have started.​"
   ]
  },
  {
   "cell_type": "markdown",
   "metadata": {},
   "source": [
    "## PCA Properties"
   ]
  },
  {
   "cell_type": "code",
   "execution_count": 29,
   "metadata": {},
   "outputs": [
    {
     "name": "stderr",
     "output_type": "stream",
     "text": [
      "C:\\Users\\Tavish Aggarwal\\anaconda3\\lib\\site-packages\\numpy\\core\\_methods.py:54: RuntimeWarning: divide by zero encountered in reduce\n",
      "  return umr_any(a, axis, dtype, out, keepdims)\n",
      "C:\\Users\\Tavish Aggarwal\\anaconda3\\lib\\site-packages\\pandas\\core\\internals\\managers.py:246: RuntimeWarning: divide by zero encountered in equal\n",
      "  if (new_blknos == -1).any():\n",
      "C:\\Users\\Tavish Aggarwal\\anaconda3\\lib\\site-packages\\numpy\\core\\_methods.py:39: RuntimeWarning: divide by zero encountered in reduce\n",
      "  return umr_maximum(a, axis, None, out, keepdims, initial, where)\n",
      "C:\\Users\\Tavish Aggarwal\\anaconda3\\lib\\site-packages\\pandas\\io\\formats\\string.py:116: RuntimeWarning: divide by zero encountered in long_scalars\n",
      "  lwidth -= np.array([self.adj.len(x) for x in idx]).max() + adjoin_width\n",
      "C:\\Users\\Tavish Aggarwal\\anaconda3\\lib\\site-packages\\pandas\\io\\formats\\string.py:190: RuntimeWarning: divide by zero encountered in long_scalars\n",
      "  w_adjoined = w + adjoin_width\n",
      "C:\\Users\\Tavish Aggarwal\\anaconda3\\lib\\site-packages\\pandas\\io\\formats\\string.py:191: RuntimeWarning: divide by zero encountered in long_scalars\n",
      "  curr_width += w_adjoined\n",
      "C:\\Users\\Tavish Aggarwal\\anaconda3\\lib\\site-packages\\pandas\\io\\formats\\string.py:195: RuntimeWarning: divide by zero encountered in long_scalars\n",
      "  wrap = curr_width + 2 > line_width and i > 0\n",
      "C:\\Users\\Tavish Aggarwal\\anaconda3\\lib\\site-packages\\pandas\\io\\formats\\string.py:193: RuntimeWarning: divide by zero encountered in long_scalars\n",
      "  wrap = curr_width + 1 > line_width and i > 0\n",
      "C:\\Users\\Tavish Aggarwal\\anaconda3\\lib\\site-packages\\numpy\\core\\_methods.py:54: RuntimeWarning: divide by zero encountered in reduce\n",
      "  return umr_any(a, axis, dtype, out, keepdims)\n"
     ]
    },
    {
     "data": {
      "text/html": [
       "<div>\n",
       "<style scoped>\n",
       "    .dataframe tbody tr th:only-of-type {\n",
       "        vertical-align: middle;\n",
       "    }\n",
       "\n",
       "    .dataframe tbody tr th {\n",
       "        vertical-align: top;\n",
       "    }\n",
       "\n",
       "    .dataframe thead th {\n",
       "        text-align: right;\n",
       "    }\n",
       "</style>\n",
       "<table border=\"1\" class=\"dataframe\">\n",
       "  <thead>\n",
       "    <tr style=\"text-align: right;\">\n",
       "      <th></th>\n",
       "      <th>X</th>\n",
       "      <th>Y</th>\n",
       "      <th>Z</th>\n",
       "    </tr>\n",
       "  </thead>\n",
       "  <tbody>\n",
       "    <tr>\n",
       "      <th>0</th>\n",
       "      <td>0</td>\n",
       "      <td>0</td>\n",
       "      <td>0</td>\n",
       "    </tr>\n",
       "    <tr>\n",
       "      <th>1</th>\n",
       "      <td>1</td>\n",
       "      <td>2</td>\n",
       "      <td>3</td>\n",
       "    </tr>\n",
       "    <tr>\n",
       "      <th>2</th>\n",
       "      <td>2</td>\n",
       "      <td>4</td>\n",
       "      <td>5</td>\n",
       "    </tr>\n",
       "    <tr>\n",
       "      <th>3</th>\n",
       "      <td>3</td>\n",
       "      <td>6</td>\n",
       "      <td>2</td>\n",
       "    </tr>\n",
       "    <tr>\n",
       "      <th>4</th>\n",
       "      <td>4</td>\n",
       "      <td>8</td>\n",
       "      <td>3</td>\n",
       "    </tr>\n",
       "    <tr>\n",
       "      <th>5</th>\n",
       "      <td>5</td>\n",
       "      <td>10</td>\n",
       "      <td>1</td>\n",
       "    </tr>\n",
       "  </tbody>\n",
       "</table>\n",
       "</div>"
      ],
      "text/plain": [
       "   X   Y  Z\n",
       "0  0   0  0\n",
       "1  1   2  3\n",
       "2  2   4  5\n",
       "3  3   6  2\n",
       "4  4   8  3\n",
       "5  5  10  1"
      ]
     },
     "execution_count": 29,
     "metadata": {},
     "output_type": "execute_result"
    }
   ],
   "source": [
    "#Let's now take the following dataframe\n",
    "a = [[0,0,0],[1,2,3],[2,4,5],[3,6,2],[4,8,3],[5,10,1]]\n",
    "b = ['X','Y','Z']\n",
    "dat = pd.DataFrame(a,columns = b)\n",
    "dat"
   ]
  },
  {
   "cell_type": "markdown",
   "metadata": {},
   "source": [
    "### PCA Properties\n",
    "- They're weighted linear combinations of the original variables.\n",
    "- They're perpendicular to each other.\n",
    "- They capture maximum variance of the data and are ordered."
   ]
  },
  {
   "cell_type": "code",
   "execution_count": 40,
   "metadata": {},
   "outputs": [
    {
     "name": "stderr",
     "output_type": "stream",
     "text": [
      "C:\\Users\\Tavish Aggarwal\\anaconda3\\lib\\site-packages\\pandas\\core\\internals\\managers.py:246: RuntimeWarning: divide by zero encountered in equal\n",
      "  if (new_blknos == -1).any():\n",
      "C:\\Users\\Tavish Aggarwal\\anaconda3\\lib\\site-packages\\pandas\\core\\internals\\managers.py:246: RuntimeWarning: invalid value encountered in equal\n",
      "  if (new_blknos == -1).any():\n",
      "C:\\Users\\Tavish Aggarwal\\anaconda3\\lib\\site-packages\\numpy\\core\\_methods.py:54: RuntimeWarning: divide by zero encountered in reduce\n",
      "  return umr_any(a, axis, dtype, out, keepdims)\n",
      "C:\\Users\\Tavish Aggarwal\\anaconda3\\lib\\site-packages\\numpy\\core\\_methods.py:54: RuntimeWarning: invalid value encountered in reduce\n",
      "  return umr_any(a, axis, dtype, out, keepdims)\n",
      "C:\\Users\\Tavish Aggarwal\\anaconda3\\lib\\site-packages\\numpy\\core\\fromnumeric.py:87: RuntimeWarning: divide by zero encountered in reduce\n",
      "  return ufunc.reduce(obj, axis, dtype, out, **passkwargs)\n",
      "C:\\Users\\Tavish Aggarwal\\anaconda3\\lib\\site-packages\\numpy\\core\\fromnumeric.py:87: RuntimeWarning: invalid value encountered in reduce\n",
      "  return ufunc.reduce(obj, axis, dtype, out, **passkwargs)\n",
      "C:\\Users\\Tavish Aggarwal\\anaconda3\\lib\\site-packages\\sklearn\\utils\\validation.py:90: RuntimeWarning: divide by zero encountered in isfinite\n",
      "  if is_float and (np.isfinite(_safe_accumulator_op(np.sum, X))):\n",
      "C:\\Users\\Tavish Aggarwal\\anaconda3\\lib\\site-packages\\sklearn\\utils\\validation.py:90: RuntimeWarning: invalid value encountered in isfinite\n",
      "  if is_float and (np.isfinite(_safe_accumulator_op(np.sum, X))):\n",
      "C:\\Users\\Tavish Aggarwal\\anaconda3\\lib\\site-packages\\sklearn\\utils\\extmath.py:764: RuntimeWarning: divide by zero encountered in multiply\n",
      "  last_sum = last_mean * last_sample_count\n",
      "C:\\Users\\Tavish Aggarwal\\anaconda3\\lib\\site-packages\\sklearn\\utils\\extmath.py:764: RuntimeWarning: invalid value encountered in multiply\n",
      "  last_sum = last_mean * last_sample_count\n",
      "C:\\Users\\Tavish Aggarwal\\anaconda3\\lib\\site-packages\\numpy\\lib\\nanfunctions.py:102: RuntimeWarning: divide by zero encountered in isnan\n",
      "  mask = np.isnan(a)\n",
      "C:\\Users\\Tavish Aggarwal\\anaconda3\\lib\\site-packages\\numpy\\lib\\nanfunctions.py:102: RuntimeWarning: invalid value encountered in isnan\n",
      "  mask = np.isnan(a)\n",
      "C:\\Users\\Tavish Aggarwal\\anaconda3\\lib\\site-packages\\sklearn\\utils\\extmath.py:767: RuntimeWarning: divide by zero encountered in isnan\n",
      "  new_sample_count = np.sum(~np.isnan(X), axis=0)\n",
      "C:\\Users\\Tavish Aggarwal\\anaconda3\\lib\\site-packages\\sklearn\\utils\\extmath.py:767: RuntimeWarning: invalid value encountered in isnan\n",
      "  new_sample_count = np.sum(~np.isnan(X), axis=0)\n",
      "C:\\Users\\Tavish Aggarwal\\anaconda3\\lib\\site-packages\\sklearn\\utils\\extmath.py:767: RuntimeWarning: divide by zero encountered in invert\n",
      "  new_sample_count = np.sum(~np.isnan(X), axis=0)\n",
      "C:\\Users\\Tavish Aggarwal\\anaconda3\\lib\\site-packages\\sklearn\\utils\\extmath.py:767: RuntimeWarning: invalid value encountered in invert\n",
      "  new_sample_count = np.sum(~np.isnan(X), axis=0)\n",
      "C:\\Users\\Tavish Aggarwal\\anaconda3\\lib\\site-packages\\sklearn\\utils\\extmath.py:768: RuntimeWarning: divide by zero encountered in add\n",
      "  updated_sample_count = last_sample_count + new_sample_count\n",
      "C:\\Users\\Tavish Aggarwal\\anaconda3\\lib\\site-packages\\sklearn\\utils\\extmath.py:768: RuntimeWarning: invalid value encountered in add\n",
      "  updated_sample_count = last_sample_count + new_sample_count\n",
      "C:\\Users\\Tavish Aggarwal\\anaconda3\\lib\\site-packages\\sklearn\\utils\\extmath.py:770: RuntimeWarning: divide by zero encountered in add\n",
      "  updated_mean = (last_sum + new_sum) / updated_sample_count\n",
      "C:\\Users\\Tavish Aggarwal\\anaconda3\\lib\\site-packages\\sklearn\\utils\\extmath.py:770: RuntimeWarning: invalid value encountered in add\n",
      "  updated_mean = (last_sum + new_sum) / updated_sample_count\n",
      "C:\\Users\\Tavish Aggarwal\\anaconda3\\lib\\site-packages\\sklearn\\utils\\extmath.py:770: RuntimeWarning: divide by zero encountered in true_divide\n",
      "  updated_mean = (last_sum + new_sum) / updated_sample_count\n",
      "C:\\Users\\Tavish Aggarwal\\anaconda3\\lib\\site-packages\\sklearn\\utils\\extmath.py:770: RuntimeWarning: invalid value encountered in true_divide\n",
      "  updated_mean = (last_sum + new_sum) / updated_sample_count\n",
      "C:\\Users\\Tavish Aggarwal\\anaconda3\\lib\\site-packages\\numpy\\lib\\nanfunctions.py:1534: RuntimeWarning: divide by zero encountered in invert\n",
      "  cnt = np.sum(~mask, axis=axis, dtype=np.intp, keepdims=_keepdims)\n",
      "C:\\Users\\Tavish Aggarwal\\anaconda3\\lib\\site-packages\\numpy\\lib\\nanfunctions.py:1534: RuntimeWarning: invalid value encountered in invert\n",
      "  cnt = np.sum(~mask, axis=axis, dtype=np.intp, keepdims=_keepdims)\n",
      "C:\\Users\\Tavish Aggarwal\\anaconda3\\lib\\site-packages\\numpy\\lib\\nanfunctions.py:1539: RuntimeWarning: divide by zero encountered in subtract\n",
      "  np.subtract(arr, avg, out=arr, casting='unsafe')\n",
      "C:\\Users\\Tavish Aggarwal\\anaconda3\\lib\\site-packages\\numpy\\lib\\nanfunctions.py:1539: RuntimeWarning: invalid value encountered in subtract\n",
      "  np.subtract(arr, avg, out=arr, casting='unsafe')\n",
      "C:\\Users\\Tavish Aggarwal\\anaconda3\\lib\\site-packages\\numpy\\lib\\nanfunctions.py:1544: RuntimeWarning: divide by zero encountered in multiply\n",
      "  sqr = np.multiply(arr, arr, out=arr)\n",
      "C:\\Users\\Tavish Aggarwal\\anaconda3\\lib\\site-packages\\numpy\\lib\\nanfunctions.py:1544: RuntimeWarning: invalid value encountered in multiply\n",
      "  sqr = np.multiply(arr, arr, out=arr)\n",
      "C:\\Users\\Tavish Aggarwal\\anaconda3\\lib\\site-packages\\numpy\\lib\\nanfunctions.py:1551: RuntimeWarning: divide by zero encountered in subtract\n",
      "  dof = cnt - ddof\n",
      "C:\\Users\\Tavish Aggarwal\\anaconda3\\lib\\site-packages\\numpy\\lib\\nanfunctions.py:1551: RuntimeWarning: invalid value encountered in subtract\n",
      "  dof = cnt - ddof\n",
      "C:\\Users\\Tavish Aggarwal\\anaconda3\\lib\\site-packages\\numpy\\lib\\nanfunctions.py:1554: RuntimeWarning: divide by zero encountered in less_equal\n",
      "  isbad = (dof <= 0)\n",
      "C:\\Users\\Tavish Aggarwal\\anaconda3\\lib\\site-packages\\numpy\\lib\\nanfunctions.py:1554: RuntimeWarning: invalid value encountered in less_equal\n",
      "  isbad = (dof <= 0)\n",
      "C:\\Users\\Tavish Aggarwal\\anaconda3\\lib\\site-packages\\sklearn\\utils\\extmath.py:776: RuntimeWarning: divide by zero encountered in multiply\n",
      "  _safe_accumulator_op(np.nanvar, X, axis=0) * new_sample_count)\n",
      "C:\\Users\\Tavish Aggarwal\\anaconda3\\lib\\site-packages\\sklearn\\utils\\extmath.py:776: RuntimeWarning: invalid value encountered in multiply\n",
      "  _safe_accumulator_op(np.nanvar, X, axis=0) * new_sample_count)\n",
      "C:\\Users\\Tavish Aggarwal\\anaconda3\\lib\\site-packages\\sklearn\\utils\\extmath.py:777: RuntimeWarning: divide by zero encountered in multiply\n",
      "  last_unnormalized_variance = last_variance * last_sample_count\n",
      "C:\\Users\\Tavish Aggarwal\\anaconda3\\lib\\site-packages\\sklearn\\utils\\extmath.py:777: RuntimeWarning: invalid value encountered in multiply\n",
      "  last_unnormalized_variance = last_variance * last_sample_count\n",
      "C:\\Users\\Tavish Aggarwal\\anaconda3\\lib\\site-packages\\sklearn\\utils\\extmath.py:786: RuntimeWarning: divide by zero encountered in equal\n",
      "  zeros = last_sample_count == 0\n",
      "C:\\Users\\Tavish Aggarwal\\anaconda3\\lib\\site-packages\\sklearn\\utils\\extmath.py:786: RuntimeWarning: invalid value encountered in equal\n",
      "  zeros = last_sample_count == 0\n",
      "C:\\Users\\Tavish Aggarwal\\anaconda3\\lib\\site-packages\\sklearn\\utils\\extmath.py:788: RuntimeWarning: divide by zero encountered in true_divide\n",
      "  updated_variance = updated_unnormalized_variance / updated_sample_count\n",
      "C:\\Users\\Tavish Aggarwal\\anaconda3\\lib\\site-packages\\sklearn\\utils\\extmath.py:788: RuntimeWarning: invalid value encountered in true_divide\n",
      "  updated_variance = updated_unnormalized_variance / updated_sample_count\n",
      "C:\\Users\\Tavish Aggarwal\\anaconda3\\lib\\site-packages\\sklearn\\decomposition\\_incremental_pca.py:287: RuntimeWarning: divide by zero encountered in subtract\n",
      "  X -= col_mean\n",
      "C:\\Users\\Tavish Aggarwal\\anaconda3\\lib\\site-packages\\sklearn\\decomposition\\_incremental_pca.py:287: RuntimeWarning: invalid value encountered in subtract\n",
      "  X -= col_mean\n",
      "C:\\Users\\Tavish Aggarwal\\anaconda3\\lib\\site-packages\\numpy\\lib\\function_base.py:484: RuntimeWarning: divide by zero encountered in isfinite\n",
      "  if a.dtype.char in typecodes['AllFloat'] and not np.isfinite(a).all():\n",
      "C:\\Users\\Tavish Aggarwal\\anaconda3\\lib\\site-packages\\numpy\\lib\\function_base.py:484: RuntimeWarning: invalid value encountered in isfinite\n",
      "  if a.dtype.char in typecodes['AllFloat'] and not np.isfinite(a).all():\n",
      "C:\\Users\\Tavish Aggarwal\\anaconda3\\lib\\site-packages\\numpy\\core\\_methods.py:57: RuntimeWarning: divide by zero encountered in reduce\n",
      "  return umr_all(a, axis, dtype, out, keepdims)\n",
      "C:\\Users\\Tavish Aggarwal\\anaconda3\\lib\\site-packages\\numpy\\core\\_methods.py:57: RuntimeWarning: invalid value encountered in reduce\n",
      "  return umr_all(a, axis, dtype, out, keepdims)\n",
      "C:\\Users\\Tavish Aggarwal\\anaconda3\\lib\\site-packages\\sklearn\\utils\\extmath.py:538: RuntimeWarning: divide by zero encountered in absolute\n",
      "  max_abs_rows = np.argmax(np.abs(v), axis=1)\n",
      "C:\\Users\\Tavish Aggarwal\\anaconda3\\lib\\site-packages\\sklearn\\utils\\extmath.py:538: RuntimeWarning: invalid value encountered in absolute\n",
      "  max_abs_rows = np.argmax(np.abs(v), axis=1)\n",
      "C:\\Users\\Tavish Aggarwal\\anaconda3\\lib\\site-packages\\sklearn\\utils\\extmath.py:539: RuntimeWarning: divide by zero encountered in sign\n",
      "  signs = np.sign(v[range(v.shape[0]), max_abs_rows])\n",
      "C:\\Users\\Tavish Aggarwal\\anaconda3\\lib\\site-packages\\sklearn\\utils\\extmath.py:539: RuntimeWarning: invalid value encountered in sign\n",
      "  signs = np.sign(v[range(v.shape[0]), max_abs_rows])\n",
      "C:\\Users\\Tavish Aggarwal\\anaconda3\\lib\\site-packages\\sklearn\\utils\\extmath.py:540: RuntimeWarning: divide by zero encountered in multiply\n",
      "  u *= signs\n",
      "C:\\Users\\Tavish Aggarwal\\anaconda3\\lib\\site-packages\\sklearn\\utils\\extmath.py:540: RuntimeWarning: invalid value encountered in multiply\n",
      "  u *= signs\n",
      "C:\\Users\\Tavish Aggarwal\\anaconda3\\lib\\site-packages\\sklearn\\utils\\extmath.py:541: RuntimeWarning: divide by zero encountered in multiply\n",
      "  v *= signs[:, np.newaxis]\n",
      "C:\\Users\\Tavish Aggarwal\\anaconda3\\lib\\site-packages\\sklearn\\utils\\extmath.py:541: RuntimeWarning: invalid value encountered in multiply\n",
      "  v *= signs[:, np.newaxis]\n",
      "C:\\Users\\Tavish Aggarwal\\anaconda3\\lib\\site-packages\\sklearn\\decomposition\\_incremental_pca.py:300: RuntimeWarning: divide by zero encountered in square\n",
      "  explained_variance = S ** 2 / (n_total_samples - 1)\n",
      "C:\\Users\\Tavish Aggarwal\\anaconda3\\lib\\site-packages\\sklearn\\decomposition\\_incremental_pca.py:300: RuntimeWarning: invalid value encountered in square\n",
      "  explained_variance = S ** 2 / (n_total_samples - 1)\n",
      "C:\\Users\\Tavish Aggarwal\\anaconda3\\lib\\site-packages\\sklearn\\decomposition\\_incremental_pca.py:300: RuntimeWarning: divide by zero encountered in long_scalars\n",
      "  explained_variance = S ** 2 / (n_total_samples - 1)\n",
      "C:\\Users\\Tavish Aggarwal\\anaconda3\\lib\\site-packages\\sklearn\\decomposition\\_incremental_pca.py:300: RuntimeWarning: invalid value encountered in long_scalars\n",
      "  explained_variance = S ** 2 / (n_total_samples - 1)\n",
      "C:\\Users\\Tavish Aggarwal\\anaconda3\\lib\\site-packages\\sklearn\\decomposition\\_incremental_pca.py:300: RuntimeWarning: divide by zero encountered in true_divide\n",
      "  explained_variance = S ** 2 / (n_total_samples - 1)\n",
      "C:\\Users\\Tavish Aggarwal\\anaconda3\\lib\\site-packages\\sklearn\\decomposition\\_incremental_pca.py:300: RuntimeWarning: invalid value encountered in true_divide\n",
      "  explained_variance = S ** 2 / (n_total_samples - 1)\n",
      "C:\\Users\\Tavish Aggarwal\\anaconda3\\lib\\site-packages\\sklearn\\decomposition\\_incremental_pca.py:301: RuntimeWarning: divide by zero encountered in square\n",
      "  explained_variance_ratio = S ** 2 / np.sum(col_var * n_total_samples)\n",
      "C:\\Users\\Tavish Aggarwal\\anaconda3\\lib\\site-packages\\sklearn\\decomposition\\_incremental_pca.py:301: RuntimeWarning: invalid value encountered in square\n",
      "  explained_variance_ratio = S ** 2 / np.sum(col_var * n_total_samples)\n",
      "C:\\Users\\Tavish Aggarwal\\anaconda3\\lib\\site-packages\\sklearn\\decomposition\\_incremental_pca.py:301: RuntimeWarning: divide by zero encountered in multiply\n",
      "  explained_variance_ratio = S ** 2 / np.sum(col_var * n_total_samples)\n",
      "C:\\Users\\Tavish Aggarwal\\anaconda3\\lib\\site-packages\\sklearn\\decomposition\\_incremental_pca.py:301: RuntimeWarning: invalid value encountered in multiply\n",
      "  explained_variance_ratio = S ** 2 / np.sum(col_var * n_total_samples)\n",
      "C:\\Users\\Tavish Aggarwal\\anaconda3\\lib\\site-packages\\sklearn\\decomposition\\_incremental_pca.py:301: RuntimeWarning: divide by zero encountered in true_divide\n",
      "  explained_variance_ratio = S ** 2 / np.sum(col_var * n_total_samples)\n",
      "C:\\Users\\Tavish Aggarwal\\anaconda3\\lib\\site-packages\\sklearn\\decomposition\\_incremental_pca.py:301: RuntimeWarning: invalid value encountered in true_divide\n",
      "  explained_variance_ratio = S ** 2 / np.sum(col_var * n_total_samples)\n",
      "C:\\Users\\Tavish Aggarwal\\anaconda3\\lib\\site-packages\\numpy\\core\\_methods.py:160: RuntimeWarning: divide by zero encountered in reduce\n",
      "  ret = umr_sum(arr, axis, dtype, out, keepdims)\n",
      "C:\\Users\\Tavish Aggarwal\\anaconda3\\lib\\site-packages\\numpy\\core\\_methods.py:160: RuntimeWarning: invalid value encountered in reduce\n",
      "  ret = umr_sum(arr, axis, dtype, out, keepdims)\n",
      "C:\\Users\\Tavish Aggarwal\\anaconda3\\lib\\site-packages\\numpy\\core\\_methods.py:170: RuntimeWarning: divide by zero encountered in double_scalars\n",
      "  ret = ret.dtype.type(ret / rcount)\n",
      "C:\\Users\\Tavish Aggarwal\\anaconda3\\lib\\site-packages\\numpy\\core\\_methods.py:170: RuntimeWarning: invalid value encountered in double_scalars\n",
      "  ret = ret.dtype.type(ret / rcount)\n",
      "C:\\Users\\Tavish Aggarwal\\anaconda3\\lib\\site-packages\\sklearn\\decomposition\\_base.py:129: RuntimeWarning: divide by zero encountered in subtract\n",
      "  X = X - self.mean_\n",
      "C:\\Users\\Tavish Aggarwal\\anaconda3\\lib\\site-packages\\sklearn\\decomposition\\_base.py:129: RuntimeWarning: invalid value encountered in subtract\n",
      "  X = X - self.mean_\n",
      "C:\\Users\\Tavish Aggarwal\\anaconda3\\lib\\site-packages\\numpy\\core\\arrayprint.py:865: RuntimeWarning: divide by zero encountered in isfinite\n",
      "  finite_vals = data[isfinite(data)]\n",
      "C:\\Users\\Tavish Aggarwal\\anaconda3\\lib\\site-packages\\numpy\\core\\arrayprint.py:865: RuntimeWarning: invalid value encountered in isfinite\n",
      "  finite_vals = data[isfinite(data)]\n",
      "C:\\Users\\Tavish Aggarwal\\anaconda3\\lib\\site-packages\\numpy\\core\\arrayprint.py:868: RuntimeWarning: divide by zero encountered in not_equal\n",
      "  abs_non_zero = absolute(finite_vals[finite_vals != 0])\n",
      "C:\\Users\\Tavish Aggarwal\\anaconda3\\lib\\site-packages\\numpy\\core\\arrayprint.py:868: RuntimeWarning: invalid value encountered in not_equal\n",
      "  abs_non_zero = absolute(finite_vals[finite_vals != 0])\n",
      "C:\\Users\\Tavish Aggarwal\\anaconda3\\lib\\site-packages\\numpy\\core\\arrayprint.py:868: RuntimeWarning: divide by zero encountered in absolute\n",
      "  abs_non_zero = absolute(finite_vals[finite_vals != 0])\n",
      "C:\\Users\\Tavish Aggarwal\\anaconda3\\lib\\site-packages\\numpy\\core\\arrayprint.py:868: RuntimeWarning: invalid value encountered in absolute\n",
      "  abs_non_zero = absolute(finite_vals[finite_vals != 0])\n",
      "C:\\Users\\Tavish Aggarwal\\anaconda3\\lib\\site-packages\\numpy\\core\\fromnumeric.py:87: RuntimeWarning: divide by zero encountered in reduce\n",
      "  return ufunc.reduce(obj, axis, dtype, out, **passkwargs)\n",
      "C:\\Users\\Tavish Aggarwal\\anaconda3\\lib\\site-packages\\numpy\\core\\fromnumeric.py:87: RuntimeWarning: invalid value encountered in reduce\n",
      "  return ufunc.reduce(obj, axis, dtype, out, **passkwargs)\n",
      "C:\\Users\\Tavish Aggarwal\\anaconda3\\lib\\site-packages\\numpy\\core\\arrayprint.py:874: RuntimeWarning: divide by zero encountered in double_scalars\n",
      "  (min_val < 0.0001 or max_val/min_val > 1000.)):\n",
      "C:\\Users\\Tavish Aggarwal\\anaconda3\\lib\\site-packages\\numpy\\core\\arrayprint.py:874: RuntimeWarning: invalid value encountered in double_scalars\n",
      "  (min_val < 0.0001 or max_val/min_val > 1000.)):\n",
      "C:\\Users\\Tavish Aggarwal\\anaconda3\\lib\\site-packages\\numpy\\core\\arrayprint.py:948: RuntimeWarning: divide by zero encountered in isfinite\n",
      "  if not np.isfinite(x):\n",
      "C:\\Users\\Tavish Aggarwal\\anaconda3\\lib\\site-packages\\numpy\\core\\arrayprint.py:948: RuntimeWarning: invalid value encountered in isfinite\n",
      "  if not np.isfinite(x):\n"
     ]
    },
    {
     "data": {
      "text/plain": [
       "array([[-4.60483829, -2.09107915],\n",
       "       [-2.56033762,  0.56077181],\n",
       "       [-0.46248316,  2.31275505],\n",
       "       [ 1.90214026, -0.43460032],\n",
       "       [ 4.05334851,  0.4175152 ],\n",
       "       [ 6.36461814, -1.42997244],\n",
       "       [-2.61369141,  1.46063953],\n",
       "       [-3.32065999,  1.78558558],\n",
       "       [-0.00331096, -0.78604663],\n",
       "       [ 3.45512687,  1.21591224],\n",
       "       [-2.20991235, -3.01148086]])"
      ]
     },
     "execution_count": 40,
     "metadata": {},
     "output_type": "execute_result"
    }
   ],
   "source": [
    "from sklearn.decomposition import IncrementalPCA\n",
    "import pandas as pd\n",
    "\n",
    "a = [[0,0,0],[1,2,3],[2,4,5],[3,6,2],[4,8,3],[5,10,1],[1,2,4],[2,1,5],[3,4,2],[2,8,3],[5,1,1]]\n",
    "b = ['X','Y','Z']\n",
    "data = pd.DataFrame(a,columns = b)\n",
    "\n",
    "n = data.shape[0] # Rows we have in the dataset\n",
    "chunk_size = 5 # Rows we feed to IPCA at a time\n",
    "\n",
    "ipca = IncrementalPCA(n_components=2)\n",
    "ipca.fit_transform(data)\n",
    "\n",
    "# for i in range(0, n//chunk_size):\n",
    "#     ipca.partial_fit(data[i*chunk_size : (i+1)*chunk_size])"
   ]
  },
  {
   "cell_type": "code",
   "execution_count": 25,
   "metadata": {},
   "outputs": [],
   "source": [
    "#Importing the PCA module\n",
    "from sklearn.decomposition import PCA\n",
    "pca = PCA(svd_solver='randomized', random_state=42)"
   ]
  },
  {
   "cell_type": "code",
   "execution_count": 26,
   "metadata": {},
   "outputs": [
    {
     "data": {
      "text/plain": [
       "PCA(copy=True, iterated_power='auto', n_components=None, random_state=42,\n",
       "  svd_solver='randomized', tol=0.0, whiten=False)"
      ]
     },
     "execution_count": 26,
     "metadata": {},
     "output_type": "execute_result"
    }
   ],
   "source": [
    "pca.fit(dat)"
   ]
  },
  {
   "cell_type": "code",
   "execution_count": 27,
   "metadata": {},
   "outputs": [
    {
     "data": {
      "text/plain": [
       "array([[-4.46999485e-01, -8.93998971e-01, -3.09402653e-02],\n",
       "       [-1.38369073e-02, -2.76738146e-02,  9.99521235e-01],\n",
       "       [ 8.94427191e-01, -4.47213595e-01,  9.16794248e-19]])"
      ]
     },
     "execution_count": 27,
     "metadata": {},
     "output_type": "execute_result"
    }
   ],
   "source": [
    "pca.components_"
   ]
  },
  {
   "cell_type": "markdown",
   "metadata": {},
   "source": [
    "### They're weighted linear combinations of the original variables."
   ]
  },
  {
   "cell_type": "code",
   "execution_count": 28,
   "metadata": {},
   "outputs": [
    {
     "data": {
      "text/plain": [
       "(-0.45, -0.89, -0.03)"
      ]
     },
     "execution_count": 28,
     "metadata": {},
     "output_type": "execute_result"
    }
   ],
   "source": [
    "# This value can be represented as a linear combination of the original variables. \n",
    "# The original variables or the original axes are represented by X(1,0,0) , Y(0,1,0) and Z(0,0,1).\n",
    "# [-0.45,-0.89,-0.03] = -0.45[1,0,0] + (-0.89)[0,1,0] + (-0.03)[0,0,1]\n",
    "#     = -0.45X + (-0.89)Y +(-0.03)Z,  which is a linear combination of the original variables\n",
    "lincom  = pca.components_[0]\n",
    "setvec = np.array([[1,0,0],[0,1,0],[0,0,1]])\n",
    "x,y,z = np.linalg.solve(setvec, lincom)\n",
    "round(x,2),round(y,2),round(z,2)"
   ]
  },
  {
   "cell_type": "markdown",
   "metadata": {},
   "source": [
    "### They're perpendicular to each other."
   ]
  },
  {
   "cell_type": "code",
   "execution_count": 29,
   "metadata": {},
   "outputs": [
    {
     "data": {
      "text/plain": [
       "0.0"
      ]
     },
     "execution_count": 29,
     "metadata": {},
     "output_type": "execute_result"
    }
   ],
   "source": [
    "round(np.dot(pca.components_[0],pca.components_[1]))"
   ]
  },
  {
   "cell_type": "markdown",
   "metadata": {},
   "source": [
    "### They capture maximum variance of the data and are ordered."
   ]
  },
  {
   "cell_type": "code",
   "execution_count": 30,
   "metadata": {},
   "outputs": [
    {
     "data": {
      "text/plain": [
       "array([0.85, 0.15, 0.  ])"
      ]
     },
     "execution_count": 30,
     "metadata": {},
     "output_type": "execute_result"
    }
   ],
   "source": [
    "pca.explained_variance_ratio_.round(2)"
   ]
  },
  {
   "cell_type": "code",
   "execution_count": 31,
   "metadata": {},
   "outputs": [
    {
     "data": {
      "text/plain": [
       "array([[ 5.65968752e+00, -2.15925487e+00,  9.12398706e-33],\n",
       "       [ 3.33186930e+00,  7.70124295e-01, -3.68296505e-33],\n",
       "       [ 1.03499134e+00,  2.69998223e+00,  9.85852713e-33],\n",
       "       [-1.10718529e+00, -3.67766013e-01,  4.12990543e-34],\n",
       "       [-3.37312298e+00,  5.62570686e-01,  6.36178963e-33],\n",
       "       [-5.54623988e+00, -1.50565632e+00,  4.98624157e-33]])"
      ]
     },
     "execution_count": 31,
     "metadata": {},
     "output_type": "execute_result"
    }
   ],
   "source": [
    "pca.fit_transform(dat)"
   ]
  },
  {
   "cell_type": "code",
   "execution_count": 32,
   "metadata": {},
   "outputs": [],
   "source": [
    "## Projecting datapoints on Principal Components"
   ]
  },
  {
   "cell_type": "code",
   "execution_count": 33,
   "metadata": {},
   "outputs": [
    {
     "data": {
      "text/html": [
       "<div>\n",
       "<style scoped>\n",
       "    .dataframe tbody tr th:only-of-type {\n",
       "        vertical-align: middle;\n",
       "    }\n",
       "\n",
       "    .dataframe tbody tr th {\n",
       "        vertical-align: top;\n",
       "    }\n",
       "\n",
       "    .dataframe thead th {\n",
       "        text-align: right;\n",
       "    }\n",
       "</style>\n",
       "<table border=\"1\" class=\"dataframe\">\n",
       "  <thead>\n",
       "    <tr style=\"text-align: right;\">\n",
       "      <th></th>\n",
       "      <th>X</th>\n",
       "      <th>Y</th>\n",
       "      <th>Z</th>\n",
       "    </tr>\n",
       "  </thead>\n",
       "  <tbody>\n",
       "    <tr>\n",
       "      <td>0</td>\n",
       "      <td>5.66</td>\n",
       "      <td>-2.16</td>\n",
       "      <td>0.0</td>\n",
       "    </tr>\n",
       "    <tr>\n",
       "      <td>1</td>\n",
       "      <td>3.33</td>\n",
       "      <td>0.77</td>\n",
       "      <td>-0.0</td>\n",
       "    </tr>\n",
       "    <tr>\n",
       "      <td>2</td>\n",
       "      <td>1.03</td>\n",
       "      <td>2.70</td>\n",
       "      <td>0.0</td>\n",
       "    </tr>\n",
       "    <tr>\n",
       "      <td>3</td>\n",
       "      <td>-1.11</td>\n",
       "      <td>-0.37</td>\n",
       "      <td>0.0</td>\n",
       "    </tr>\n",
       "    <tr>\n",
       "      <td>4</td>\n",
       "      <td>-3.37</td>\n",
       "      <td>0.56</td>\n",
       "      <td>0.0</td>\n",
       "    </tr>\n",
       "    <tr>\n",
       "      <td>5</td>\n",
       "      <td>-5.55</td>\n",
       "      <td>-1.51</td>\n",
       "      <td>0.0</td>\n",
       "    </tr>\n",
       "  </tbody>\n",
       "</table>\n",
       "</div>"
      ],
      "text/plain": [
       "      X     Y    Z\n",
       "0  5.66 -2.16  0.0\n",
       "1  3.33  0.77 -0.0\n",
       "2  1.03  2.70  0.0\n",
       "3 -1.11 -0.37  0.0\n",
       "4 -3.37  0.56  0.0\n",
       "5 -5.55 -1.51  0.0"
      ]
     },
     "execution_count": 33,
     "metadata": {},
     "output_type": "execute_result"
    }
   ],
   "source": [
    "#We can directly use the pca function pca.fit_transform\n",
    "#This is equivalent to the basis transformation that we did in last session.\n",
    "\n",
    "dat_new2 = pca.fit_transform(dat)\n",
    "cols = ['X','Y','Z']\n",
    "dat_new3 = pd.DataFrame(dat_new2, columns = cols).round(2)\n",
    "dat_new3"
   ]
  },
  {
   "cell_type": "code",
   "execution_count": 34,
   "metadata": {},
   "outputs": [
    {
     "data": {
      "text/plain": [
       "X    85.145166\n",
       "Y    14.854834\n",
       "Z     0.000000\n",
       "dtype: float64"
      ]
     },
     "execution_count": 34,
     "metadata": {},
     "output_type": "execute_result"
    }
   ],
   "source": [
    "100*np.var(dat_new3)/sum(np.var(dat_new3))"
   ]
  },
  {
   "cell_type": "markdown",
   "metadata": {},
   "source": [
    "### Let's do a final check. Lets see the varince of original data and transformed data"
   ]
  },
  {
   "cell_type": "code",
   "execution_count": 35,
   "metadata": {},
   "outputs": [
    {
     "data": {
      "text/plain": [
       "(17.138888888888886, 17.14266111111111)"
      ]
     },
     "execution_count": 35,
     "metadata": {},
     "output_type": "execute_result"
    }
   ],
   "source": [
    "sum(np.var(dat)), sum(np.var(dat_new3))"
   ]
  },
  {
   "cell_type": "markdown",
   "metadata": {},
   "source": [
    "#### This is what PCA does. It doesn't change the total variance of the dataset. It only rearranges them in the direction of maximum variances"
   ]
  },
  {
   "cell_type": "markdown",
   "metadata": {},
   "source": [
    "## PCA using Eigendecomposition"
   ]
  },
  {
   "cell_type": "code",
   "execution_count": 36,
   "metadata": {},
   "outputs": [
    {
     "data": {
      "text/html": [
       "<div>\n",
       "<style scoped>\n",
       "    .dataframe tbody tr th:only-of-type {\n",
       "        vertical-align: middle;\n",
       "    }\n",
       "\n",
       "    .dataframe tbody tr th {\n",
       "        vertical-align: top;\n",
       "    }\n",
       "\n",
       "    .dataframe thead th {\n",
       "        text-align: right;\n",
       "    }\n",
       "</style>\n",
       "<table border=\"1\" class=\"dataframe\">\n",
       "  <thead>\n",
       "    <tr style=\"text-align: right;\">\n",
       "      <th></th>\n",
       "      <th>X</th>\n",
       "      <th>Y</th>\n",
       "    </tr>\n",
       "  </thead>\n",
       "  <tbody>\n",
       "    <tr>\n",
       "      <td>0</td>\n",
       "      <td>0</td>\n",
       "      <td>0</td>\n",
       "    </tr>\n",
       "    <tr>\n",
       "      <td>1</td>\n",
       "      <td>1</td>\n",
       "      <td>2</td>\n",
       "    </tr>\n",
       "    <tr>\n",
       "      <td>2</td>\n",
       "      <td>2</td>\n",
       "      <td>3</td>\n",
       "    </tr>\n",
       "    <tr>\n",
       "      <td>3</td>\n",
       "      <td>3</td>\n",
       "      <td>6</td>\n",
       "    </tr>\n",
       "    <tr>\n",
       "      <td>4</td>\n",
       "      <td>4</td>\n",
       "      <td>8</td>\n",
       "    </tr>\n",
       "    <tr>\n",
       "      <td>5</td>\n",
       "      <td>5</td>\n",
       "      <td>9</td>\n",
       "    </tr>\n",
       "  </tbody>\n",
       "</table>\n",
       "</div>"
      ],
      "text/plain": [
       "   X  Y\n",
       "0  0  0\n",
       "1  1  2\n",
       "2  2  3\n",
       "3  3  6\n",
       "4  4  8\n",
       "5  5  9"
      ]
     },
     "execution_count": 36,
     "metadata": {},
     "output_type": "execute_result"
    }
   ],
   "source": [
    "#Let's take this dataset\n",
    "a = [[0,0],[1,2],[2,3],[3,6],[4,8],[5,9]]\n",
    "b = ['X','Y']\n",
    "dat = pd.DataFrame(a,columns = b)\n",
    "dat"
   ]
  },
  {
   "cell_type": "code",
   "execution_count": 37,
   "metadata": {},
   "outputs": [
    {
     "data": {
      "text/plain": [
       "array([[ 3.5       ,  6.6       ],\n",
       "       [ 6.6       , 12.66666667]])"
      ]
     },
     "execution_count": 37,
     "metadata": {},
     "output_type": "execute_result"
    }
   ],
   "source": [
    "# A reason as to why we're doing this is to capture the variance of the entire dataset\n",
    "C = np.cov(dat.T)\n",
    "C"
   ]
  },
  {
   "cell_type": "code",
   "execution_count": 38,
   "metadata": {},
   "outputs": [],
   "source": [
    "eigenvalues, eigenvectors = np.linalg.eig(C)"
   ]
  },
  {
   "cell_type": "code",
   "execution_count": 39,
   "metadata": {},
   "outputs": [],
   "source": [
    "# Sorting eigenvectors based on eigen value\n",
    "idx = eigenvalues.argsort()[::-1]   \n",
    "eigenvalues= eigenvalues[idx]\n",
    "eigenvectors = eigenvectors[:,idx]"
   ]
  },
  {
   "cell_type": "markdown",
   "metadata": {},
   "source": [
    "### Let's look at the data points in PC components"
   ]
  },
  {
   "cell_type": "code",
   "execution_count": 40,
   "metadata": {},
   "outputs": [
    {
     "data": {
      "text/html": [
       "<div>\n",
       "<style scoped>\n",
       "    .dataframe tbody tr th:only-of-type {\n",
       "        vertical-align: middle;\n",
       "    }\n",
       "\n",
       "    .dataframe tbody tr th {\n",
       "        vertical-align: top;\n",
       "    }\n",
       "\n",
       "    .dataframe thead th {\n",
       "        text-align: right;\n",
       "    }\n",
       "</style>\n",
       "<table border=\"1\" class=\"dataframe\">\n",
       "  <thead>\n",
       "    <tr style=\"text-align: right;\">\n",
       "      <th></th>\n",
       "      <th>X</th>\n",
       "      <th>Y</th>\n",
       "    </tr>\n",
       "  </thead>\n",
       "  <tbody>\n",
       "    <tr>\n",
       "      <td>0</td>\n",
       "      <td>0.000000</td>\n",
       "      <td>0.000000</td>\n",
       "    </tr>\n",
       "    <tr>\n",
       "      <td>1</td>\n",
       "      <td>-2.235695</td>\n",
       "      <td>0.040821</td>\n",
       "    </tr>\n",
       "    <tr>\n",
       "      <td>2</td>\n",
       "      <td>-3.585277</td>\n",
       "      <td>-0.381825</td>\n",
       "    </tr>\n",
       "    <tr>\n",
       "      <td>3</td>\n",
       "      <td>-6.707086</td>\n",
       "      <td>0.122463</td>\n",
       "    </tr>\n",
       "    <tr>\n",
       "      <td>4</td>\n",
       "      <td>-8.942781</td>\n",
       "      <td>0.163284</td>\n",
       "    </tr>\n",
       "    <tr>\n",
       "      <td>5</td>\n",
       "      <td>-10.292363</td>\n",
       "      <td>-0.259362</td>\n",
       "    </tr>\n",
       "  </tbody>\n",
       "</table>\n",
       "</div>"
      ],
      "text/plain": [
       "           X         Y\n",
       "0   0.000000  0.000000\n",
       "1  -2.235695  0.040821\n",
       "2  -3.585277 -0.381825\n",
       "3  -6.707086  0.122463\n",
       "4  -8.942781  0.163284\n",
       "5 -10.292363 -0.259362"
      ]
     },
     "execution_count": 40,
     "metadata": {},
     "output_type": "execute_result"
    }
   ],
   "source": [
    "Cnew = np.linalg.inv(eigenvectors) @ dat.T\n",
    "cols  = ['X','Y']\n",
    "Cnewt = Cnew.T\n",
    "Cnewt.columns = cols\n",
    "Cnewt"
   ]
  },
  {
   "cell_type": "code",
   "execution_count": 41,
   "metadata": {},
   "outputs": [
    {
     "data": {
      "text/plain": [
       "X    99.703232\n",
       "Y     0.296768\n",
       "dtype: float64"
      ]
     },
     "execution_count": 41,
     "metadata": {},
     "output_type": "execute_result"
    }
   ],
   "source": [
    "100*np.var(Cnewt)/sum(np.var(Cnewt))"
   ]
  },
  {
   "cell_type": "code",
   "execution_count": 42,
   "metadata": {},
   "outputs": [
    {
     "data": {
      "text/plain": [
       "array([[-0.46346747, -0.88611393],\n",
       "       [-0.88611393,  0.46346747]])"
      ]
     },
     "execution_count": 42,
     "metadata": {},
     "output_type": "execute_result"
    }
   ],
   "source": [
    "eigenvectors"
   ]
  },
  {
   "cell_type": "markdown",
   "metadata": {},
   "source": [
    "## Let's compare it to the PCA"
   ]
  },
  {
   "cell_type": "code",
   "execution_count": 59,
   "metadata": {},
   "outputs": [],
   "source": [
    "pca = PCA(svd_solver='randomized', random_state=42)"
   ]
  },
  {
   "cell_type": "code",
   "execution_count": 60,
   "metadata": {},
   "outputs": [
    {
     "data": {
      "text/plain": [
       "PCA(copy=True, iterated_power='auto', n_components=None, random_state=42,\n",
       "  svd_solver='randomized', tol=0.0, whiten=False)"
      ]
     },
     "execution_count": 60,
     "metadata": {},
     "output_type": "execute_result"
    }
   ],
   "source": [
    "pca.fit(dat)"
   ]
  },
  {
   "cell_type": "code",
   "execution_count": 45,
   "metadata": {},
   "outputs": [
    {
     "data": {
      "text/plain": [
       "array([[-0.46346747, -0.88611393],\n",
       "       [ 0.88611393, -0.46346747]])"
      ]
     },
     "execution_count": 45,
     "metadata": {},
     "output_type": "execute_result"
    }
   ],
   "source": [
    "pca.components_"
   ]
  },
  {
   "cell_type": "code",
   "execution_count": 46,
   "metadata": {},
   "outputs": [
    {
     "data": {
      "text/plain": [
       "array([0.99703232, 0.00296768])"
      ]
     },
     "execution_count": 46,
     "metadata": {},
     "output_type": "execute_result"
    }
   ],
   "source": [
    "pca.explained_variance_ratio_"
   ]
  },
  {
   "cell_type": "markdown",
   "metadata": {},
   "source": [
    "## Why?"
   ]
  },
  {
   "cell_type": "markdown",
   "metadata": {},
   "source": [
    "Spectral Theorem. Because of this theorem eigendecomposition of the covariance matrix will always:\n",
    "1. Yield the eigenvectors which are perpendicular to each other \n",
    "2. Have maximum variances allocated to them in an ordered way depending on the magnitude of the eigenvalues.\n",
    "3. These eigenvectors would also be the linear combinations of the original variables as well."
   ]
  },
  {
   "cell_type": "markdown",
   "metadata": {},
   "source": [
    "## Using SVD Function"
   ]
  },
  {
   "cell_type": "code",
   "execution_count": 47,
   "metadata": {},
   "outputs": [],
   "source": [
    "#Let'se use the SVD function from np.linalg library\n",
    "U, s, VT = np.linalg.svd(dat, full_matrices=False)"
   ]
  },
  {
   "cell_type": "code",
   "execution_count": 48,
   "metadata": {},
   "outputs": [
    {
     "data": {
      "text/plain": [
       "array([[ 1.47280506e-17,  2.49365625e-16],\n",
       "       [-1.41730722e-01, -1.12691117e-01],\n",
       "       [-2.27476796e-01,  7.22512837e-01],\n",
       "       [-4.25192165e-01, -3.38073350e-01],\n",
       "       [-5.66922887e-01, -4.50764467e-01],\n",
       "       [-6.52668961e-01,  3.84439487e-01]])"
      ]
     },
     "execution_count": 48,
     "metadata": {},
     "output_type": "execute_result"
    }
   ],
   "source": [
    "U"
   ]
  },
  {
   "cell_type": "code",
   "execution_count": 49,
   "metadata": {},
   "outputs": [
    {
     "data": {
      "text/plain": [
       "array([15.77196179,  0.49519836])"
      ]
     },
     "execution_count": 49,
     "metadata": {},
     "output_type": "execute_result"
    }
   ],
   "source": [
    "s"
   ]
  },
  {
   "cell_type": "code",
   "execution_count": 50,
   "metadata": {},
   "outputs": [
    {
     "data": {
      "text/plain": [
       "array([[-0.46939609, -0.88298772],\n",
       "       [ 0.88298772, -0.46939609]])"
      ]
     },
     "execution_count": 50,
     "metadata": {},
     "output_type": "execute_result"
    }
   ],
   "source": [
    "VT"
   ]
  },
  {
   "cell_type": "code",
   "execution_count": 51,
   "metadata": {},
   "outputs": [
    {
     "data": {
      "text/plain": [
       "array([[-0.46346747, -0.88611393],\n",
       "       [-0.88611393,  0.46346747]])"
      ]
     },
     "execution_count": 51,
     "metadata": {},
     "output_type": "execute_result"
    }
   ],
   "source": [
    "eigenvectors"
   ]
  },
  {
   "cell_type": "code",
   "execution_count": 52,
   "metadata": {},
   "outputs": [
    {
     "data": {
      "text/html": [
       "<div>\n",
       "<style scoped>\n",
       "    .dataframe tbody tr th:only-of-type {\n",
       "        vertical-align: middle;\n",
       "    }\n",
       "\n",
       "    .dataframe tbody tr th {\n",
       "        vertical-align: top;\n",
       "    }\n",
       "\n",
       "    .dataframe thead th {\n",
       "        text-align: right;\n",
       "    }\n",
       "</style>\n",
       "<table border=\"1\" class=\"dataframe\">\n",
       "  <thead>\n",
       "    <tr style=\"text-align: right;\">\n",
       "      <th></th>\n",
       "      <th>0</th>\n",
       "      <th>1</th>\n",
       "    </tr>\n",
       "  </thead>\n",
       "  <tbody>\n",
       "    <tr>\n",
       "      <td>0</td>\n",
       "      <td>0.000000</td>\n",
       "      <td>0.000000</td>\n",
       "    </tr>\n",
       "    <tr>\n",
       "      <td>1</td>\n",
       "      <td>-2.235695</td>\n",
       "      <td>0.040821</td>\n",
       "    </tr>\n",
       "    <tr>\n",
       "      <td>2</td>\n",
       "      <td>-3.585277</td>\n",
       "      <td>-0.381825</td>\n",
       "    </tr>\n",
       "    <tr>\n",
       "      <td>3</td>\n",
       "      <td>-6.707086</td>\n",
       "      <td>0.122463</td>\n",
       "    </tr>\n",
       "    <tr>\n",
       "      <td>4</td>\n",
       "      <td>-8.942781</td>\n",
       "      <td>0.163284</td>\n",
       "    </tr>\n",
       "    <tr>\n",
       "      <td>5</td>\n",
       "      <td>-10.292363</td>\n",
       "      <td>-0.259362</td>\n",
       "    </tr>\n",
       "  </tbody>\n",
       "</table>\n",
       "</div>"
      ],
      "text/plain": [
       "           0         1\n",
       "0   0.000000  0.000000\n",
       "1  -2.235695  0.040821\n",
       "2  -3.585277 -0.381825\n",
       "3  -6.707086  0.122463\n",
       "4  -8.942781  0.163284\n",
       "5 -10.292363 -0.259362"
      ]
     },
     "execution_count": 52,
     "metadata": {},
     "output_type": "execute_result"
    }
   ],
   "source": [
    "# Project the data now by doing the basis transformation\n",
    "datn = np.linalg.inv(eigenvectors) @ dat.T\n",
    "datn.T"
   ]
  },
  {
   "cell_type": "code",
   "execution_count": 53,
   "metadata": {},
   "outputs": [
    {
     "data": {
      "text/plain": [
       "array([[ 2.32290252e-16,  1.23485448e-16],\n",
       "       [-2.23537153e+00, -5.58044561e-02],\n",
       "       [-3.58775534e+00,  3.57787172e-01],\n",
       "       [-6.70611458e+00, -1.67413368e-01],\n",
       "       [-8.94148611e+00, -2.23217825e-01],\n",
       "       [-1.02938699e+01,  1.90373803e-01]])"
      ]
     },
     "execution_count": 53,
     "metadata": {},
     "output_type": "execute_result"
    }
   ],
   "source": [
    "# convert s matrix to a diagonal one\n",
    "o = U @ np.array([[15.77196179,0],[0,0.49519836]])\n",
    "o"
   ]
  },
  {
   "cell_type": "markdown",
   "metadata": {},
   "source": [
    "#### U.s = Representing the datapoints in the Principal components"
   ]
  },
  {
   "cell_type": "markdown",
   "metadata": {},
   "source": [
    "- SVD overcomes the main problem of eigendecomposition where the matrix needs to be square and diagonalizable.\n",
    "\n",
    "- SVD enables us to decompose the data to find hidden themes in a more succint way"
   ]
  },
  {
   "cell_type": "markdown",
   "metadata": {},
   "source": [
    "## Screeplots"
   ]
  },
  {
   "cell_type": "code",
   "execution_count": 61,
   "metadata": {},
   "outputs": [
    {
     "data": {
      "image/png": "[encoded data removed]",
      "text/plain": [
       "<Figure size 864x576 with 1 Axes>"
      ]
     },
     "metadata": {
      "needs_background": "light"
     },
     "output_type": "display_data"
    }
   ],
   "source": [
    "%matplotlib inline\n",
    "fig = plt.figure(figsize = (12,8))\n",
    "plt.plot(np.cumsum(pca.explained_variance_ratio_))\n",
    "plt.xlabel('number of components')\n",
    "plt.ylabel('cumulative explained variance')\n",
    "plt.show()"
   ]
  },
  {
   "cell_type": "code",
   "execution_count": 55,
   "metadata": {},
   "outputs": [],
   "source": [
    "ratings = pd.read_csv(\"Ratings/Book-Ratings.csv\")"
   ]
  },
  {
   "cell_type": "code",
   "execution_count": 56,
   "metadata": {},
   "outputs": [],
   "source": [
    "pca = PCA(svd_solver='randomized', random_state=42)"
   ]
  },
  {
   "cell_type": "code",
   "execution_count": 57,
   "metadata": {},
   "outputs": [
    {
     "data": {
      "text/plain": [
       "PCA(copy=True, iterated_power='auto', n_components=None, random_state=42,\n",
       "  svd_solver='randomized', tol=0.0, whiten=False)"
      ]
     },
     "execution_count": 57,
     "metadata": {},
     "output_type": "execute_result"
    }
   ],
   "source": [
    "pca.fit(ratings)"
   ]
  },
  {
   "cell_type": "code",
   "execution_count": 58,
   "metadata": {},
   "outputs": [
    {
     "data": {
      "image/png": "[encoded data removed]",
      "text/plain": [
       "<Figure size 864x576 with 1 Axes>"
      ]
     },
     "metadata": {
      "needs_background": "light"
     },
     "output_type": "display_data"
    }
   ],
   "source": [
    "%matplotlib inline\n",
    "fig = plt.figure(figsize = (12,8))\n",
    "plt.plot(np.cumsum(pca.explained_variance_ratio_))\n",
    "plt.xlabel('number of components')\n",
    "plt.ylabel('cumulative explained variance')\n",
    "plt.show()"
   ]
  },
  {
   "cell_type": "code",
   "execution_count": 71,
   "metadata": {},
   "outputs": [],
   "source": [
    "# 3 principal components are sufficient in explaining 98 % of the variance."
   ]
  },
  {
   "cell_type": "code",
   "execution_count": 10,
   "metadata": {},
   "outputs": [],
   "source": [
    "# Define a datapoints in the original coordinate system\n",
    "a = [[1,2],[-2,3],[-2,1],[3,7],[4,5],[6,4]]\n",
    "b = ['X','Y']\n",
    "c = pd.DataFrame(a,columns = b)\n",
    "\n",
    "# Define the new origin\n",
    "origin = np.array([[0.8,-0.6],[0.6,0.8]])"
   ]
  },
  {
   "cell_type": "code",
   "execution_count": 13,
   "metadata": {},
   "outputs": [
    {
     "ename": "ValueError",
     "evalue": "operands could not be broadcast together with shapes (2,6) (2,2) ",
     "output_type": "error",
     "traceback": [
      "\u001b[1;31m---------------------------------------------------------------------------\u001b[0m",
      "\u001b[1;31mValueError\u001b[0m                                Traceback (most recent call last)",
      "\u001b[1;32m<ipython-input-13-f91ac96ff83f>\u001b[0m in \u001b[0;36m<module>\u001b[1;34m\u001b[0m\n\u001b[1;32m----> 1\u001b[1;33m \u001b[0mv_shifted\u001b[0m \u001b[1;33m=\u001b[0m \u001b[1;33m(\u001b[0m\u001b[0mc\u001b[0m\u001b[1;33m.\u001b[0m\u001b[0mvalues\u001b[0m\u001b[1;33m)\u001b[0m\u001b[1;33m.\u001b[0m\u001b[0mT\u001b[0m \u001b[1;33m-\u001b[0m \u001b[0morigin\u001b[0m\u001b[1;33m\u001b[0m\u001b[1;33m\u001b[0m\u001b[0m\n\u001b[0m",
      "\u001b[1;31mValueError\u001b[0m: operands could not be broadcast together with shapes (2,6) (2,2) "
     ]
    }
   ],
   "source": [
    "v_shifted = (c.values).T - origin"
   ]
  },
  {
   "cell_type": "code",
   "execution_count": 14,
   "metadata": {},
   "outputs": [
    {
     "name": "stdout",
     "output_type": "stream",
     "text": [
      "Original vector: [1 1]\n",
      "Shifted vector: [-1 -1]\n"
     ]
    }
   ],
   "source": [
    "import numpy as np\n",
    "\n",
    "# Define a vector in the original coordinate system\n",
    "v = np.array([1, 1])\n",
    "\n",
    "# Define the new origin\n",
    "origin = np.array([2, 2])\n",
    "\n",
    "# Shift the origin of the vector\n",
    "v_shifted = v - origin\n",
    "\n",
    "# Print the results\n",
    "print(\"Original vector:\", v)\n",
    "print(\"Shifted vector:\", v_shifted)"
   ]
  },
  {
   "cell_type": "code",
   "execution_count": 7,
   "metadata": {},
   "outputs": [
    {
     "name": "stdout",
     "output_type": "stream",
     "text": [
      "Old basis vector: [1 1]\n",
      "New basis vector: [-1.  1.]\n"
     ]
    }
   ],
   "source": [
    "import numpy as np\n",
    "\n",
    "# Define a basis matrix\n",
    "B = np.array([[1, 2], [3, 4]])\n",
    "\n",
    "# Define a vector in the old basis\n",
    "v_old = np.array([1, 1])\n",
    "\n",
    "# Transform the basis matrix\n",
    "P = np.linalg.inv(B)\n",
    "\n",
    "# Transform the vector to the new basis\n",
    "v_new = np.dot(P, v_old)\n",
    "\n",
    "# Print the results\n",
    "print(\"Old basis vector:\", v_old)\n",
    "print(\"New basis vector:\", v_new)"
   ]
  },
  {
   "cell_type": "code",
   "execution_count": 8,
   "metadata": {},
   "outputs": [
    {
     "data": {
      "text/plain": [
       "array([[ 2. ,  1. ],\n",
       "       [ 0.2,  3.6],\n",
       "       [-1. ,  2. ],\n",
       "       [ 6.6,  3.8],\n",
       "       [ 6.2,  1.6],\n",
       "       [ 7.2, -0.4]])"
      ]
     },
     "execution_count": 8,
     "metadata": {},
     "output_type": "execute_result"
    }
   ],
   "source": [
    "L = np.array([[0.8,-0.6],[0.6,0.8]])\n",
    "\n",
    "#Finding the inverse and then using the transformation on the given set of points.\n",
    "Ld = np.linalg.inv(L)\n",
    "\n",
    "\n",
    "a = [[1,2],[-2,3],[-2,1],[3,7],[4,5],[6,4]]\n",
    "b = ['X','Y']\n",
    "c = pd.DataFrame(a,columns = b)\n",
    "\n",
    "d  = np.dot(Ld, (c.values).T)\n",
    "d.T"
   ]
  },
  {
   "cell_type": "code",
   "execution_count": null,
   "metadata": {},
   "outputs": [],
   "source": []
  }
 ],
 "metadata": {
  "kernelspec": {
   "display_name": "Python 3",
   "language": "python",
   "name": "python3"
  },
  "language_info": {
   "codemirror_mode": {
    "name": "ipython",
    "version": 3
   },
   "file_extension": ".py",
   "mimetype": "text/x-python",
   "name": "python",
   "nbconvert_exporter": "python",
   "pygments_lexer": "ipython3",
   "version": "3.8.8"
  }
 },
 "nbformat": 4,
 "nbformat_minor": 2
}
