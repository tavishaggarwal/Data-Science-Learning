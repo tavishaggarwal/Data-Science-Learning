{
 "cells": [
  {
   "cell_type": "markdown",
   "metadata": {},
   "source": [
    "## Importing packages"
   ]
  },
  {
   "cell_type": "code",
   "execution_count": 1,
   "metadata": {},
   "outputs": [],
   "source": [
    "import pandas as pd\n",
    "\n",
    "from bokeh.plotting import figure, ColumnDataSource\n",
    "from bokeh.io import output_file, show\n",
    "from bokeh.models import HoverTool, CategoricalColorMapper\n",
    "from bokeh.layouts import column, row, gridplot\n",
    "from bokeh.models.widgets import Tabs, Panel"
   ]
  },
  {
   "cell_type": "code",
   "execution_count": 2,
   "metadata": {},
   "outputs": [],
   "source": [
    "housePropertyDataset = pd.read_csv('house_property_sales.csv')"
   ]
  },
  {
   "cell_type": "markdown",
   "metadata": {
    "scrolled": true
   },
   "source": [
    "## Glyph in Bokeh packages\n",
    "There are glyphs like line, circle, cross and lot more available in bokeh package"
   ]
  },
  {
   "cell_type": "code",
   "execution_count": 3,
   "metadata": {},
   "outputs": [],
   "source": [
    "p = figure(x_axis_label='Garbage Area', y_axis_label='Sales Price', tools='box_select')\n",
    "\n",
    "p.circle(x=housePropertyDataset['GarageArea'], y=housePropertyDataset['SalePrice'], size=5, selection_color='green', \n",
    "         nonselection_alpha=0.1, color='red', alpha=0.5)\n",
    "\n",
    "output_file('out_sales_price_garbage_area.html')\n",
    "show(p)"
   ]
  },
  {
   "cell_type": "markdown",
   "metadata": {},
   "source": [
    "## Column Data Source"
   ]
  },
  {
   "cell_type": "code",
   "execution_count": 4,
   "metadata": {},
   "outputs": [],
   "source": [
    "p = figure(x_axis_label='Garbage Area', y_axis_label='Sales Price')\n",
    "source = ColumnDataSource(housePropertyDataset)\n",
    "p.circle(x= 'GarageArea', y = 'SalePrice', source=source)\n",
    "output_file('out_sales_price_garbage_area_cds.html')\n",
    "show(p)"
   ]
  },
  {
   "cell_type": "markdown",
   "metadata": {},
   "source": [
    "## Hover Tool"
   ]
  },
  {
   "cell_type": "code",
   "execution_count": 5,
   "metadata": {},
   "outputs": [],
   "source": [
    "p = figure(x_axis_label='Garbage Area', y_axis_label='Sales Price')\n",
    "source = ColumnDataSource(housePropertyDataset)\n",
    "p.circle(x='GarageArea', y='SalePrice', size=10,\n",
    "         fill_color='grey', alpha=0.1, line_color=None,\n",
    "         hover_fill_color='firebrick', hover_alpha=0.5,\n",
    "         hover_line_color='white', source=source)\n",
    "\n",
    "hover = HoverTool(tooltips=[('sales price', '@SalePrice'),\n",
    "                           ('Condition', '@SaleCondition')])\n",
    "p.add_tools(hover)\n",
    "\n",
    "output_file('out_sales_price_garbage_area_ht.html')\n",
    "show(p)"
   ]
  },
  {
   "cell_type": "markdown",
   "metadata": {},
   "source": [
    "## Colormapping"
   ]
  },
  {
   "cell_type": "code",
   "execution_count": 6,
   "metadata": {},
   "outputs": [],
   "source": [
    "p = figure(x_axis_label='Installment Commitment', y_axis_label='Credit Amount')\n",
    "source = ColumnDataSource(housePropertyDataset)\n",
    "\n",
    "color_mapper = CategoricalColorMapper(factors=['GasA', 'GasW', 'Grav', 'Wall', 'OthW', 'Floor'],\n",
    "                                      palette=['red', 'green', 'orange', 'blue', 'pink', 'yellow'])\n",
    "\n",
    "p.circle(x='GarageArea', y='SalePrice', source=source, \n",
    "         color=dict(field='Heating', transform=color_mapper), legend='Heating')\n",
    "\n",
    "hover = HoverTool(tooltips= [('Heating','@Heating')], mode='hline')\n",
    "p.add_tools(hover)\n",
    "p.legend.location = 'top_right'\n",
    "p.legend.background_fill_color = 'lightgray'\n",
    "output_file('out_credit_score.html')\n",
    "show(p)"
   ]
  },
  {
   "cell_type": "markdown",
   "metadata": {},
   "source": [
    "## Sample figures from cars dataset"
   ]
  },
  {
   "cell_type": "code",
   "execution_count": 7,
   "metadata": {},
   "outputs": [
    {
     "data": {
      "text/html": [
       "<div style=\"display: table;\"><div style=\"display: table-row;\"><div style=\"display: table-cell;\"><b title=\"bokeh.models.renderers.GlyphRenderer\">GlyphRenderer</b>(</div><div style=\"display: table-cell;\">id&nbsp;=&nbsp;'369371c5-262e-4d7e-9c3f-cf4d0c08d639', <span id=\"379e7c06-813f-44de-b461-ed9bafb35cfa\" style=\"cursor: pointer;\">&hellip;)</span></div></div><div class=\"ccc72bcc-a587-49a3-a71e-49ccaa056075\" style=\"display: none;\"><div style=\"display: table-cell;\"></div><div style=\"display: table-cell;\">data_source&nbsp;=&nbsp;ColumnDataSource(id='e657c55e-842a-48d7-ae8a-3fae497b3cc9', ...),</div></div><div class=\"ccc72bcc-a587-49a3-a71e-49ccaa056075\" style=\"display: none;\"><div style=\"display: table-cell;\"></div><div style=\"display: table-cell;\">glyph&nbsp;=&nbsp;X(id='950858d6-b05a-4a60-ac48-1b8cd0b519ed', ...),</div></div><div class=\"ccc72bcc-a587-49a3-a71e-49ccaa056075\" style=\"display: none;\"><div style=\"display: table-cell;\"></div><div style=\"display: table-cell;\">hover_glyph&nbsp;=&nbsp;None,</div></div><div class=\"ccc72bcc-a587-49a3-a71e-49ccaa056075\" style=\"display: none;\"><div style=\"display: table-cell;\"></div><div style=\"display: table-cell;\">js_event_callbacks&nbsp;=&nbsp;{},</div></div><div class=\"ccc72bcc-a587-49a3-a71e-49ccaa056075\" style=\"display: none;\"><div style=\"display: table-cell;\"></div><div style=\"display: table-cell;\">js_property_callbacks&nbsp;=&nbsp;{},</div></div><div class=\"ccc72bcc-a587-49a3-a71e-49ccaa056075\" style=\"display: none;\"><div style=\"display: table-cell;\"></div><div style=\"display: table-cell;\">level&nbsp;=&nbsp;'glyph',</div></div><div class=\"ccc72bcc-a587-49a3-a71e-49ccaa056075\" style=\"display: none;\"><div style=\"display: table-cell;\"></div><div style=\"display: table-cell;\">muted&nbsp;=&nbsp;False,</div></div><div class=\"ccc72bcc-a587-49a3-a71e-49ccaa056075\" style=\"display: none;\"><div style=\"display: table-cell;\"></div><div style=\"display: table-cell;\">muted_glyph&nbsp;=&nbsp;None,</div></div><div class=\"ccc72bcc-a587-49a3-a71e-49ccaa056075\" style=\"display: none;\"><div style=\"display: table-cell;\"></div><div style=\"display: table-cell;\">name&nbsp;=&nbsp;None,</div></div><div class=\"ccc72bcc-a587-49a3-a71e-49ccaa056075\" style=\"display: none;\"><div style=\"display: table-cell;\"></div><div style=\"display: table-cell;\">nonselection_glyph&nbsp;=&nbsp;X(id='93ec9173-4b23-4db3-b1cf-16445311bbd0', ...),</div></div><div class=\"ccc72bcc-a587-49a3-a71e-49ccaa056075\" style=\"display: none;\"><div style=\"display: table-cell;\"></div><div style=\"display: table-cell;\">selection_glyph&nbsp;=&nbsp;None,</div></div><div class=\"ccc72bcc-a587-49a3-a71e-49ccaa056075\" style=\"display: none;\"><div style=\"display: table-cell;\"></div><div style=\"display: table-cell;\">subscribed_events&nbsp;=&nbsp;[],</div></div><div class=\"ccc72bcc-a587-49a3-a71e-49ccaa056075\" style=\"display: none;\"><div style=\"display: table-cell;\"></div><div style=\"display: table-cell;\">tags&nbsp;=&nbsp;[],</div></div><div class=\"ccc72bcc-a587-49a3-a71e-49ccaa056075\" style=\"display: none;\"><div style=\"display: table-cell;\"></div><div style=\"display: table-cell;\">view&nbsp;=&nbsp;CDSView(id='80d9033d-c8b6-43b0-9373-f32edb9a74c6', ...),</div></div><div class=\"ccc72bcc-a587-49a3-a71e-49ccaa056075\" style=\"display: none;\"><div style=\"display: table-cell;\"></div><div style=\"display: table-cell;\">visible&nbsp;=&nbsp;True,</div></div><div class=\"ccc72bcc-a587-49a3-a71e-49ccaa056075\" style=\"display: none;\"><div style=\"display: table-cell;\"></div><div style=\"display: table-cell;\">x_range_name&nbsp;=&nbsp;'default',</div></div><div class=\"ccc72bcc-a587-49a3-a71e-49ccaa056075\" style=\"display: none;\"><div style=\"display: table-cell;\"></div><div style=\"display: table-cell;\">y_range_name&nbsp;=&nbsp;'default')</div></div></div>\n",
       "<script>\n",
       "(function() {\n",
       "  var expanded = false;\n",
       "  var ellipsis = document.getElementById(\"379e7c06-813f-44de-b461-ed9bafb35cfa\");\n",
       "  ellipsis.addEventListener(\"click\", function() {\n",
       "    var rows = document.getElementsByClassName(\"ccc72bcc-a587-49a3-a71e-49ccaa056075\");\n",
       "    for (var i = 0; i < rows.length; i++) {\n",
       "      var el = rows[i];\n",
       "      el.style.display = expanded ? \"none\" : \"table-row\";\n",
       "    }\n",
       "    ellipsis.innerHTML = expanded ? \"&hellip;)\" : \"&lsaquo;&lsaquo;&lsaquo;\";\n",
       "    expanded = !expanded;\n",
       "  });\n",
       "})();\n",
       "</script>\n"
      ],
      "text/plain": [
       "GlyphRenderer(id='369371c5-262e-4d7e-9c3f-cf4d0c08d639', ...)"
      ]
     },
     "execution_count": 7,
     "metadata": {},
     "output_type": "execute_result"
    }
   ],
   "source": [
    "source = ColumnDataSource(housePropertyDataset)\n",
    "\n",
    "p1 = figure(x_axis_label='Garbage Area', y_axis_label='Sales Price')\n",
    "p1.circle(x='GarageArea', y='SalePrice', source=source)\n",
    "\n",
    "p2 = figure(x_axis_label='Overall Qualification', y_axis_label='Sales Price')\n",
    "p2.circle(x='OverallQual', y='SalePrice', source=source)\n",
    "\n",
    "p3 = figure(x_axis_label='Total Basement Area', y_axis_label='Sales Price')\n",
    "p3.circle(x='TotalBsmtSF', y='SalePrice', source=source)\n",
    "\n",
    "p4 = figure(x_axis_label='Year Remod Add', y_axis_label='Sales Price')\n",
    "p4.x(x='YearRemodAdd', y='SalePrice', source=source)\n"
   ]
  },
  {
   "cell_type": "markdown",
   "metadata": {},
   "source": [
    "## Rows and Columns "
   ]
  },
  {
   "cell_type": "code",
   "execution_count": 8,
   "metadata": {},
   "outputs": [],
   "source": [
    "layout = column(row(p1, p2), row(p3, p4))\n",
    "output_file('out_column_row.html')\n",
    "show(layout)"
   ]
  },
  {
   "cell_type": "markdown",
   "metadata": {},
   "source": [
    "## Gridplots\n",
    "If you would have noticed the above output is simillar to grid. So why not use gridplot function?"
   ]
  },
  {
   "cell_type": "code",
   "execution_count": 9,
   "metadata": {},
   "outputs": [],
   "source": [
    "row1  = [p1, p2]\n",
    "row2  = [p3, p4]\n",
    "\n",
    "layout = gridplot([row1, row2])\n",
    "\n",
    "output_file('out_grid_output.html')\n",
    "show(layout)"
   ]
  },
  {
   "cell_type": "markdown",
   "metadata": {},
   "source": [
    "## Sharing Axes"
   ]
  },
  {
   "cell_type": "code",
   "execution_count": 10,
   "metadata": {},
   "outputs": [],
   "source": [
    "p1.y_range = p2.y_range\n",
    "row1  = [p1, p2]\n",
    "\n",
    "layout = gridplot([row1])\n",
    "\n",
    "output_file('out_shared_axes_output.html')\n",
    "show(layout)"
   ]
  },
  {
   "cell_type": "markdown",
   "metadata": {},
   "source": [
    "## Tabbed Layout\n",
    "We can also create a tabbed view of the plots for much better user experience."
   ]
  },
  {
   "cell_type": "code",
   "execution_count": 11,
   "metadata": {},
   "outputs": [],
   "source": [
    "# Create tab1 from plot p1: tab1\n",
    "tab1 = Panel(child=p1, title='Garbage Area vs Sales Price curve')\n",
    "\n",
    "# Create tab2 from plot p2: tab2\n",
    "tab2 = Panel(child=p2, title='Overall Qualification vs Sales Price curve')\n",
    "\n",
    "# Create tab3 from plot p3: tab3\n",
    "tab3 = Panel(child=p3, title='Total Basement Area vs Sales Price curve')\n",
    "\n",
    "# Create tab4 from plot p4: tab4\n",
    "tab4 = Panel(child=p4, title='Year Remod Add vs Sales Price curve')\n",
    "\n",
    "# Create a Tabs layout: layout\n",
    "layout = Tabs(tabs=[tab1, tab2, tab3, tab4])\n",
    "\n",
    "# Specify the name of the output_file and show the result\n",
    "output_file('out_tabs_output.html')\n",
    "show(layout)"
   ]
  },
  {
   "cell_type": "code",
   "execution_count": null,
   "metadata": {},
   "outputs": [],
   "source": []
  }
 ],
 "metadata": {
  "kernelspec": {
   "display_name": "Python 3",
   "language": "python",
   "name": "python3"
  },
  "language_info": {
   "codemirror_mode": {
    "name": "ipython",
    "version": 3
   },
   "file_extension": ".py",
   "mimetype": "text/x-python",
   "name": "python",
   "nbconvert_exporter": "python",
   "pygments_lexer": "ipython3",
   "version": "3.6.4"
  }
 },
 "nbformat": 4,
 "nbformat_minor": 2
}
